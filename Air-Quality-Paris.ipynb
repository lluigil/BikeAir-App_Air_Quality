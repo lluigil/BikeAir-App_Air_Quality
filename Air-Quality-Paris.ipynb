{
 "cells": [
  {
   "cell_type": "code",
   "execution_count": 1,
   "metadata": {},
   "outputs": [],
   "source": [
    "# Import the libraries\n",
    "\n",
    "import pandas as pd\n",
    "import datetime as dt\n",
    "import plotly.express as px"
   ]
  },
  {
   "cell_type": "markdown",
   "metadata": {},
   "source": [
    "The objective is to retrieve the following data live from NASA: https://earthdata.nasa.gov/learn/pathfinders/covid-19/environmental-impacts\n",
    "1) Aerosol Optical Depth/Thickness\n",
    "2) Nitrogen Dioxide\n",
    "3) Carbon Monoxide\n",
    "4) Ozone\n",
    "After the analysis that follows, we identified that we only need to retrieve the Nitrogen Dioxide (NO2) for our application."
   ]
  },
  {
   "cell_type": "code",
   "execution_count": 2,
   "metadata": {},
   "outputs": [],
   "source": [
    "# The variables\n",
    "kpis = [\"co\", \"dew\", \"no2\", \"o3\", \"pm10\", \"pm25\", \"so2\"]\n",
    "\n",
    "# We will compare january to may 2019 and january to may 2020 for the city of Paris\n",
    "start_date_2019 = dt.datetime(2019, 1, 1, 0, 0, 0, 0)\n",
    "end_date_2019 = dt.datetime(2019, 5, 20, 0, 0, 0, 0)\n",
    "start_date_2020 = dt.datetime(2020, 1, 1, 0, 0, 0, 0)\n",
    "end_date_2020 = dt.datetime(2020, 5, 20, 0, 0, 0, 0)"
   ]
  },
  {
   "cell_type": "code",
   "execution_count": 5,
   "metadata": {},
   "outputs": [],
   "source": [
    "def load_data(period):\n",
    "    \"\"\"\n",
    "    :param\n",
    "    period - string file ending for the needed period for load\n",
    "    :returns\n",
    "    returns raw data frame for the selected period\n",
    "    \"\"\"\n",
    "    data = pd.read_csv(f\"Datasets/covid19-data-{period}.csv\", encoding='ISO-8859-1')\n",
    "    data['Date'] = pd.to_datetime(data['Date'])\n",
    "    return data\n",
    "\n",
    "def consolidate_data(df_list):\n",
    "    \"\"\"\n",
    "    :param\n",
    "    df_list - list of pandas dataframes to concatenate\n",
    "    :returns\n",
    "    full_data - consolidated pandas dataframe\n",
    "    \"\"\"\n",
    "    full_data = pd.concat(df_list)\n",
    "    return full_data\n",
    "    \n",
    "def clean_data(data, start_date, end_date, kpis):\n",
    "    \"\"\"\n",
    "    data - raw pandas df\n",
    "    start_data - datetime, start date for filtering\n",
    "    end_date - datetime, end date for filtering\n",
    "    kpis - list of variables\n",
    "    \"\"\"\n",
    "    clean_data = data[data.Specie.isin(kpis) &\n",
    "                    (data['Date'] > start_date) &\n",
    "                    (data['Date'] < end_date)].copy()\n",
    "    return clean_data"
   ]
  },
  {
   "cell_type": "code",
   "execution_count": 6,
   "metadata": {},
   "outputs": [],
   "source": [
    "# Extracting data from files\n",
    "data2019Q1 = load_data('2019Q1')\n",
    "data2019Q2 = load_data('2019Q2')\n",
    "data2020 = load_data('2020')\n",
    "\n",
    "#Combining data\n",
    "data2019 = consolidate_data([data2019Q1, data2019Q2])\n",
    "clean_data2019 = clean_data(data2019, start_date_2019, end_date_2019, kpis)\n",
    "clean_data2020 = clean_data(data2020, start_date_2020, end_date_2020, kpis)"
   ]
  },
  {
   "cell_type": "code",
   "execution_count": 7,
   "metadata": {},
   "outputs": [
    {
     "data": {
      "text/html": [
       "<div>\n",
       "<style scoped>\n",
       "    .dataframe tbody tr th:only-of-type {\n",
       "        vertical-align: middle;\n",
       "    }\n",
       "\n",
       "    .dataframe tbody tr th {\n",
       "        vertical-align: top;\n",
       "    }\n",
       "\n",
       "    .dataframe thead th {\n",
       "        text-align: right;\n",
       "    }\n",
       "</style>\n",
       "<table border=\"1\" class=\"dataframe\">\n",
       "  <thead>\n",
       "    <tr style=\"text-align: right;\">\n",
       "      <th></th>\n",
       "      <th>Date</th>\n",
       "      <th>Country</th>\n",
       "      <th>City</th>\n",
       "      <th>Specie</th>\n",
       "      <th>count</th>\n",
       "      <th>min</th>\n",
       "      <th>max</th>\n",
       "      <th>median</th>\n",
       "      <th>variance</th>\n",
       "    </tr>\n",
       "  </thead>\n",
       "  <tbody>\n",
       "    <tr>\n",
       "      <th>292</th>\n",
       "      <td>2020-04-18</td>\n",
       "      <td>BE</td>\n",
       "      <td>LiÃ¨ge</td>\n",
       "      <td>o3</td>\n",
       "      <td>70</td>\n",
       "      <td>4.5</td>\n",
       "      <td>34.2</td>\n",
       "      <td>19.1</td>\n",
       "      <td>703.76</td>\n",
       "    </tr>\n",
       "    <tr>\n",
       "      <th>293</th>\n",
       "      <td>2020-04-29</td>\n",
       "      <td>BE</td>\n",
       "      <td>LiÃ¨ge</td>\n",
       "      <td>o3</td>\n",
       "      <td>70</td>\n",
       "      <td>11.0</td>\n",
       "      <td>34.2</td>\n",
       "      <td>27.3</td>\n",
       "      <td>435.14</td>\n",
       "    </tr>\n",
       "    <tr>\n",
       "      <th>295</th>\n",
       "      <td>2020-03-22</td>\n",
       "      <td>BE</td>\n",
       "      <td>LiÃ¨ge</td>\n",
       "      <td>o3</td>\n",
       "      <td>71</td>\n",
       "      <td>18.3</td>\n",
       "      <td>32.9</td>\n",
       "      <td>26.4</td>\n",
       "      <td>118.68</td>\n",
       "    </tr>\n",
       "    <tr>\n",
       "      <th>296</th>\n",
       "      <td>2020-04-07</td>\n",
       "      <td>BE</td>\n",
       "      <td>LiÃ¨ge</td>\n",
       "      <td>o3</td>\n",
       "      <td>69</td>\n",
       "      <td>1.3</td>\n",
       "      <td>39.4</td>\n",
       "      <td>24.8</td>\n",
       "      <td>1423.84</td>\n",
       "    </tr>\n",
       "    <tr>\n",
       "      <th>297</th>\n",
       "      <td>2020-04-19</td>\n",
       "      <td>BE</td>\n",
       "      <td>LiÃ¨ge</td>\n",
       "      <td>o3</td>\n",
       "      <td>71</td>\n",
       "      <td>2.1</td>\n",
       "      <td>32.9</td>\n",
       "      <td>17.1</td>\n",
       "      <td>547.19</td>\n",
       "    </tr>\n",
       "  </tbody>\n",
       "</table>\n",
       "</div>"
      ],
      "text/plain": [
       "          Date Country    City Specie  count   min   max  median  variance\n",
       "292 2020-04-18      BE  LiÃ¨ge     o3     70   4.5  34.2    19.1    703.76\n",
       "293 2020-04-29      BE  LiÃ¨ge     o3     70  11.0  34.2    27.3    435.14\n",
       "295 2020-03-22      BE  LiÃ¨ge     o3     71  18.3  32.9    26.4    118.68\n",
       "296 2020-04-07      BE  LiÃ¨ge     o3     69   1.3  39.4    24.8   1423.84\n",
       "297 2020-04-19      BE  LiÃ¨ge     o3     71   2.1  32.9    17.1    547.19"
      ]
     },
     "execution_count": 7,
     "metadata": {},
     "output_type": "execute_result"
    }
   ],
   "source": [
    "clean_data2020.head()"
   ]
  },
  {
   "cell_type": "markdown",
   "metadata": {},
   "source": [
    "# Identify interesting variables to compare\n",
    "We will plot a Radar plot will all the variables for Paris for the years 2019 and 2020 (for the same period of time: January to May)"
   ]
  },
  {
   "cell_type": "code",
   "execution_count": 13,
   "metadata": {},
   "outputs": [
    {
     "data": {
      "application/vnd.plotly.v1+json": {
       "config": {
        "plotlyServerURL": "https://plot.ly"
       },
       "data": [
        {
         "hovertemplate": "<b>%{hovertext}</b><br><br>Year=Y2019<br>median=%{r}<br>Specie=%{theta}<extra></extra>",
         "hovertext": [
          "Paris",
          "Paris",
          "Paris",
          "Paris",
          "Paris",
          "Paris",
          "Paris",
          "Paris"
         ],
         "legendgroup": "Y2019",
         "line": {
          "color": "#3deb34",
          "dash": "solid"
         },
         "mode": "lines",
         "name": "Y2019",
         "r": [
          0.09999999999999976,
          3.6503759398496243,
          20.37826086956521,
          17.41666666666667,
          25.492753623188406,
          56.68840579710145,
          0.6971014492753627,
          0.09999999999999976
         ],
         "showlegend": true,
         "subplot": "polar",
         "theta": [
          "co",
          "dew",
          "no2",
          "o3",
          "pm10",
          "pm25",
          "so2",
          "co"
         ],
         "type": "scatterpolar"
        },
        {
         "hovertemplate": "<b>%{hovertext}</b><br><br>Year=Y2020<br>median=%{r}<br>Specie=%{theta}<extra></extra>",
         "hovertext": [
          "Paris",
          "Paris",
          "Paris",
          "Paris",
          "Paris",
          "Paris",
          "Paris",
          "Paris"
         ],
         "legendgroup": "Y2020",
         "line": {
          "color": "#eb4034",
          "dash": "solid"
         },
         "mode": "lines",
         "name": "Y2020",
         "r": [
          0.09999999999999976,
          4.203252032520325,
          13.515107913669064,
          21.82661870503598,
          19.172661870503596,
          44.805755395683455,
          0.6289855072463767,
          0.09999999999999976
         ],
         "showlegend": true,
         "subplot": "polar",
         "theta": [
          "co",
          "dew",
          "no2",
          "o3",
          "pm10",
          "pm25",
          "so2",
          "co"
         ],
         "type": "scatterpolar"
        }
       ],
       "layout": {
        "legend": {
         "title": {
          "text": "Year"
         },
         "tracegroupgap": 0
        },
        "margin": {
         "t": 60
        },
        "polar": {
         "angularaxis": {
          "direction": "clockwise",
          "rotation": 90
         },
         "domain": {
          "x": [
           0,
           1
          ],
          "y": [
           0,
           1
          ]
         }
        },
        "template": {
         "data": {
          "bar": [
           {
            "error_x": {
             "color": "#2a3f5f"
            },
            "error_y": {
             "color": "#2a3f5f"
            },
            "marker": {
             "line": {
              "color": "#E5ECF6",
              "width": 0.5
             }
            },
            "type": "bar"
           }
          ],
          "barpolar": [
           {
            "marker": {
             "line": {
              "color": "#E5ECF6",
              "width": 0.5
             }
            },
            "type": "barpolar"
           }
          ],
          "carpet": [
           {
            "aaxis": {
             "endlinecolor": "#2a3f5f",
             "gridcolor": "white",
             "linecolor": "white",
             "minorgridcolor": "white",
             "startlinecolor": "#2a3f5f"
            },
            "baxis": {
             "endlinecolor": "#2a3f5f",
             "gridcolor": "white",
             "linecolor": "white",
             "minorgridcolor": "white",
             "startlinecolor": "#2a3f5f"
            },
            "type": "carpet"
           }
          ],
          "choropleth": [
           {
            "colorbar": {
             "outlinewidth": 0,
             "ticks": ""
            },
            "type": "choropleth"
           }
          ],
          "contour": [
           {
            "colorbar": {
             "outlinewidth": 0,
             "ticks": ""
            },
            "colorscale": [
             [
              0,
              "#0d0887"
             ],
             [
              0.1111111111111111,
              "#46039f"
             ],
             [
              0.2222222222222222,
              "#7201a8"
             ],
             [
              0.3333333333333333,
              "#9c179e"
             ],
             [
              0.4444444444444444,
              "#bd3786"
             ],
             [
              0.5555555555555556,
              "#d8576b"
             ],
             [
              0.6666666666666666,
              "#ed7953"
             ],
             [
              0.7777777777777778,
              "#fb9f3a"
             ],
             [
              0.8888888888888888,
              "#fdca26"
             ],
             [
              1,
              "#f0f921"
             ]
            ],
            "type": "contour"
           }
          ],
          "contourcarpet": [
           {
            "colorbar": {
             "outlinewidth": 0,
             "ticks": ""
            },
            "type": "contourcarpet"
           }
          ],
          "heatmap": [
           {
            "colorbar": {
             "outlinewidth": 0,
             "ticks": ""
            },
            "colorscale": [
             [
              0,
              "#0d0887"
             ],
             [
              0.1111111111111111,
              "#46039f"
             ],
             [
              0.2222222222222222,
              "#7201a8"
             ],
             [
              0.3333333333333333,
              "#9c179e"
             ],
             [
              0.4444444444444444,
              "#bd3786"
             ],
             [
              0.5555555555555556,
              "#d8576b"
             ],
             [
              0.6666666666666666,
              "#ed7953"
             ],
             [
              0.7777777777777778,
              "#fb9f3a"
             ],
             [
              0.8888888888888888,
              "#fdca26"
             ],
             [
              1,
              "#f0f921"
             ]
            ],
            "type": "heatmap"
           }
          ],
          "heatmapgl": [
           {
            "colorbar": {
             "outlinewidth": 0,
             "ticks": ""
            },
            "colorscale": [
             [
              0,
              "#0d0887"
             ],
             [
              0.1111111111111111,
              "#46039f"
             ],
             [
              0.2222222222222222,
              "#7201a8"
             ],
             [
              0.3333333333333333,
              "#9c179e"
             ],
             [
              0.4444444444444444,
              "#bd3786"
             ],
             [
              0.5555555555555556,
              "#d8576b"
             ],
             [
              0.6666666666666666,
              "#ed7953"
             ],
             [
              0.7777777777777778,
              "#fb9f3a"
             ],
             [
              0.8888888888888888,
              "#fdca26"
             ],
             [
              1,
              "#f0f921"
             ]
            ],
            "type": "heatmapgl"
           }
          ],
          "histogram": [
           {
            "marker": {
             "colorbar": {
              "outlinewidth": 0,
              "ticks": ""
             }
            },
            "type": "histogram"
           }
          ],
          "histogram2d": [
           {
            "colorbar": {
             "outlinewidth": 0,
             "ticks": ""
            },
            "colorscale": [
             [
              0,
              "#0d0887"
             ],
             [
              0.1111111111111111,
              "#46039f"
             ],
             [
              0.2222222222222222,
              "#7201a8"
             ],
             [
              0.3333333333333333,
              "#9c179e"
             ],
             [
              0.4444444444444444,
              "#bd3786"
             ],
             [
              0.5555555555555556,
              "#d8576b"
             ],
             [
              0.6666666666666666,
              "#ed7953"
             ],
             [
              0.7777777777777778,
              "#fb9f3a"
             ],
             [
              0.8888888888888888,
              "#fdca26"
             ],
             [
              1,
              "#f0f921"
             ]
            ],
            "type": "histogram2d"
           }
          ],
          "histogram2dcontour": [
           {
            "colorbar": {
             "outlinewidth": 0,
             "ticks": ""
            },
            "colorscale": [
             [
              0,
              "#0d0887"
             ],
             [
              0.1111111111111111,
              "#46039f"
             ],
             [
              0.2222222222222222,
              "#7201a8"
             ],
             [
              0.3333333333333333,
              "#9c179e"
             ],
             [
              0.4444444444444444,
              "#bd3786"
             ],
             [
              0.5555555555555556,
              "#d8576b"
             ],
             [
              0.6666666666666666,
              "#ed7953"
             ],
             [
              0.7777777777777778,
              "#fb9f3a"
             ],
             [
              0.8888888888888888,
              "#fdca26"
             ],
             [
              1,
              "#f0f921"
             ]
            ],
            "type": "histogram2dcontour"
           }
          ],
          "mesh3d": [
           {
            "colorbar": {
             "outlinewidth": 0,
             "ticks": ""
            },
            "type": "mesh3d"
           }
          ],
          "parcoords": [
           {
            "line": {
             "colorbar": {
              "outlinewidth": 0,
              "ticks": ""
             }
            },
            "type": "parcoords"
           }
          ],
          "pie": [
           {
            "automargin": true,
            "type": "pie"
           }
          ],
          "scatter": [
           {
            "marker": {
             "colorbar": {
              "outlinewidth": 0,
              "ticks": ""
             }
            },
            "type": "scatter"
           }
          ],
          "scatter3d": [
           {
            "line": {
             "colorbar": {
              "outlinewidth": 0,
              "ticks": ""
             }
            },
            "marker": {
             "colorbar": {
              "outlinewidth": 0,
              "ticks": ""
             }
            },
            "type": "scatter3d"
           }
          ],
          "scattercarpet": [
           {
            "marker": {
             "colorbar": {
              "outlinewidth": 0,
              "ticks": ""
             }
            },
            "type": "scattercarpet"
           }
          ],
          "scattergeo": [
           {
            "marker": {
             "colorbar": {
              "outlinewidth": 0,
              "ticks": ""
             }
            },
            "type": "scattergeo"
           }
          ],
          "scattergl": [
           {
            "marker": {
             "colorbar": {
              "outlinewidth": 0,
              "ticks": ""
             }
            },
            "type": "scattergl"
           }
          ],
          "scattermapbox": [
           {
            "marker": {
             "colorbar": {
              "outlinewidth": 0,
              "ticks": ""
             }
            },
            "type": "scattermapbox"
           }
          ],
          "scatterpolar": [
           {
            "marker": {
             "colorbar": {
              "outlinewidth": 0,
              "ticks": ""
             }
            },
            "type": "scatterpolar"
           }
          ],
          "scatterpolargl": [
           {
            "marker": {
             "colorbar": {
              "outlinewidth": 0,
              "ticks": ""
             }
            },
            "type": "scatterpolargl"
           }
          ],
          "scatterternary": [
           {
            "marker": {
             "colorbar": {
              "outlinewidth": 0,
              "ticks": ""
             }
            },
            "type": "scatterternary"
           }
          ],
          "surface": [
           {
            "colorbar": {
             "outlinewidth": 0,
             "ticks": ""
            },
            "colorscale": [
             [
              0,
              "#0d0887"
             ],
             [
              0.1111111111111111,
              "#46039f"
             ],
             [
              0.2222222222222222,
              "#7201a8"
             ],
             [
              0.3333333333333333,
              "#9c179e"
             ],
             [
              0.4444444444444444,
              "#bd3786"
             ],
             [
              0.5555555555555556,
              "#d8576b"
             ],
             [
              0.6666666666666666,
              "#ed7953"
             ],
             [
              0.7777777777777778,
              "#fb9f3a"
             ],
             [
              0.8888888888888888,
              "#fdca26"
             ],
             [
              1,
              "#f0f921"
             ]
            ],
            "type": "surface"
           }
          ],
          "table": [
           {
            "cells": {
             "fill": {
              "color": "#EBF0F8"
             },
             "line": {
              "color": "white"
             }
            },
            "header": {
             "fill": {
              "color": "#C8D4E3"
             },
             "line": {
              "color": "white"
             }
            },
            "type": "table"
           }
          ]
         },
         "layout": {
          "annotationdefaults": {
           "arrowcolor": "#2a3f5f",
           "arrowhead": 0,
           "arrowwidth": 1
          },
          "coloraxis": {
           "colorbar": {
            "outlinewidth": 0,
            "ticks": ""
           }
          },
          "colorscale": {
           "diverging": [
            [
             0,
             "#8e0152"
            ],
            [
             0.1,
             "#c51b7d"
            ],
            [
             0.2,
             "#de77ae"
            ],
            [
             0.3,
             "#f1b6da"
            ],
            [
             0.4,
             "#fde0ef"
            ],
            [
             0.5,
             "#f7f7f7"
            ],
            [
             0.6,
             "#e6f5d0"
            ],
            [
             0.7,
             "#b8e186"
            ],
            [
             0.8,
             "#7fbc41"
            ],
            [
             0.9,
             "#4d9221"
            ],
            [
             1,
             "#276419"
            ]
           ],
           "sequential": [
            [
             0,
             "#0d0887"
            ],
            [
             0.1111111111111111,
             "#46039f"
            ],
            [
             0.2222222222222222,
             "#7201a8"
            ],
            [
             0.3333333333333333,
             "#9c179e"
            ],
            [
             0.4444444444444444,
             "#bd3786"
            ],
            [
             0.5555555555555556,
             "#d8576b"
            ],
            [
             0.6666666666666666,
             "#ed7953"
            ],
            [
             0.7777777777777778,
             "#fb9f3a"
            ],
            [
             0.8888888888888888,
             "#fdca26"
            ],
            [
             1,
             "#f0f921"
            ]
           ],
           "sequentialminus": [
            [
             0,
             "#0d0887"
            ],
            [
             0.1111111111111111,
             "#46039f"
            ],
            [
             0.2222222222222222,
             "#7201a8"
            ],
            [
             0.3333333333333333,
             "#9c179e"
            ],
            [
             0.4444444444444444,
             "#bd3786"
            ],
            [
             0.5555555555555556,
             "#d8576b"
            ],
            [
             0.6666666666666666,
             "#ed7953"
            ],
            [
             0.7777777777777778,
             "#fb9f3a"
            ],
            [
             0.8888888888888888,
             "#fdca26"
            ],
            [
             1,
             "#f0f921"
            ]
           ]
          },
          "colorway": [
           "#636efa",
           "#EF553B",
           "#00cc96",
           "#ab63fa",
           "#FFA15A",
           "#19d3f3",
           "#FF6692",
           "#B6E880",
           "#FF97FF",
           "#FECB52"
          ],
          "font": {
           "color": "#2a3f5f"
          },
          "geo": {
           "bgcolor": "white",
           "lakecolor": "white",
           "landcolor": "#E5ECF6",
           "showlakes": true,
           "showland": true,
           "subunitcolor": "white"
          },
          "hoverlabel": {
           "align": "left"
          },
          "hovermode": "closest",
          "mapbox": {
           "style": "light"
          },
          "paper_bgcolor": "white",
          "plot_bgcolor": "#E5ECF6",
          "polar": {
           "angularaxis": {
            "gridcolor": "white",
            "linecolor": "white",
            "ticks": ""
           },
           "bgcolor": "#E5ECF6",
           "radialaxis": {
            "gridcolor": "white",
            "linecolor": "white",
            "ticks": ""
           }
          },
          "scene": {
           "xaxis": {
            "backgroundcolor": "#E5ECF6",
            "gridcolor": "white",
            "gridwidth": 2,
            "linecolor": "white",
            "showbackground": true,
            "ticks": "",
            "zerolinecolor": "white"
           },
           "yaxis": {
            "backgroundcolor": "#E5ECF6",
            "gridcolor": "white",
            "gridwidth": 2,
            "linecolor": "white",
            "showbackground": true,
            "ticks": "",
            "zerolinecolor": "white"
           },
           "zaxis": {
            "backgroundcolor": "#E5ECF6",
            "gridcolor": "white",
            "gridwidth": 2,
            "linecolor": "white",
            "showbackground": true,
            "ticks": "",
            "zerolinecolor": "white"
           }
          },
          "shapedefaults": {
           "line": {
            "color": "#2a3f5f"
           }
          },
          "ternary": {
           "aaxis": {
            "gridcolor": "white",
            "linecolor": "white",
            "ticks": ""
           },
           "baxis": {
            "gridcolor": "white",
            "linecolor": "white",
            "ticks": ""
           },
           "bgcolor": "#E5ECF6",
           "caxis": {
            "gridcolor": "white",
            "linecolor": "white",
            "ticks": ""
           }
          },
          "title": {
           "x": 0.05
          },
          "xaxis": {
           "automargin": true,
           "gridcolor": "white",
           "linecolor": "white",
           "ticks": "",
           "title": {
            "standoff": 15
           },
           "zerolinecolor": "white",
           "zerolinewidth": 2
          },
          "yaxis": {
           "automargin": true,
           "gridcolor": "white",
           "linecolor": "white",
           "ticks": "",
           "title": {
            "standoff": 15
           },
           "zerolinecolor": "white",
           "zerolinewidth": 2
          }
         }
        }
       }
      },
      "text/html": [
       "<div>\n",
       "        \n",
       "        \n",
       "            <div id=\"e815ceb5-ffcd-4a35-894d-c62c495b9044\" class=\"plotly-graph-div\" style=\"height:525px; width:100%;\"></div>\n",
       "            <script type=\"text/javascript\">\n",
       "                require([\"plotly\"], function(Plotly) {\n",
       "                    window.PLOTLYENV=window.PLOTLYENV || {};\n",
       "                    \n",
       "                if (document.getElementById(\"e815ceb5-ffcd-4a35-894d-c62c495b9044\")) {\n",
       "                    Plotly.newPlot(\n",
       "                        'e815ceb5-ffcd-4a35-894d-c62c495b9044',\n",
       "                        [{\"hovertemplate\": \"<b>%{hovertext}</b><br><br>Year=Y2019<br>median=%{r}<br>Specie=%{theta}<extra></extra>\", \"hovertext\": [\"Paris\", \"Paris\", \"Paris\", \"Paris\", \"Paris\", \"Paris\", \"Paris\", \"Paris\"], \"legendgroup\": \"Y2019\", \"line\": {\"color\": \"#3deb34\", \"dash\": \"solid\"}, \"mode\": \"lines\", \"name\": \"Y2019\", \"r\": [0.09999999999999976, 3.6503759398496243, 20.37826086956521, 17.41666666666667, 25.492753623188406, 56.68840579710145, 0.6971014492753627, 0.09999999999999976], \"showlegend\": true, \"subplot\": \"polar\", \"theta\": [\"co\", \"dew\", \"no2\", \"o3\", \"pm10\", \"pm25\", \"so2\", \"co\"], \"type\": \"scatterpolar\"}, {\"hovertemplate\": \"<b>%{hovertext}</b><br><br>Year=Y2020<br>median=%{r}<br>Specie=%{theta}<extra></extra>\", \"hovertext\": [\"Paris\", \"Paris\", \"Paris\", \"Paris\", \"Paris\", \"Paris\", \"Paris\", \"Paris\"], \"legendgroup\": \"Y2020\", \"line\": {\"color\": \"#eb4034\", \"dash\": \"solid\"}, \"mode\": \"lines\", \"name\": \"Y2020\", \"r\": [0.09999999999999976, 4.203252032520325, 13.515107913669064, 21.82661870503598, 19.172661870503596, 44.805755395683455, 0.6289855072463767, 0.09999999999999976], \"showlegend\": true, \"subplot\": \"polar\", \"theta\": [\"co\", \"dew\", \"no2\", \"o3\", \"pm10\", \"pm25\", \"so2\", \"co\"], \"type\": \"scatterpolar\"}],\n",
       "                        {\"legend\": {\"title\": {\"text\": \"Year\"}, \"tracegroupgap\": 0}, \"margin\": {\"t\": 60}, \"polar\": {\"angularaxis\": {\"direction\": \"clockwise\", \"rotation\": 90}, \"domain\": {\"x\": [0.0, 1.0], \"y\": [0.0, 1.0]}}, \"template\": {\"data\": {\"bar\": [{\"error_x\": {\"color\": \"#2a3f5f\"}, \"error_y\": {\"color\": \"#2a3f5f\"}, \"marker\": {\"line\": {\"color\": \"#E5ECF6\", \"width\": 0.5}}, \"type\": \"bar\"}], \"barpolar\": [{\"marker\": {\"line\": {\"color\": \"#E5ECF6\", \"width\": 0.5}}, \"type\": \"barpolar\"}], \"carpet\": [{\"aaxis\": {\"endlinecolor\": \"#2a3f5f\", \"gridcolor\": \"white\", \"linecolor\": \"white\", \"minorgridcolor\": \"white\", \"startlinecolor\": \"#2a3f5f\"}, \"baxis\": {\"endlinecolor\": \"#2a3f5f\", \"gridcolor\": \"white\", \"linecolor\": \"white\", \"minorgridcolor\": \"white\", \"startlinecolor\": \"#2a3f5f\"}, \"type\": \"carpet\"}], \"choropleth\": [{\"colorbar\": {\"outlinewidth\": 0, \"ticks\": \"\"}, \"type\": \"choropleth\"}], \"contour\": [{\"colorbar\": {\"outlinewidth\": 0, \"ticks\": \"\"}, \"colorscale\": [[0.0, \"#0d0887\"], [0.1111111111111111, \"#46039f\"], [0.2222222222222222, \"#7201a8\"], [0.3333333333333333, \"#9c179e\"], [0.4444444444444444, \"#bd3786\"], [0.5555555555555556, \"#d8576b\"], [0.6666666666666666, \"#ed7953\"], [0.7777777777777778, \"#fb9f3a\"], [0.8888888888888888, \"#fdca26\"], [1.0, \"#f0f921\"]], \"type\": \"contour\"}], \"contourcarpet\": [{\"colorbar\": {\"outlinewidth\": 0, \"ticks\": \"\"}, \"type\": \"contourcarpet\"}], \"heatmap\": [{\"colorbar\": {\"outlinewidth\": 0, \"ticks\": \"\"}, \"colorscale\": [[0.0, \"#0d0887\"], [0.1111111111111111, \"#46039f\"], [0.2222222222222222, \"#7201a8\"], [0.3333333333333333, \"#9c179e\"], [0.4444444444444444, \"#bd3786\"], [0.5555555555555556, \"#d8576b\"], [0.6666666666666666, \"#ed7953\"], [0.7777777777777778, \"#fb9f3a\"], [0.8888888888888888, \"#fdca26\"], [1.0, \"#f0f921\"]], \"type\": \"heatmap\"}], \"heatmapgl\": [{\"colorbar\": {\"outlinewidth\": 0, \"ticks\": \"\"}, \"colorscale\": [[0.0, \"#0d0887\"], [0.1111111111111111, \"#46039f\"], [0.2222222222222222, \"#7201a8\"], [0.3333333333333333, \"#9c179e\"], [0.4444444444444444, \"#bd3786\"], [0.5555555555555556, \"#d8576b\"], [0.6666666666666666, \"#ed7953\"], [0.7777777777777778, \"#fb9f3a\"], [0.8888888888888888, \"#fdca26\"], [1.0, \"#f0f921\"]], \"type\": \"heatmapgl\"}], \"histogram\": [{\"marker\": {\"colorbar\": {\"outlinewidth\": 0, \"ticks\": \"\"}}, \"type\": \"histogram\"}], \"histogram2d\": [{\"colorbar\": {\"outlinewidth\": 0, \"ticks\": \"\"}, \"colorscale\": [[0.0, \"#0d0887\"], [0.1111111111111111, \"#46039f\"], [0.2222222222222222, \"#7201a8\"], [0.3333333333333333, \"#9c179e\"], [0.4444444444444444, \"#bd3786\"], [0.5555555555555556, \"#d8576b\"], [0.6666666666666666, \"#ed7953\"], [0.7777777777777778, \"#fb9f3a\"], [0.8888888888888888, \"#fdca26\"], [1.0, \"#f0f921\"]], \"type\": \"histogram2d\"}], \"histogram2dcontour\": [{\"colorbar\": {\"outlinewidth\": 0, \"ticks\": \"\"}, \"colorscale\": [[0.0, \"#0d0887\"], [0.1111111111111111, \"#46039f\"], [0.2222222222222222, \"#7201a8\"], [0.3333333333333333, \"#9c179e\"], [0.4444444444444444, \"#bd3786\"], [0.5555555555555556, \"#d8576b\"], [0.6666666666666666, \"#ed7953\"], [0.7777777777777778, \"#fb9f3a\"], [0.8888888888888888, \"#fdca26\"], [1.0, \"#f0f921\"]], \"type\": \"histogram2dcontour\"}], \"mesh3d\": [{\"colorbar\": {\"outlinewidth\": 0, \"ticks\": \"\"}, \"type\": \"mesh3d\"}], \"parcoords\": [{\"line\": {\"colorbar\": {\"outlinewidth\": 0, \"ticks\": \"\"}}, \"type\": \"parcoords\"}], \"pie\": [{\"automargin\": true, \"type\": \"pie\"}], \"scatter\": [{\"marker\": {\"colorbar\": {\"outlinewidth\": 0, \"ticks\": \"\"}}, \"type\": \"scatter\"}], \"scatter3d\": [{\"line\": {\"colorbar\": {\"outlinewidth\": 0, \"ticks\": \"\"}}, \"marker\": {\"colorbar\": {\"outlinewidth\": 0, \"ticks\": \"\"}}, \"type\": \"scatter3d\"}], \"scattercarpet\": [{\"marker\": {\"colorbar\": {\"outlinewidth\": 0, \"ticks\": \"\"}}, \"type\": \"scattercarpet\"}], \"scattergeo\": [{\"marker\": {\"colorbar\": {\"outlinewidth\": 0, \"ticks\": \"\"}}, \"type\": \"scattergeo\"}], \"scattergl\": [{\"marker\": {\"colorbar\": {\"outlinewidth\": 0, \"ticks\": \"\"}}, \"type\": \"scattergl\"}], \"scattermapbox\": [{\"marker\": {\"colorbar\": {\"outlinewidth\": 0, \"ticks\": \"\"}}, \"type\": \"scattermapbox\"}], \"scatterpolar\": [{\"marker\": {\"colorbar\": {\"outlinewidth\": 0, \"ticks\": \"\"}}, \"type\": \"scatterpolar\"}], \"scatterpolargl\": [{\"marker\": {\"colorbar\": {\"outlinewidth\": 0, \"ticks\": \"\"}}, \"type\": \"scatterpolargl\"}], \"scatterternary\": [{\"marker\": {\"colorbar\": {\"outlinewidth\": 0, \"ticks\": \"\"}}, \"type\": \"scatterternary\"}], \"surface\": [{\"colorbar\": {\"outlinewidth\": 0, \"ticks\": \"\"}, \"colorscale\": [[0.0, \"#0d0887\"], [0.1111111111111111, \"#46039f\"], [0.2222222222222222, \"#7201a8\"], [0.3333333333333333, \"#9c179e\"], [0.4444444444444444, \"#bd3786\"], [0.5555555555555556, \"#d8576b\"], [0.6666666666666666, \"#ed7953\"], [0.7777777777777778, \"#fb9f3a\"], [0.8888888888888888, \"#fdca26\"], [1.0, \"#f0f921\"]], \"type\": \"surface\"}], \"table\": [{\"cells\": {\"fill\": {\"color\": \"#EBF0F8\"}, \"line\": {\"color\": \"white\"}}, \"header\": {\"fill\": {\"color\": \"#C8D4E3\"}, \"line\": {\"color\": \"white\"}}, \"type\": \"table\"}]}, \"layout\": {\"annotationdefaults\": {\"arrowcolor\": \"#2a3f5f\", \"arrowhead\": 0, \"arrowwidth\": 1}, \"coloraxis\": {\"colorbar\": {\"outlinewidth\": 0, \"ticks\": \"\"}}, \"colorscale\": {\"diverging\": [[0, \"#8e0152\"], [0.1, \"#c51b7d\"], [0.2, \"#de77ae\"], [0.3, \"#f1b6da\"], [0.4, \"#fde0ef\"], [0.5, \"#f7f7f7\"], [0.6, \"#e6f5d0\"], [0.7, \"#b8e186\"], [0.8, \"#7fbc41\"], [0.9, \"#4d9221\"], [1, \"#276419\"]], \"sequential\": [[0.0, \"#0d0887\"], [0.1111111111111111, \"#46039f\"], [0.2222222222222222, \"#7201a8\"], [0.3333333333333333, \"#9c179e\"], [0.4444444444444444, \"#bd3786\"], [0.5555555555555556, \"#d8576b\"], [0.6666666666666666, \"#ed7953\"], [0.7777777777777778, \"#fb9f3a\"], [0.8888888888888888, \"#fdca26\"], [1.0, \"#f0f921\"]], \"sequentialminus\": [[0.0, \"#0d0887\"], [0.1111111111111111, \"#46039f\"], [0.2222222222222222, \"#7201a8\"], [0.3333333333333333, \"#9c179e\"], [0.4444444444444444, \"#bd3786\"], [0.5555555555555556, \"#d8576b\"], [0.6666666666666666, \"#ed7953\"], [0.7777777777777778, \"#fb9f3a\"], [0.8888888888888888, \"#fdca26\"], [1.0, \"#f0f921\"]]}, \"colorway\": [\"#636efa\", \"#EF553B\", \"#00cc96\", \"#ab63fa\", \"#FFA15A\", \"#19d3f3\", \"#FF6692\", \"#B6E880\", \"#FF97FF\", \"#FECB52\"], \"font\": {\"color\": \"#2a3f5f\"}, \"geo\": {\"bgcolor\": \"white\", \"lakecolor\": \"white\", \"landcolor\": \"#E5ECF6\", \"showlakes\": true, \"showland\": true, \"subunitcolor\": \"white\"}, \"hoverlabel\": {\"align\": \"left\"}, \"hovermode\": \"closest\", \"mapbox\": {\"style\": \"light\"}, \"paper_bgcolor\": \"white\", \"plot_bgcolor\": \"#E5ECF6\", \"polar\": {\"angularaxis\": {\"gridcolor\": \"white\", \"linecolor\": \"white\", \"ticks\": \"\"}, \"bgcolor\": \"#E5ECF6\", \"radialaxis\": {\"gridcolor\": \"white\", \"linecolor\": \"white\", \"ticks\": \"\"}}, \"scene\": {\"xaxis\": {\"backgroundcolor\": \"#E5ECF6\", \"gridcolor\": \"white\", \"gridwidth\": 2, \"linecolor\": \"white\", \"showbackground\": true, \"ticks\": \"\", \"zerolinecolor\": \"white\"}, \"yaxis\": {\"backgroundcolor\": \"#E5ECF6\", \"gridcolor\": \"white\", \"gridwidth\": 2, \"linecolor\": \"white\", \"showbackground\": true, \"ticks\": \"\", \"zerolinecolor\": \"white\"}, \"zaxis\": {\"backgroundcolor\": \"#E5ECF6\", \"gridcolor\": \"white\", \"gridwidth\": 2, \"linecolor\": \"white\", \"showbackground\": true, \"ticks\": \"\", \"zerolinecolor\": \"white\"}}, \"shapedefaults\": {\"line\": {\"color\": \"#2a3f5f\"}}, \"ternary\": {\"aaxis\": {\"gridcolor\": \"white\", \"linecolor\": \"white\", \"ticks\": \"\"}, \"baxis\": {\"gridcolor\": \"white\", \"linecolor\": \"white\", \"ticks\": \"\"}, \"bgcolor\": \"#E5ECF6\", \"caxis\": {\"gridcolor\": \"white\", \"linecolor\": \"white\", \"ticks\": \"\"}}, \"title\": {\"x\": 0.05}, \"xaxis\": {\"automargin\": true, \"gridcolor\": \"white\", \"linecolor\": \"white\", \"ticks\": \"\", \"title\": {\"standoff\": 15}, \"zerolinecolor\": \"white\", \"zerolinewidth\": 2}, \"yaxis\": {\"automargin\": true, \"gridcolor\": \"white\", \"linecolor\": \"white\", \"ticks\": \"\", \"title\": {\"standoff\": 15}, \"zerolinecolor\": \"white\", \"zerolinewidth\": 2}}}},\n",
       "                        {\"responsive\": true}\n",
       "                    ).then(function(){\n",
       "                            \n",
       "var gd = document.getElementById('e815ceb5-ffcd-4a35-894d-c62c495b9044');\n",
       "var x = new MutationObserver(function (mutations, observer) {{\n",
       "        var display = window.getComputedStyle(gd).display;\n",
       "        if (!display || display === 'none') {{\n",
       "            console.log([gd, 'removed!']);\n",
       "            Plotly.purge(gd);\n",
       "            observer.disconnect();\n",
       "        }}\n",
       "}});\n",
       "\n",
       "// Listen for the removal of the full notebook cells\n",
       "var notebookContainer = gd.closest('#notebook-container');\n",
       "if (notebookContainer) {{\n",
       "    x.observe(notebookContainer, {childList: true});\n",
       "}}\n",
       "\n",
       "// Listen for the clearing of the current output cell\n",
       "var outputEl = gd.closest('.output');\n",
       "if (outputEl) {{\n",
       "    x.observe(outputEl, {childList: true});\n",
       "}}\n",
       "\n",
       "                        })\n",
       "                };\n",
       "                });\n",
       "            </script>\n",
       "        </div>"
      ]
     },
     "metadata": {},
     "output_type": "display_data"
    }
   ],
   "source": [
    "def radar_plot(data, city):\n",
    "    data = data[(data[\"City\"]==city)]\n",
    "    fig = px.line_polar(data, r=\"median\", theta=\"Specie\", color=\"Year\", line_close=True,\n",
    "                        hover_name=\"City\",\n",
    "                       color_discrete_sequence=[\"#3deb34\",\"#eb4034\"])\n",
    "    return fig\n",
    "\n",
    "clean_data2019['DayMonth'] = clean_data2019[\"Date\"].dt.month_name().str[:3] + ' ' + clean_data2019[\"Date\"].dt.day.astype(str)\n",
    "clean_data2020['DayMonth'] = clean_data2020[\"Date\"].dt.month_name().str[:3] + ' ' + clean_data2020[\"Date\"].dt.day.astype(str)\n",
    "clean_data2019['DayOfYear'] = clean_data2019[\"Date\"].dt.dayofyear\n",
    "clean_data2020['DayOfYear'] = clean_data2020[\"Date\"].dt.dayofyear\n",
    "clean_data2019['WeekOfYear'] = clean_data2019[\"Date\"].dt.weekofyear\n",
    "clean_data2020['WeekOfYear'] = clean_data2020[\"Date\"].dt.weekofyear\n",
    "\n",
    "data2019_grouped = clean_data2019[[\"Date\", \"Specie\", \"City\", \"median\"]].groupby([\"Specie\", \"City\"], as_index=False).mean()\n",
    "data2020_grouped = clean_data2020[[\"Date\", \"Specie\", \"City\", \"median\"]].groupby([\"Specie\", \"City\"], as_index=False).mean()\n",
    "data2019_grouped['Year'] = 'Y2019'\n",
    "data2020_grouped['Year'] = 'Y2020'\n",
    "\n",
    "data_grouped_time = pd.concat([data2019_grouped, data2020_grouped])\n",
    "\n",
    "fig = radar_plot(data_grouped_time, 'Paris')\n",
    "fig.show()"
   ]
  },
  {
   "cell_type": "markdown",
   "metadata": {},
   "source": [
    "# Variables\n",
    "\n",
    "We can identify 5 variables to follow:\n",
    "1. pm25: Fine particulate matter (PM2.5) is an air pollutant that is a concern for people's health when levels in air are high.\n",
    "\n",
    "2. pm10: PM10 is particulate matter 10 micrometers or less in diameter that is also a concern for people's health when levels in air are high.\n",
    "3. o3: Ozone is a highly reactive gas composed of three oxygen atoms. It is both a natural and a man-made product that occurs in the Earth's upper atmosphere ozone molecule(the stratosphere) and lower atmosphere (the troposphere).  Depending on where it is in the atmosphere, ozone affects life on Earth in either good or bad ways.\n",
    "4. no2: Nitrogen Dioxide (NO2) Pollution primarily gets in the air from the burning of fuel. NO2 forms from emissions from cars, trucks and buses, power plants, and off-road equipment."
   ]
  },
  {
   "cell_type": "markdown",
   "metadata": {},
   "source": [
    "# Plot no2 levels for 2019 and 2020 for Paris"
   ]
  },
  {
   "cell_type": "code",
   "execution_count": 29,
   "metadata": {},
   "outputs": [
    {
     "data": {
      "application/vnd.plotly.v1+json": {
       "config": {
        "plotlyServerURL": "https://plot.ly"
       },
       "data": [
        {
         "hovertemplate": "Year=Y2019<br>DayMonth=%{x}<br>median=%{y}<extra></extra>",
         "legendgroup": "Y2019",
         "line": {
          "color": "#636efa",
          "dash": "solid"
         },
         "mode": "lines",
         "name": "Y2019",
         "orientation": "v",
         "showlegend": true,
         "type": "scatter",
         "x": [
          "Jan 2",
          "Jan 3",
          "Jan 4",
          "Jan 5",
          "Jan 6",
          "Jan 7",
          "Jan 8",
          "Jan 9",
          "Jan 10",
          "Jan 11",
          "Jan 12",
          "Jan 13",
          "Jan 14",
          "Jan 15",
          "Jan 16",
          "Jan 17",
          "Jan 18",
          "Jan 19",
          "Jan 20",
          "Jan 21",
          "Jan 22",
          "Jan 23",
          "Jan 24",
          "Jan 25",
          "Jan 26",
          "Jan 27",
          "Jan 28",
          "Jan 29",
          "Jan 30",
          "Jan 31",
          "Feb 1",
          "Feb 2",
          "Feb 3",
          "Feb 4",
          "Feb 5",
          "Feb 6",
          "Feb 7",
          "Feb 8",
          "Feb 9",
          "Feb 10",
          "Feb 11",
          "Feb 12",
          "Feb 13",
          "Feb 14",
          "Feb 15",
          "Feb 16",
          "Feb 17",
          "Feb 18",
          "Feb 19",
          "Feb 20",
          "Feb 21",
          "Feb 22",
          "Feb 23",
          "Feb 24",
          "Feb 25",
          "Feb 26",
          "Feb 27",
          "Feb 28",
          "Mar 1",
          "Mar 2",
          "Mar 3",
          "Mar 4",
          "Mar 5",
          "Mar 6",
          "Mar 7",
          "Mar 8",
          "Mar 9",
          "Mar 10",
          "Mar 11",
          "Mar 12",
          "Mar 13",
          "Mar 14",
          "Mar 15",
          "Mar 16",
          "Mar 17",
          "Mar 18",
          "Mar 19",
          "Mar 20",
          "Mar 21",
          "Mar 22",
          "Mar 23",
          "Mar 24",
          "Mar 25",
          "Mar 26",
          "Mar 27",
          "Mar 28",
          "Mar 29",
          "Mar 30",
          "Mar 31",
          "Apr 1",
          "Apr 2",
          "Apr 3",
          "Apr 4",
          "Apr 5",
          "Apr 6",
          "Apr 7",
          "Apr 8",
          "Apr 9",
          "Apr 10",
          "Apr 11",
          "Apr 12",
          "Apr 13",
          "Apr 14",
          "Apr 15",
          "Apr 16",
          "Apr 17",
          "Apr 18",
          "Apr 19",
          "Apr 20",
          "Apr 21",
          "Apr 22",
          "Apr 23",
          "Apr 24",
          "Apr 25",
          "Apr 26",
          "Apr 27",
          "Apr 28",
          "Apr 29",
          "Apr 30",
          "May 1",
          "May 2",
          "May 3",
          "May 4",
          "May 5",
          "May 6",
          "May 7",
          "May 8",
          "May 9",
          "May 10",
          "May 11",
          "May 12",
          "May 13",
          "May 14",
          "May 15",
          "May 16",
          "May 17",
          "May 18",
          "May 19"
         ],
         "xaxis": "x",
         "y": [
          16.7,
          20.2,
          21.3,
          15.1,
          19.4,
          22.2,
          17.1,
          17.9,
          25.3,
          25.6,
          16.1,
          8.2,
          16.3,
          21.1,
          21.1,
          17.6,
          31.7,
          21.8,
          17.2,
          25,
          21.9,
          21.3,
          29,
          26.8,
          16.6,
          10.7,
          18.1,
          27.1,
          18.6,
          23.4,
          29.3,
          16.6,
          12.3,
          27.4,
          25.6,
          22,
          15.2,
          13.1,
          10.3,
          7.5,
          19.7,
          33.7,
          30.7,
          31.4,
          39.1,
          42.5,
          32,
          34.4,
          21.3,
          36.7,
          41.6,
          41.4,
          21.7,
          25.1,
          32.3,
          34.8,
          41.9,
          24.6,
          16.1,
          14.4,
          7.8,
          8.6,
          16,
          22.7,
          12.5,
          13.6,
          11.5,
          7.7,
          12.4,
          18.7,
          10.8,
          12,
          9.7,
          8.4,
          8.8,
          16.9,
          30.6,
          36.4,
          32.9,
          29.3,
          18.5,
          14,
          14.4,
          14.7,
          19.5,
          21.5,
          24.4,
          37.6,
          30.3,
          17.5,
          17.5,
          13.2,
          23.4,
          22.8,
          18.8,
          13,
          27.8,
          22.4,
          18.2,
          16,
          16.4,
          16.4,
          14.7,
          23.8,
          23.2,
          22.9,
          22.5,
          31.8,
          23.3,
          19.7,
          31.2,
          33.2,
          16.6,
          14.5,
          15.2,
          6.1,
          7.7,
          18.2,
          18.1,
          13.8,
          13.3,
          16.6,
          11.5,
          10.3,
          19.1,
          26.3,
          13.3,
          12.8,
          20.2,
          11.2,
          9.9,
          13.2,
          14.2,
          17.5,
          19.5,
          21.2,
          18.6,
          16.3
         ],
         "yaxis": "y"
        },
        {
         "hovertemplate": "Year=Y2020<br>DayMonth=%{x}<br>median=%{y}<extra></extra>",
         "legendgroup": "Y2020",
         "line": {
          "color": "#EF553B",
          "dash": "solid"
         },
         "mode": "lines",
         "name": "Y2020",
         "orientation": "v",
         "showlegend": true,
         "type": "scatter",
         "x": [
          "Jan 2",
          "Jan 3",
          "Jan 4",
          "Jan 5",
          "Jan 6",
          "Jan 7",
          "Jan 8",
          "Jan 9",
          "Jan 10",
          "Jan 11",
          "Jan 12",
          "Jan 13",
          "Jan 14",
          "Jan 15",
          "Jan 16",
          "Jan 17",
          "Jan 18",
          "Jan 19",
          "Jan 20",
          "Jan 21",
          "Jan 22",
          "Jan 23",
          "Jan 24",
          "Jan 25",
          "Jan 26",
          "Jan 27",
          "Jan 28",
          "Jan 29",
          "Jan 30",
          "Jan 31",
          "Feb 1",
          "Feb 2",
          "Feb 3",
          "Feb 4",
          "Feb 5",
          "Feb 6",
          "Feb 7",
          "Feb 8",
          "Feb 9",
          "Feb 10",
          "Feb 11",
          "Feb 12",
          "Feb 13",
          "Feb 14",
          "Feb 15",
          "Feb 16",
          "Feb 17",
          "Feb 18",
          "Feb 19",
          "Feb 20",
          "Feb 21",
          "Feb 22",
          "Feb 23",
          "Feb 24",
          "Feb 25",
          "Feb 26",
          "Feb 27",
          "Feb 28",
          "Mar 1",
          "Mar 2",
          "Mar 3",
          "Mar 4",
          "Mar 5",
          "Mar 6",
          "Mar 7",
          "Mar 8",
          "Mar 9",
          "Mar 10",
          "Mar 11",
          "Mar 12",
          "Mar 13",
          "Mar 14",
          "Mar 15",
          "Mar 16",
          "Mar 17",
          "Mar 18",
          "Mar 19",
          "Mar 20",
          "Mar 21",
          "Mar 22",
          "Mar 23",
          "Mar 24",
          "Mar 25",
          "Mar 26",
          "Mar 27",
          "Mar 28",
          "Mar 29",
          "Mar 30",
          "Mar 31",
          "Apr 1",
          "Apr 2",
          "Apr 3",
          "Apr 4",
          "Apr 5",
          "Apr 6",
          "Apr 7",
          "Apr 8",
          "Apr 9",
          "Apr 10",
          "Apr 11",
          "Apr 12",
          "Apr 13",
          "Apr 14",
          "Apr 15",
          "Apr 16",
          "Apr 17",
          "Apr 18",
          "Apr 19",
          "Apr 20",
          "Apr 21",
          "Apr 22",
          "Apr 23",
          "Apr 24",
          "Apr 25",
          "Apr 26",
          "Apr 27",
          "Apr 28",
          "Apr 29",
          "Apr 30",
          "May 1",
          "May 2",
          "May 3",
          "May 4",
          "May 5",
          "May 6",
          "May 7",
          "May 8",
          "May 9",
          "May 10",
          "May 11",
          "May 12",
          "May 13",
          "May 14",
          "May 15",
          "May 16",
          "May 17",
          "May 18",
          "May 19"
         ],
         "xaxis": "x",
         "y": [
          19.3,
          13.9,
          18.1,
          20.2,
          23.4,
          20.2,
          18.7,
          12.2,
          15.4,
          24.5,
          15.1,
          15.2,
          10.2,
          18,
          27.5,
          15.8,
          20.8,
          20.7,
          22.9,
          27.4,
          26,
          23.2,
          23.5,
          28.2,
          24,
          13.3,
          10,
          16.6,
          22.5,
          14.1,
          9.8,
          9.7,
          13.4,
          10.7,
          21.2,
          28.6,
          27,
          21.5,
          5.9,
          6.4,
          9,
          14.9,
          12,
          16.7,
          16.2,
          4.8,
          11.1,
          12.5,
          13.9,
          13.6,
          15.9,
          11.3,
          7.5,
          9.9,
          11,
          12.1,
          15.7,
          22,
          11.7,
          17,
          25,
          21.8,
          19.2,
          15.3,
          19.2,
          11,
          12.1,
          9.3,
          9.1,
          8.5,
          10.9,
          14.4,
          11.3,
          21,
          24.8,
          24.6,
          18.9,
          10.7,
          5.5,
          4.2,
          5.8,
          8,
          10.5,
          9.9,
          13.7,
          11.3,
          4.2,
          5.8,
          8.9,
          11.7,
          8.7,
          8.1,
          10.6,
          7.1,
          9.4,
          11.7,
          20.7,
          25.1,
          15.4,
          12.2,
          12.3,
          6.9,
          5.3,
          8.6,
          15.5,
          18,
          4.5,
          5.1,
          7.3,
          8.4,
          9.8,
          17,
          15.7,
          6.1,
          6,
          12.9,
          5.3,
          5.2,
          4.6,
          3,
          4.3,
          7.7,
          9.6,
          10.8,
          11.7,
          20.2,
          14.2,
          11.7,
          7.2,
          5.8,
          8.7,
          11.1,
          8.3,
          10.1,
          11.4,
          8.5,
          10.9,
          10.6
         ],
         "yaxis": "y"
        }
       ],
       "layout": {
        "legend": {
         "title": {
          "text": "Year"
         },
         "tracegroupgap": 0
        },
        "margin": {
         "t": 60
        },
        "template": {
         "data": {
          "bar": [
           {
            "error_x": {
             "color": "#2a3f5f"
            },
            "error_y": {
             "color": "#2a3f5f"
            },
            "marker": {
             "line": {
              "color": "#E5ECF6",
              "width": 0.5
             }
            },
            "type": "bar"
           }
          ],
          "barpolar": [
           {
            "marker": {
             "line": {
              "color": "#E5ECF6",
              "width": 0.5
             }
            },
            "type": "barpolar"
           }
          ],
          "carpet": [
           {
            "aaxis": {
             "endlinecolor": "#2a3f5f",
             "gridcolor": "white",
             "linecolor": "white",
             "minorgridcolor": "white",
             "startlinecolor": "#2a3f5f"
            },
            "baxis": {
             "endlinecolor": "#2a3f5f",
             "gridcolor": "white",
             "linecolor": "white",
             "minorgridcolor": "white",
             "startlinecolor": "#2a3f5f"
            },
            "type": "carpet"
           }
          ],
          "choropleth": [
           {
            "colorbar": {
             "outlinewidth": 0,
             "ticks": ""
            },
            "type": "choropleth"
           }
          ],
          "contour": [
           {
            "colorbar": {
             "outlinewidth": 0,
             "ticks": ""
            },
            "colorscale": [
             [
              0,
              "#0d0887"
             ],
             [
              0.1111111111111111,
              "#46039f"
             ],
             [
              0.2222222222222222,
              "#7201a8"
             ],
             [
              0.3333333333333333,
              "#9c179e"
             ],
             [
              0.4444444444444444,
              "#bd3786"
             ],
             [
              0.5555555555555556,
              "#d8576b"
             ],
             [
              0.6666666666666666,
              "#ed7953"
             ],
             [
              0.7777777777777778,
              "#fb9f3a"
             ],
             [
              0.8888888888888888,
              "#fdca26"
             ],
             [
              1,
              "#f0f921"
             ]
            ],
            "type": "contour"
           }
          ],
          "contourcarpet": [
           {
            "colorbar": {
             "outlinewidth": 0,
             "ticks": ""
            },
            "type": "contourcarpet"
           }
          ],
          "heatmap": [
           {
            "colorbar": {
             "outlinewidth": 0,
             "ticks": ""
            },
            "colorscale": [
             [
              0,
              "#0d0887"
             ],
             [
              0.1111111111111111,
              "#46039f"
             ],
             [
              0.2222222222222222,
              "#7201a8"
             ],
             [
              0.3333333333333333,
              "#9c179e"
             ],
             [
              0.4444444444444444,
              "#bd3786"
             ],
             [
              0.5555555555555556,
              "#d8576b"
             ],
             [
              0.6666666666666666,
              "#ed7953"
             ],
             [
              0.7777777777777778,
              "#fb9f3a"
             ],
             [
              0.8888888888888888,
              "#fdca26"
             ],
             [
              1,
              "#f0f921"
             ]
            ],
            "type": "heatmap"
           }
          ],
          "heatmapgl": [
           {
            "colorbar": {
             "outlinewidth": 0,
             "ticks": ""
            },
            "colorscale": [
             [
              0,
              "#0d0887"
             ],
             [
              0.1111111111111111,
              "#46039f"
             ],
             [
              0.2222222222222222,
              "#7201a8"
             ],
             [
              0.3333333333333333,
              "#9c179e"
             ],
             [
              0.4444444444444444,
              "#bd3786"
             ],
             [
              0.5555555555555556,
              "#d8576b"
             ],
             [
              0.6666666666666666,
              "#ed7953"
             ],
             [
              0.7777777777777778,
              "#fb9f3a"
             ],
             [
              0.8888888888888888,
              "#fdca26"
             ],
             [
              1,
              "#f0f921"
             ]
            ],
            "type": "heatmapgl"
           }
          ],
          "histogram": [
           {
            "marker": {
             "colorbar": {
              "outlinewidth": 0,
              "ticks": ""
             }
            },
            "type": "histogram"
           }
          ],
          "histogram2d": [
           {
            "colorbar": {
             "outlinewidth": 0,
             "ticks": ""
            },
            "colorscale": [
             [
              0,
              "#0d0887"
             ],
             [
              0.1111111111111111,
              "#46039f"
             ],
             [
              0.2222222222222222,
              "#7201a8"
             ],
             [
              0.3333333333333333,
              "#9c179e"
             ],
             [
              0.4444444444444444,
              "#bd3786"
             ],
             [
              0.5555555555555556,
              "#d8576b"
             ],
             [
              0.6666666666666666,
              "#ed7953"
             ],
             [
              0.7777777777777778,
              "#fb9f3a"
             ],
             [
              0.8888888888888888,
              "#fdca26"
             ],
             [
              1,
              "#f0f921"
             ]
            ],
            "type": "histogram2d"
           }
          ],
          "histogram2dcontour": [
           {
            "colorbar": {
             "outlinewidth": 0,
             "ticks": ""
            },
            "colorscale": [
             [
              0,
              "#0d0887"
             ],
             [
              0.1111111111111111,
              "#46039f"
             ],
             [
              0.2222222222222222,
              "#7201a8"
             ],
             [
              0.3333333333333333,
              "#9c179e"
             ],
             [
              0.4444444444444444,
              "#bd3786"
             ],
             [
              0.5555555555555556,
              "#d8576b"
             ],
             [
              0.6666666666666666,
              "#ed7953"
             ],
             [
              0.7777777777777778,
              "#fb9f3a"
             ],
             [
              0.8888888888888888,
              "#fdca26"
             ],
             [
              1,
              "#f0f921"
             ]
            ],
            "type": "histogram2dcontour"
           }
          ],
          "mesh3d": [
           {
            "colorbar": {
             "outlinewidth": 0,
             "ticks": ""
            },
            "type": "mesh3d"
           }
          ],
          "parcoords": [
           {
            "line": {
             "colorbar": {
              "outlinewidth": 0,
              "ticks": ""
             }
            },
            "type": "parcoords"
           }
          ],
          "pie": [
           {
            "automargin": true,
            "type": "pie"
           }
          ],
          "scatter": [
           {
            "marker": {
             "colorbar": {
              "outlinewidth": 0,
              "ticks": ""
             }
            },
            "type": "scatter"
           }
          ],
          "scatter3d": [
           {
            "line": {
             "colorbar": {
              "outlinewidth": 0,
              "ticks": ""
             }
            },
            "marker": {
             "colorbar": {
              "outlinewidth": 0,
              "ticks": ""
             }
            },
            "type": "scatter3d"
           }
          ],
          "scattercarpet": [
           {
            "marker": {
             "colorbar": {
              "outlinewidth": 0,
              "ticks": ""
             }
            },
            "type": "scattercarpet"
           }
          ],
          "scattergeo": [
           {
            "marker": {
             "colorbar": {
              "outlinewidth": 0,
              "ticks": ""
             }
            },
            "type": "scattergeo"
           }
          ],
          "scattergl": [
           {
            "marker": {
             "colorbar": {
              "outlinewidth": 0,
              "ticks": ""
             }
            },
            "type": "scattergl"
           }
          ],
          "scattermapbox": [
           {
            "marker": {
             "colorbar": {
              "outlinewidth": 0,
              "ticks": ""
             }
            },
            "type": "scattermapbox"
           }
          ],
          "scatterpolar": [
           {
            "marker": {
             "colorbar": {
              "outlinewidth": 0,
              "ticks": ""
             }
            },
            "type": "scatterpolar"
           }
          ],
          "scatterpolargl": [
           {
            "marker": {
             "colorbar": {
              "outlinewidth": 0,
              "ticks": ""
             }
            },
            "type": "scatterpolargl"
           }
          ],
          "scatterternary": [
           {
            "marker": {
             "colorbar": {
              "outlinewidth": 0,
              "ticks": ""
             }
            },
            "type": "scatterternary"
           }
          ],
          "surface": [
           {
            "colorbar": {
             "outlinewidth": 0,
             "ticks": ""
            },
            "colorscale": [
             [
              0,
              "#0d0887"
             ],
             [
              0.1111111111111111,
              "#46039f"
             ],
             [
              0.2222222222222222,
              "#7201a8"
             ],
             [
              0.3333333333333333,
              "#9c179e"
             ],
             [
              0.4444444444444444,
              "#bd3786"
             ],
             [
              0.5555555555555556,
              "#d8576b"
             ],
             [
              0.6666666666666666,
              "#ed7953"
             ],
             [
              0.7777777777777778,
              "#fb9f3a"
             ],
             [
              0.8888888888888888,
              "#fdca26"
             ],
             [
              1,
              "#f0f921"
             ]
            ],
            "type": "surface"
           }
          ],
          "table": [
           {
            "cells": {
             "fill": {
              "color": "#EBF0F8"
             },
             "line": {
              "color": "white"
             }
            },
            "header": {
             "fill": {
              "color": "#C8D4E3"
             },
             "line": {
              "color": "white"
             }
            },
            "type": "table"
           }
          ]
         },
         "layout": {
          "annotationdefaults": {
           "arrowcolor": "#2a3f5f",
           "arrowhead": 0,
           "arrowwidth": 1
          },
          "coloraxis": {
           "colorbar": {
            "outlinewidth": 0,
            "ticks": ""
           }
          },
          "colorscale": {
           "diverging": [
            [
             0,
             "#8e0152"
            ],
            [
             0.1,
             "#c51b7d"
            ],
            [
             0.2,
             "#de77ae"
            ],
            [
             0.3,
             "#f1b6da"
            ],
            [
             0.4,
             "#fde0ef"
            ],
            [
             0.5,
             "#f7f7f7"
            ],
            [
             0.6,
             "#e6f5d0"
            ],
            [
             0.7,
             "#b8e186"
            ],
            [
             0.8,
             "#7fbc41"
            ],
            [
             0.9,
             "#4d9221"
            ],
            [
             1,
             "#276419"
            ]
           ],
           "sequential": [
            [
             0,
             "#0d0887"
            ],
            [
             0.1111111111111111,
             "#46039f"
            ],
            [
             0.2222222222222222,
             "#7201a8"
            ],
            [
             0.3333333333333333,
             "#9c179e"
            ],
            [
             0.4444444444444444,
             "#bd3786"
            ],
            [
             0.5555555555555556,
             "#d8576b"
            ],
            [
             0.6666666666666666,
             "#ed7953"
            ],
            [
             0.7777777777777778,
             "#fb9f3a"
            ],
            [
             0.8888888888888888,
             "#fdca26"
            ],
            [
             1,
             "#f0f921"
            ]
           ],
           "sequentialminus": [
            [
             0,
             "#0d0887"
            ],
            [
             0.1111111111111111,
             "#46039f"
            ],
            [
             0.2222222222222222,
             "#7201a8"
            ],
            [
             0.3333333333333333,
             "#9c179e"
            ],
            [
             0.4444444444444444,
             "#bd3786"
            ],
            [
             0.5555555555555556,
             "#d8576b"
            ],
            [
             0.6666666666666666,
             "#ed7953"
            ],
            [
             0.7777777777777778,
             "#fb9f3a"
            ],
            [
             0.8888888888888888,
             "#fdca26"
            ],
            [
             1,
             "#f0f921"
            ]
           ]
          },
          "colorway": [
           "#636efa",
           "#EF553B",
           "#00cc96",
           "#ab63fa",
           "#FFA15A",
           "#19d3f3",
           "#FF6692",
           "#B6E880",
           "#FF97FF",
           "#FECB52"
          ],
          "font": {
           "color": "#2a3f5f"
          },
          "geo": {
           "bgcolor": "white",
           "lakecolor": "white",
           "landcolor": "#E5ECF6",
           "showlakes": true,
           "showland": true,
           "subunitcolor": "white"
          },
          "hoverlabel": {
           "align": "left"
          },
          "hovermode": "closest",
          "mapbox": {
           "style": "light"
          },
          "paper_bgcolor": "white",
          "plot_bgcolor": "#E5ECF6",
          "polar": {
           "angularaxis": {
            "gridcolor": "white",
            "linecolor": "white",
            "ticks": ""
           },
           "bgcolor": "#E5ECF6",
           "radialaxis": {
            "gridcolor": "white",
            "linecolor": "white",
            "ticks": ""
           }
          },
          "scene": {
           "xaxis": {
            "backgroundcolor": "#E5ECF6",
            "gridcolor": "white",
            "gridwidth": 2,
            "linecolor": "white",
            "showbackground": true,
            "ticks": "",
            "zerolinecolor": "white"
           },
           "yaxis": {
            "backgroundcolor": "#E5ECF6",
            "gridcolor": "white",
            "gridwidth": 2,
            "linecolor": "white",
            "showbackground": true,
            "ticks": "",
            "zerolinecolor": "white"
           },
           "zaxis": {
            "backgroundcolor": "#E5ECF6",
            "gridcolor": "white",
            "gridwidth": 2,
            "linecolor": "white",
            "showbackground": true,
            "ticks": "",
            "zerolinecolor": "white"
           }
          },
          "shapedefaults": {
           "line": {
            "color": "#2a3f5f"
           }
          },
          "ternary": {
           "aaxis": {
            "gridcolor": "white",
            "linecolor": "white",
            "ticks": ""
           },
           "baxis": {
            "gridcolor": "white",
            "linecolor": "white",
            "ticks": ""
           },
           "bgcolor": "#E5ECF6",
           "caxis": {
            "gridcolor": "white",
            "linecolor": "white",
            "ticks": ""
           }
          },
          "title": {
           "x": 0.05
          },
          "xaxis": {
           "automargin": true,
           "gridcolor": "white",
           "linecolor": "white",
           "ticks": "",
           "title": {
            "standoff": 15
           },
           "zerolinecolor": "white",
           "zerolinewidth": 2
          },
          "yaxis": {
           "automargin": true,
           "gridcolor": "white",
           "linecolor": "white",
           "ticks": "",
           "title": {
            "standoff": 15
           },
           "zerolinecolor": "white",
           "zerolinewidth": 2
          }
         }
        },
        "xaxis": {
         "anchor": "y",
         "domain": [
          0,
          1
         ],
         "tickangle": -45,
         "title": {
          "text": "Month and Day"
         }
        },
        "yaxis": {
         "anchor": "x",
         "domain": [
          0,
          1
         ],
         "title": {
          "text": "Indicator Median"
         }
        }
       }
      },
      "text/html": [
       "<div>\n",
       "        \n",
       "        \n",
       "            <div id=\"bbc04109-ec7c-4667-920c-d323abe9574b\" class=\"plotly-graph-div\" style=\"height:525px; width:100%;\"></div>\n",
       "            <script type=\"text/javascript\">\n",
       "                require([\"plotly\"], function(Plotly) {\n",
       "                    window.PLOTLYENV=window.PLOTLYENV || {};\n",
       "                    \n",
       "                if (document.getElementById(\"bbc04109-ec7c-4667-920c-d323abe9574b\")) {\n",
       "                    Plotly.newPlot(\n",
       "                        'bbc04109-ec7c-4667-920c-d323abe9574b',\n",
       "                        [{\"hovertemplate\": \"Year=Y2019<br>DayMonth=%{x}<br>median=%{y}<extra></extra>\", \"legendgroup\": \"Y2019\", \"line\": {\"color\": \"#636efa\", \"dash\": \"solid\"}, \"mode\": \"lines\", \"name\": \"Y2019\", \"orientation\": \"v\", \"showlegend\": true, \"type\": \"scatter\", \"x\": [\"Jan 2\", \"Jan 3\", \"Jan 4\", \"Jan 5\", \"Jan 6\", \"Jan 7\", \"Jan 8\", \"Jan 9\", \"Jan 10\", \"Jan 11\", \"Jan 12\", \"Jan 13\", \"Jan 14\", \"Jan 15\", \"Jan 16\", \"Jan 17\", \"Jan 18\", \"Jan 19\", \"Jan 20\", \"Jan 21\", \"Jan 22\", \"Jan 23\", \"Jan 24\", \"Jan 25\", \"Jan 26\", \"Jan 27\", \"Jan 28\", \"Jan 29\", \"Jan 30\", \"Jan 31\", \"Feb 1\", \"Feb 2\", \"Feb 3\", \"Feb 4\", \"Feb 5\", \"Feb 6\", \"Feb 7\", \"Feb 8\", \"Feb 9\", \"Feb 10\", \"Feb 11\", \"Feb 12\", \"Feb 13\", \"Feb 14\", \"Feb 15\", \"Feb 16\", \"Feb 17\", \"Feb 18\", \"Feb 19\", \"Feb 20\", \"Feb 21\", \"Feb 22\", \"Feb 23\", \"Feb 24\", \"Feb 25\", \"Feb 26\", \"Feb 27\", \"Feb 28\", \"Mar 1\", \"Mar 2\", \"Mar 3\", \"Mar 4\", \"Mar 5\", \"Mar 6\", \"Mar 7\", \"Mar 8\", \"Mar 9\", \"Mar 10\", \"Mar 11\", \"Mar 12\", \"Mar 13\", \"Mar 14\", \"Mar 15\", \"Mar 16\", \"Mar 17\", \"Mar 18\", \"Mar 19\", \"Mar 20\", \"Mar 21\", \"Mar 22\", \"Mar 23\", \"Mar 24\", \"Mar 25\", \"Mar 26\", \"Mar 27\", \"Mar 28\", \"Mar 29\", \"Mar 30\", \"Mar 31\", \"Apr 1\", \"Apr 2\", \"Apr 3\", \"Apr 4\", \"Apr 5\", \"Apr 6\", \"Apr 7\", \"Apr 8\", \"Apr 9\", \"Apr 10\", \"Apr 11\", \"Apr 12\", \"Apr 13\", \"Apr 14\", \"Apr 15\", \"Apr 16\", \"Apr 17\", \"Apr 18\", \"Apr 19\", \"Apr 20\", \"Apr 21\", \"Apr 22\", \"Apr 23\", \"Apr 24\", \"Apr 25\", \"Apr 26\", \"Apr 27\", \"Apr 28\", \"Apr 29\", \"Apr 30\", \"May 1\", \"May 2\", \"May 3\", \"May 4\", \"May 5\", \"May 6\", \"May 7\", \"May 8\", \"May 9\", \"May 10\", \"May 11\", \"May 12\", \"May 13\", \"May 14\", \"May 15\", \"May 16\", \"May 17\", \"May 18\", \"May 19\"], \"xaxis\": \"x\", \"y\": [16.7, 20.2, 21.3, 15.1, 19.4, 22.2, 17.1, 17.9, 25.3, 25.6, 16.1, 8.2, 16.3, 21.1, 21.1, 17.6, 31.7, 21.8, 17.2, 25.0, 21.9, 21.3, 29.0, 26.8, 16.6, 10.7, 18.1, 27.1, 18.6, 23.4, 29.3, 16.6, 12.3, 27.4, 25.6, 22.0, 15.2, 13.1, 10.3, 7.5, 19.7, 33.7, 30.7, 31.4, 39.1, 42.5, 32.0, 34.4, 21.3, 36.7, 41.6, 41.4, 21.7, 25.1, 32.3, 34.8, 41.9, 24.6, 16.1, 14.4, 7.8, 8.6, 16.0, 22.7, 12.5, 13.6, 11.5, 7.7, 12.4, 18.7, 10.8, 12.0, 9.7, 8.4, 8.8, 16.9, 30.6, 36.4, 32.9, 29.3, 18.5, 14.0, 14.4, 14.7, 19.5, 21.5, 24.4, 37.6, 30.3, 17.5, 17.5, 13.2, 23.4, 22.8, 18.8, 13.0, 27.8, 22.4, 18.2, 16.0, 16.4, 16.4, 14.7, 23.8, 23.2, 22.9, 22.5, 31.8, 23.3, 19.7, 31.2, 33.2, 16.6, 14.5, 15.2, 6.1, 7.7, 18.2, 18.1, 13.8, 13.3, 16.6, 11.5, 10.3, 19.1, 26.3, 13.3, 12.8, 20.2, 11.2, 9.9, 13.2, 14.2, 17.5, 19.5, 21.2, 18.6, 16.3], \"yaxis\": \"y\"}, {\"hovertemplate\": \"Year=Y2020<br>DayMonth=%{x}<br>median=%{y}<extra></extra>\", \"legendgroup\": \"Y2020\", \"line\": {\"color\": \"#EF553B\", \"dash\": \"solid\"}, \"mode\": \"lines\", \"name\": \"Y2020\", \"orientation\": \"v\", \"showlegend\": true, \"type\": \"scatter\", \"x\": [\"Jan 2\", \"Jan 3\", \"Jan 4\", \"Jan 5\", \"Jan 6\", \"Jan 7\", \"Jan 8\", \"Jan 9\", \"Jan 10\", \"Jan 11\", \"Jan 12\", \"Jan 13\", \"Jan 14\", \"Jan 15\", \"Jan 16\", \"Jan 17\", \"Jan 18\", \"Jan 19\", \"Jan 20\", \"Jan 21\", \"Jan 22\", \"Jan 23\", \"Jan 24\", \"Jan 25\", \"Jan 26\", \"Jan 27\", \"Jan 28\", \"Jan 29\", \"Jan 30\", \"Jan 31\", \"Feb 1\", \"Feb 2\", \"Feb 3\", \"Feb 4\", \"Feb 5\", \"Feb 6\", \"Feb 7\", \"Feb 8\", \"Feb 9\", \"Feb 10\", \"Feb 11\", \"Feb 12\", \"Feb 13\", \"Feb 14\", \"Feb 15\", \"Feb 16\", \"Feb 17\", \"Feb 18\", \"Feb 19\", \"Feb 20\", \"Feb 21\", \"Feb 22\", \"Feb 23\", \"Feb 24\", \"Feb 25\", \"Feb 26\", \"Feb 27\", \"Feb 28\", \"Mar 1\", \"Mar 2\", \"Mar 3\", \"Mar 4\", \"Mar 5\", \"Mar 6\", \"Mar 7\", \"Mar 8\", \"Mar 9\", \"Mar 10\", \"Mar 11\", \"Mar 12\", \"Mar 13\", \"Mar 14\", \"Mar 15\", \"Mar 16\", \"Mar 17\", \"Mar 18\", \"Mar 19\", \"Mar 20\", \"Mar 21\", \"Mar 22\", \"Mar 23\", \"Mar 24\", \"Mar 25\", \"Mar 26\", \"Mar 27\", \"Mar 28\", \"Mar 29\", \"Mar 30\", \"Mar 31\", \"Apr 1\", \"Apr 2\", \"Apr 3\", \"Apr 4\", \"Apr 5\", \"Apr 6\", \"Apr 7\", \"Apr 8\", \"Apr 9\", \"Apr 10\", \"Apr 11\", \"Apr 12\", \"Apr 13\", \"Apr 14\", \"Apr 15\", \"Apr 16\", \"Apr 17\", \"Apr 18\", \"Apr 19\", \"Apr 20\", \"Apr 21\", \"Apr 22\", \"Apr 23\", \"Apr 24\", \"Apr 25\", \"Apr 26\", \"Apr 27\", \"Apr 28\", \"Apr 29\", \"Apr 30\", \"May 1\", \"May 2\", \"May 3\", \"May 4\", \"May 5\", \"May 6\", \"May 7\", \"May 8\", \"May 9\", \"May 10\", \"May 11\", \"May 12\", \"May 13\", \"May 14\", \"May 15\", \"May 16\", \"May 17\", \"May 18\", \"May 19\"], \"xaxis\": \"x\", \"y\": [19.3, 13.9, 18.1, 20.2, 23.4, 20.2, 18.7, 12.2, 15.4, 24.5, 15.1, 15.2, 10.2, 18.0, 27.5, 15.8, 20.8, 20.7, 22.9, 27.4, 26.0, 23.2, 23.5, 28.2, 24.0, 13.3, 10.0, 16.6, 22.5, 14.1, 9.8, 9.7, 13.4, 10.7, 21.2, 28.6, 27.0, 21.5, 5.9, 6.4, 9.0, 14.9, 12.0, 16.7, 16.2, 4.8, 11.1, 12.5, 13.9, 13.6, 15.9, 11.3, 7.5, 9.9, 11.0, 12.1, 15.7, 22.0, 11.7, 17.0, 25.0, 21.8, 19.2, 15.3, 19.2, 11.0, 12.1, 9.3, 9.1, 8.5, 10.9, 14.4, 11.3, 21.0, 24.8, 24.6, 18.9, 10.7, 5.5, 4.2, 5.8, 8.0, 10.5, 9.9, 13.7, 11.3, 4.2, 5.8, 8.9, 11.7, 8.7, 8.1, 10.6, 7.1, 9.4, 11.7, 20.7, 25.1, 15.4, 12.2, 12.3, 6.9, 5.3, 8.6, 15.5, 18.0, 4.5, 5.1, 7.3, 8.4, 9.8, 17.0, 15.7, 6.1, 6.0, 12.9, 5.3, 5.2, 4.6, 3.0, 4.3, 7.7, 9.6, 10.8, 11.7, 20.2, 14.2, 11.7, 7.2, 5.8, 8.7, 11.1, 8.3, 10.1, 11.4, 8.5, 10.9, 10.6], \"yaxis\": \"y\"}],\n",
       "                        {\"legend\": {\"title\": {\"text\": \"Year\"}, \"tracegroupgap\": 0}, \"margin\": {\"t\": 60}, \"template\": {\"data\": {\"bar\": [{\"error_x\": {\"color\": \"#2a3f5f\"}, \"error_y\": {\"color\": \"#2a3f5f\"}, \"marker\": {\"line\": {\"color\": \"#E5ECF6\", \"width\": 0.5}}, \"type\": \"bar\"}], \"barpolar\": [{\"marker\": {\"line\": {\"color\": \"#E5ECF6\", \"width\": 0.5}}, \"type\": \"barpolar\"}], \"carpet\": [{\"aaxis\": {\"endlinecolor\": \"#2a3f5f\", \"gridcolor\": \"white\", \"linecolor\": \"white\", \"minorgridcolor\": \"white\", \"startlinecolor\": \"#2a3f5f\"}, \"baxis\": {\"endlinecolor\": \"#2a3f5f\", \"gridcolor\": \"white\", \"linecolor\": \"white\", \"minorgridcolor\": \"white\", \"startlinecolor\": \"#2a3f5f\"}, \"type\": \"carpet\"}], \"choropleth\": [{\"colorbar\": {\"outlinewidth\": 0, \"ticks\": \"\"}, \"type\": \"choropleth\"}], \"contour\": [{\"colorbar\": {\"outlinewidth\": 0, \"ticks\": \"\"}, \"colorscale\": [[0.0, \"#0d0887\"], [0.1111111111111111, \"#46039f\"], [0.2222222222222222, \"#7201a8\"], [0.3333333333333333, \"#9c179e\"], [0.4444444444444444, \"#bd3786\"], [0.5555555555555556, \"#d8576b\"], [0.6666666666666666, \"#ed7953\"], [0.7777777777777778, \"#fb9f3a\"], [0.8888888888888888, \"#fdca26\"], [1.0, \"#f0f921\"]], \"type\": \"contour\"}], \"contourcarpet\": [{\"colorbar\": {\"outlinewidth\": 0, \"ticks\": \"\"}, \"type\": \"contourcarpet\"}], \"heatmap\": [{\"colorbar\": {\"outlinewidth\": 0, \"ticks\": \"\"}, \"colorscale\": [[0.0, \"#0d0887\"], [0.1111111111111111, \"#46039f\"], [0.2222222222222222, \"#7201a8\"], [0.3333333333333333, \"#9c179e\"], [0.4444444444444444, \"#bd3786\"], [0.5555555555555556, \"#d8576b\"], [0.6666666666666666, \"#ed7953\"], [0.7777777777777778, \"#fb9f3a\"], [0.8888888888888888, \"#fdca26\"], [1.0, \"#f0f921\"]], \"type\": \"heatmap\"}], \"heatmapgl\": [{\"colorbar\": {\"outlinewidth\": 0, \"ticks\": \"\"}, \"colorscale\": [[0.0, \"#0d0887\"], [0.1111111111111111, \"#46039f\"], [0.2222222222222222, \"#7201a8\"], [0.3333333333333333, \"#9c179e\"], [0.4444444444444444, \"#bd3786\"], [0.5555555555555556, \"#d8576b\"], [0.6666666666666666, \"#ed7953\"], [0.7777777777777778, \"#fb9f3a\"], [0.8888888888888888, \"#fdca26\"], [1.0, \"#f0f921\"]], \"type\": \"heatmapgl\"}], \"histogram\": [{\"marker\": {\"colorbar\": {\"outlinewidth\": 0, \"ticks\": \"\"}}, \"type\": \"histogram\"}], \"histogram2d\": [{\"colorbar\": {\"outlinewidth\": 0, \"ticks\": \"\"}, \"colorscale\": [[0.0, \"#0d0887\"], [0.1111111111111111, \"#46039f\"], [0.2222222222222222, \"#7201a8\"], [0.3333333333333333, \"#9c179e\"], [0.4444444444444444, \"#bd3786\"], [0.5555555555555556, \"#d8576b\"], [0.6666666666666666, \"#ed7953\"], [0.7777777777777778, \"#fb9f3a\"], [0.8888888888888888, \"#fdca26\"], [1.0, \"#f0f921\"]], \"type\": \"histogram2d\"}], \"histogram2dcontour\": [{\"colorbar\": {\"outlinewidth\": 0, \"ticks\": \"\"}, \"colorscale\": [[0.0, \"#0d0887\"], [0.1111111111111111, \"#46039f\"], [0.2222222222222222, \"#7201a8\"], [0.3333333333333333, \"#9c179e\"], [0.4444444444444444, \"#bd3786\"], [0.5555555555555556, \"#d8576b\"], [0.6666666666666666, \"#ed7953\"], [0.7777777777777778, \"#fb9f3a\"], [0.8888888888888888, \"#fdca26\"], [1.0, \"#f0f921\"]], \"type\": \"histogram2dcontour\"}], \"mesh3d\": [{\"colorbar\": {\"outlinewidth\": 0, \"ticks\": \"\"}, \"type\": \"mesh3d\"}], \"parcoords\": [{\"line\": {\"colorbar\": {\"outlinewidth\": 0, \"ticks\": \"\"}}, \"type\": \"parcoords\"}], \"pie\": [{\"automargin\": true, \"type\": \"pie\"}], \"scatter\": [{\"marker\": {\"colorbar\": {\"outlinewidth\": 0, \"ticks\": \"\"}}, \"type\": \"scatter\"}], \"scatter3d\": [{\"line\": {\"colorbar\": {\"outlinewidth\": 0, \"ticks\": \"\"}}, \"marker\": {\"colorbar\": {\"outlinewidth\": 0, \"ticks\": \"\"}}, \"type\": \"scatter3d\"}], \"scattercarpet\": [{\"marker\": {\"colorbar\": {\"outlinewidth\": 0, \"ticks\": \"\"}}, \"type\": \"scattercarpet\"}], \"scattergeo\": [{\"marker\": {\"colorbar\": {\"outlinewidth\": 0, \"ticks\": \"\"}}, \"type\": \"scattergeo\"}], \"scattergl\": [{\"marker\": {\"colorbar\": {\"outlinewidth\": 0, \"ticks\": \"\"}}, \"type\": \"scattergl\"}], \"scattermapbox\": [{\"marker\": {\"colorbar\": {\"outlinewidth\": 0, \"ticks\": \"\"}}, \"type\": \"scattermapbox\"}], \"scatterpolar\": [{\"marker\": {\"colorbar\": {\"outlinewidth\": 0, \"ticks\": \"\"}}, \"type\": \"scatterpolar\"}], \"scatterpolargl\": [{\"marker\": {\"colorbar\": {\"outlinewidth\": 0, \"ticks\": \"\"}}, \"type\": \"scatterpolargl\"}], \"scatterternary\": [{\"marker\": {\"colorbar\": {\"outlinewidth\": 0, \"ticks\": \"\"}}, \"type\": \"scatterternary\"}], \"surface\": [{\"colorbar\": {\"outlinewidth\": 0, \"ticks\": \"\"}, \"colorscale\": [[0.0, \"#0d0887\"], [0.1111111111111111, \"#46039f\"], [0.2222222222222222, \"#7201a8\"], [0.3333333333333333, \"#9c179e\"], [0.4444444444444444, \"#bd3786\"], [0.5555555555555556, \"#d8576b\"], [0.6666666666666666, \"#ed7953\"], [0.7777777777777778, \"#fb9f3a\"], [0.8888888888888888, \"#fdca26\"], [1.0, \"#f0f921\"]], \"type\": \"surface\"}], \"table\": [{\"cells\": {\"fill\": {\"color\": \"#EBF0F8\"}, \"line\": {\"color\": \"white\"}}, \"header\": {\"fill\": {\"color\": \"#C8D4E3\"}, \"line\": {\"color\": \"white\"}}, \"type\": \"table\"}]}, \"layout\": {\"annotationdefaults\": {\"arrowcolor\": \"#2a3f5f\", \"arrowhead\": 0, \"arrowwidth\": 1}, \"coloraxis\": {\"colorbar\": {\"outlinewidth\": 0, \"ticks\": \"\"}}, \"colorscale\": {\"diverging\": [[0, \"#8e0152\"], [0.1, \"#c51b7d\"], [0.2, \"#de77ae\"], [0.3, \"#f1b6da\"], [0.4, \"#fde0ef\"], [0.5, \"#f7f7f7\"], [0.6, \"#e6f5d0\"], [0.7, \"#b8e186\"], [0.8, \"#7fbc41\"], [0.9, \"#4d9221\"], [1, \"#276419\"]], \"sequential\": [[0.0, \"#0d0887\"], [0.1111111111111111, \"#46039f\"], [0.2222222222222222, \"#7201a8\"], [0.3333333333333333, \"#9c179e\"], [0.4444444444444444, \"#bd3786\"], [0.5555555555555556, \"#d8576b\"], [0.6666666666666666, \"#ed7953\"], [0.7777777777777778, \"#fb9f3a\"], [0.8888888888888888, \"#fdca26\"], [1.0, \"#f0f921\"]], \"sequentialminus\": [[0.0, \"#0d0887\"], [0.1111111111111111, \"#46039f\"], [0.2222222222222222, \"#7201a8\"], [0.3333333333333333, \"#9c179e\"], [0.4444444444444444, \"#bd3786\"], [0.5555555555555556, \"#d8576b\"], [0.6666666666666666, \"#ed7953\"], [0.7777777777777778, \"#fb9f3a\"], [0.8888888888888888, \"#fdca26\"], [1.0, \"#f0f921\"]]}, \"colorway\": [\"#636efa\", \"#EF553B\", \"#00cc96\", \"#ab63fa\", \"#FFA15A\", \"#19d3f3\", \"#FF6692\", \"#B6E880\", \"#FF97FF\", \"#FECB52\"], \"font\": {\"color\": \"#2a3f5f\"}, \"geo\": {\"bgcolor\": \"white\", \"lakecolor\": \"white\", \"landcolor\": \"#E5ECF6\", \"showlakes\": true, \"showland\": true, \"subunitcolor\": \"white\"}, \"hoverlabel\": {\"align\": \"left\"}, \"hovermode\": \"closest\", \"mapbox\": {\"style\": \"light\"}, \"paper_bgcolor\": \"white\", \"plot_bgcolor\": \"#E5ECF6\", \"polar\": {\"angularaxis\": {\"gridcolor\": \"white\", \"linecolor\": \"white\", \"ticks\": \"\"}, \"bgcolor\": \"#E5ECF6\", \"radialaxis\": {\"gridcolor\": \"white\", \"linecolor\": \"white\", \"ticks\": \"\"}}, \"scene\": {\"xaxis\": {\"backgroundcolor\": \"#E5ECF6\", \"gridcolor\": \"white\", \"gridwidth\": 2, \"linecolor\": \"white\", \"showbackground\": true, \"ticks\": \"\", \"zerolinecolor\": \"white\"}, \"yaxis\": {\"backgroundcolor\": \"#E5ECF6\", \"gridcolor\": \"white\", \"gridwidth\": 2, \"linecolor\": \"white\", \"showbackground\": true, \"ticks\": \"\", \"zerolinecolor\": \"white\"}, \"zaxis\": {\"backgroundcolor\": \"#E5ECF6\", \"gridcolor\": \"white\", \"gridwidth\": 2, \"linecolor\": \"white\", \"showbackground\": true, \"ticks\": \"\", \"zerolinecolor\": \"white\"}}, \"shapedefaults\": {\"line\": {\"color\": \"#2a3f5f\"}}, \"ternary\": {\"aaxis\": {\"gridcolor\": \"white\", \"linecolor\": \"white\", \"ticks\": \"\"}, \"baxis\": {\"gridcolor\": \"white\", \"linecolor\": \"white\", \"ticks\": \"\"}, \"bgcolor\": \"#E5ECF6\", \"caxis\": {\"gridcolor\": \"white\", \"linecolor\": \"white\", \"ticks\": \"\"}}, \"title\": {\"x\": 0.05}, \"xaxis\": {\"automargin\": true, \"gridcolor\": \"white\", \"linecolor\": \"white\", \"ticks\": \"\", \"title\": {\"standoff\": 15}, \"zerolinecolor\": \"white\", \"zerolinewidth\": 2}, \"yaxis\": {\"automargin\": true, \"gridcolor\": \"white\", \"linecolor\": \"white\", \"ticks\": \"\", \"title\": {\"standoff\": 15}, \"zerolinecolor\": \"white\", \"zerolinewidth\": 2}}}, \"xaxis\": {\"anchor\": \"y\", \"domain\": [0.0, 1.0], \"tickangle\": -45, \"title\": {\"text\": \"Month and Day\"}}, \"yaxis\": {\"anchor\": \"x\", \"domain\": [0.0, 1.0], \"title\": {\"text\": \"Indicator Median\"}}},\n",
       "                        {\"responsive\": true}\n",
       "                    ).then(function(){\n",
       "                            \n",
       "var gd = document.getElementById('bbc04109-ec7c-4667-920c-d323abe9574b');\n",
       "var x = new MutationObserver(function (mutations, observer) {{\n",
       "        var display = window.getComputedStyle(gd).display;\n",
       "        if (!display || display === 'none') {{\n",
       "            console.log([gd, 'removed!']);\n",
       "            Plotly.purge(gd);\n",
       "            observer.disconnect();\n",
       "        }}\n",
       "}});\n",
       "\n",
       "// Listen for the removal of the full notebook cells\n",
       "var notebookContainer = gd.closest('#notebook-container');\n",
       "if (notebookContainer) {{\n",
       "    x.observe(notebookContainer, {childList: true});\n",
       "}}\n",
       "\n",
       "// Listen for the clearing of the current output cell\n",
       "var outputEl = gd.closest('.output');\n",
       "if (outputEl) {{\n",
       "    x.observe(outputEl, {childList: true});\n",
       "}}\n",
       "\n",
       "                        })\n",
       "                };\n",
       "                });\n",
       "            </script>\n",
       "        </div>"
      ]
     },
     "metadata": {},
     "output_type": "display_data"
    }
   ],
   "source": [
    "def line_plot(data, kpi, city):\n",
    "    try:\n",
    "        data = data[(data[\"Specie\"]==kpi) & (data[\"City\"]==city)]\n",
    "        sub_df = data[data.groupby('DayMonth').DayMonth.transform('count')>1].copy()\n",
    "        fig = px.line(sub_df.sort_values([\"DayOfYear\"]), x=\"DayMonth\", y=\"median\", color=\"Year\") #labels={'x':'DayMonth'}\n",
    "        fig.update_xaxes(tickangle=-45, title_text='Month and Day')\n",
    "        fig.update_yaxes(title_text='Indicator Median')\n",
    "    except:\n",
    "        pass\n",
    "    return fig\n",
    "\n",
    "data2019_grouped = clean_data2019[[\"DayOfYear\", \"DayMonth\", \"Specie\", \"City\", \"median\"]].groupby([\"DayOfYear\", \"DayMonth\", \"Specie\", \"City\"], as_index=False).mean().sort_values('DayOfYear', ascending=True)\n",
    "data2020_grouped = clean_data2020[[\"DayOfYear\", \"DayMonth\", \"Specie\", \"City\", \"median\"]].groupby([\"DayOfYear\", \"DayMonth\", \"Specie\", \"City\"], as_index=False).mean().sort_values('DayOfYear', ascending=True)\n",
    "data2019_grouped['Year'] = 'Y2019'\n",
    "data2020_grouped['Year'] = 'Y2020'\n",
    "\n",
    "data_grouped_days = pd.concat([data2019_grouped, data2020_grouped])\n",
    "#data_grouped_days = data_grouped_days[data_grouped_days.groupby('DayMonth').DayMonth.transform('count')>1].copy()\n",
    "#data_grouped_days = data_grouped_days[(data_grouped_days[\"Specie\"]==\"co\") & (data_grouped_days[\"CountryName\"]==\"Argentina\")]\n",
    "\n",
    "figure = line_plot(data_grouped_days, 'no2', 'Paris')\n",
    "figure.show()"
   ]
  },
  {
   "cell_type": "markdown",
   "metadata": {},
   "source": [
    "# Plot o3 levels for 2019 and 2020 for Paris"
   ]
  },
  {
   "cell_type": "code",
   "execution_count": 30,
   "metadata": {},
   "outputs": [
    {
     "data": {
      "application/vnd.plotly.v1+json": {
       "config": {
        "plotlyServerURL": "https://plot.ly"
       },
       "data": [
        {
         "hovertemplate": "Year=Y2019<br>DayMonth=%{x}<br>median=%{y}<extra></extra>",
         "legendgroup": "Y2019",
         "line": {
          "color": "#636efa",
          "dash": "solid"
         },
         "mode": "lines",
         "name": "Y2019",
         "orientation": "v",
         "showlegend": true,
         "type": "scatter",
         "x": [
          "Jan 2",
          "Jan 3",
          "Jan 4",
          "Jan 5",
          "Jan 6",
          "Jan 7",
          "Jan 8",
          "Jan 9",
          "Jan 10",
          "Jan 11",
          "Jan 12",
          "Jan 13",
          "Jan 14",
          "Jan 15",
          "Jan 16",
          "Jan 17",
          "Jan 18",
          "Jan 19",
          "Jan 20",
          "Jan 21",
          "Jan 22",
          "Jan 23",
          "Jan 24",
          "Jan 25",
          "Jan 26",
          "Jan 27",
          "Jan 28",
          "Jan 29",
          "Jan 30",
          "Jan 31",
          "Feb 1",
          "Feb 2",
          "Feb 3",
          "Feb 4",
          "Feb 5",
          "Feb 6",
          "Feb 7",
          "Feb 8",
          "Feb 9",
          "Feb 10",
          "Feb 11",
          "Feb 12",
          "Feb 13",
          "Feb 14",
          "Feb 15",
          "Feb 16",
          "Feb 17",
          "Feb 18",
          "Feb 19",
          "Feb 20",
          "Feb 21",
          "Feb 22",
          "Feb 23",
          "Feb 24",
          "Feb 25",
          "Feb 26",
          "Feb 27",
          "Feb 28",
          "Mar 1",
          "Mar 2",
          "Mar 3",
          "Mar 4",
          "Mar 5",
          "Mar 6",
          "Mar 7",
          "Mar 8",
          "Mar 9",
          "Mar 10",
          "Mar 11",
          "Mar 12",
          "Mar 13",
          "Mar 14",
          "Mar 15",
          "Mar 16",
          "Mar 17",
          "Mar 18",
          "Mar 19",
          "Mar 20",
          "Mar 21",
          "Mar 22",
          "Mar 23",
          "Mar 24",
          "Mar 25",
          "Mar 26",
          "Mar 27",
          "Mar 28",
          "Mar 29",
          "Mar 30",
          "Mar 31",
          "Apr 1",
          "Apr 2",
          "Apr 3",
          "Apr 4",
          "Apr 5",
          "Apr 6",
          "Apr 7",
          "Apr 8",
          "Apr 9",
          "Apr 10",
          "Apr 11",
          "Apr 12",
          "Apr 13",
          "Apr 14",
          "Apr 15",
          "Apr 16",
          "Apr 17",
          "Apr 18",
          "Apr 19",
          "Apr 20",
          "Apr 21",
          "Apr 22",
          "Apr 23",
          "Apr 24",
          "Apr 25",
          "Apr 26",
          "Apr 27",
          "Apr 28",
          "Apr 29",
          "Apr 30",
          "May 1",
          "May 2",
          "May 3",
          "May 4",
          "May 5",
          "May 6",
          "May 7",
          "May 8",
          "May 9",
          "May 10",
          "May 11",
          "May 12",
          "May 13",
          "May 14",
          "May 15",
          "May 16",
          "May 17",
          "May 18",
          "May 19"
         ],
         "xaxis": "x",
         "y": [
          12.2,
          11.5,
          10.7,
          13,
          9.1,
          5.9,
          15.6,
          14.9,
          9.6,
          3.4,
          12.4,
          22.5,
          16.4,
          15,
          17.9,
          15.8,
          4.7,
          7.8,
          3.8,
          1.4,
          3.5,
          6.8,
          2.3,
          2.5,
          16.8,
          24.2,
          18.2,
          10.3,
          15.4,
          11.8,
          10.4,
          9.9,
          15.4,
          4.9,
          11.8,
          3.3,
          17.8,
          21.5,
          26.8,
          26.5,
          16.6,
          3.6,
          1.7,
          1.7,
          1.6,
          1.5,
          4.6,
          5.4,
          16.2,
          2,
          1.1,
          1.8,
          10,
          8.1,
          4.9,
          2.6,
          2.2,
          22.2,
          18.9,
          21.2,
          26.2,
          29.5,
          23.6,
          14,
          26.7,
          26.8,
          23.5,
          28,
          30.6,
          26.4,
          29,
          25.3,
          21.9,
          28,
          32.4,
          24,
          13.6,
          5.1,
          9.3,
          6.2,
          12.6,
          12.7,
          24.8,
          30.1,
          20.9,
          13.4,
          10.8,
          10.1,
          24.5,
          21.7,
          31.4,
          30,
          26,
          22.6,
          23.4,
          28.6,
          15.6,
          16.5,
          10.9,
          18.9,
          20.2,
          20.8,
          22.6,
          21.5,
          22.3,
          20.3,
          22.1,
          22.2,
          33.5,
          30.8,
          22.6,
          19,
          23.6,
          24.8,
          24.5,
          31.2,
          27.9,
          19.2,
          17.5,
          18.6,
          24.2,
          21.8,
          23,
          25.2,
          24.1,
          23.4,
          26.3,
          25.4,
          22.8,
          24.5,
          29.9,
          28.2,
          28.9,
          27.5,
          29,
          25.5,
          24.2,
          17.2
         ],
         "yaxis": "y"
        },
        {
         "hovertemplate": "Year=Y2020<br>DayMonth=%{x}<br>median=%{y}<extra></extra>",
         "legendgroup": "Y2020",
         "line": {
          "color": "#EF553B",
          "dash": "solid"
         },
         "mode": "lines",
         "name": "Y2020",
         "orientation": "v",
         "showlegend": true,
         "type": "scatter",
         "x": [
          "Jan 2",
          "Jan 3",
          "Jan 4",
          "Jan 5",
          "Jan 6",
          "Jan 7",
          "Jan 8",
          "Jan 9",
          "Jan 10",
          "Jan 11",
          "Jan 12",
          "Jan 13",
          "Jan 14",
          "Jan 15",
          "Jan 16",
          "Jan 17",
          "Jan 18",
          "Jan 19",
          "Jan 20",
          "Jan 21",
          "Jan 22",
          "Jan 23",
          "Jan 24",
          "Jan 25",
          "Jan 26",
          "Jan 27",
          "Jan 28",
          "Jan 29",
          "Jan 30",
          "Jan 31",
          "Feb 1",
          "Feb 2",
          "Feb 3",
          "Feb 4",
          "Feb 5",
          "Feb 6",
          "Feb 7",
          "Feb 8",
          "Feb 9",
          "Feb 10",
          "Feb 11",
          "Feb 12",
          "Feb 13",
          "Feb 14",
          "Feb 15",
          "Feb 16",
          "Feb 17",
          "Feb 18",
          "Feb 19",
          "Feb 20",
          "Feb 21",
          "Feb 22",
          "Feb 23",
          "Feb 24",
          "Feb 25",
          "Feb 26",
          "Feb 27",
          "Feb 28",
          "Mar 1",
          "Mar 2",
          "Mar 3",
          "Mar 4",
          "Mar 5",
          "Mar 6",
          "Mar 7",
          "Mar 8",
          "Mar 9",
          "Mar 10",
          "Mar 11",
          "Mar 12",
          "Mar 13",
          "Mar 14",
          "Mar 15",
          "Mar 16",
          "Mar 17",
          "Mar 18",
          "Mar 19",
          "Mar 20",
          "Mar 21",
          "Mar 22",
          "Mar 23",
          "Mar 24",
          "Mar 25",
          "Mar 26",
          "Mar 27",
          "Mar 28",
          "Mar 29",
          "Mar 30",
          "Mar 31",
          "Apr 1",
          "Apr 2",
          "Apr 3",
          "Apr 4",
          "Apr 5",
          "Apr 6",
          "Apr 7",
          "Apr 8",
          "Apr 9",
          "Apr 10",
          "Apr 11",
          "Apr 12",
          "Apr 13",
          "Apr 14",
          "Apr 15",
          "Apr 16",
          "Apr 17",
          "Apr 18",
          "Apr 19",
          "Apr 20",
          "Apr 21",
          "Apr 22",
          "Apr 23",
          "Apr 24",
          "Apr 25",
          "Apr 26",
          "Apr 27",
          "Apr 28",
          "Apr 29",
          "Apr 30",
          "May 1",
          "May 2",
          "May 3",
          "May 4",
          "May 5",
          "May 6",
          "May 7",
          "May 8",
          "May 9",
          "May 10",
          "May 11",
          "May 12",
          "May 13",
          "May 14",
          "May 15",
          "May 16",
          "May 17",
          "May 18",
          "May 19"
         ],
         "xaxis": "x",
         "y": [
          3.6,
          17.4,
          15.2,
          13.9,
          10.2,
          5.4,
          10.6,
          14.6,
          17,
          15.6,
          15,
          15.2,
          21.8,
          19.4,
          6.3,
          20,
          14.5,
          10.8,
          9.1,
          3.5,
          1.9,
          2.3,
          1.7,
          1.6,
          1.9,
          18.2,
          28.2,
          23.3,
          14.1,
          17.5,
          20.8,
          19,
          20.4,
          24.8,
          18.3,
          10,
          7.5,
          10.8,
          24.3,
          27.3,
          27.6,
          22.6,
          21.8,
          21.8,
          18.4,
          22.2,
          26.7,
          21.5,
          21.6,
          21.9,
          18.4,
          19.7,
          21,
          16.3,
          25.4,
          24.7,
          18.8,
          15,
          25.3,
          22,
          23.3,
          17.2,
          13.5,
          21.8,
          18.9,
          0.3,
          22.9,
          19,
          22,
          27.2,
          26.9,
          20.7,
          20.1,
          14.8,
          9.5,
          8,
          14.4,
          13.2,
          19.9,
          22.8,
          28.7,
          27.6,
          26.5,
          29.2,
          22.8,
          22.5,
          30.5,
          28.7,
          25.1,
          24.1,
          27.9,
          26.9,
          24.4,
          30.1,
          26.7,
          19.6,
          26.9,
          27.9,
          33.8,
          30.5,
          35.3,
          28.5,
          30.6,
          29.9,
          25.8,
          21.2,
          32,
          28.9,
          29,
          31.8,
          32.7,
          24.3,
          34.1,
          37.5,
          35.8,
          32.8,
          31,
          29.7,
          29.7,
          28.2,
          31.1,
          26.2,
          21.1,
          21.6,
          26.9,
          33.3,
          39,
          31.7,
          25.6,
          25.9,
          22.6,
          30.6,
          28.8,
          29.1,
          32.2,
          36.8,
          30.1,
          26.8
         ],
         "yaxis": "y"
        }
       ],
       "layout": {
        "legend": {
         "title": {
          "text": "Year"
         },
         "tracegroupgap": 0
        },
        "margin": {
         "t": 60
        },
        "template": {
         "data": {
          "bar": [
           {
            "error_x": {
             "color": "#2a3f5f"
            },
            "error_y": {
             "color": "#2a3f5f"
            },
            "marker": {
             "line": {
              "color": "#E5ECF6",
              "width": 0.5
             }
            },
            "type": "bar"
           }
          ],
          "barpolar": [
           {
            "marker": {
             "line": {
              "color": "#E5ECF6",
              "width": 0.5
             }
            },
            "type": "barpolar"
           }
          ],
          "carpet": [
           {
            "aaxis": {
             "endlinecolor": "#2a3f5f",
             "gridcolor": "white",
             "linecolor": "white",
             "minorgridcolor": "white",
             "startlinecolor": "#2a3f5f"
            },
            "baxis": {
             "endlinecolor": "#2a3f5f",
             "gridcolor": "white",
             "linecolor": "white",
             "minorgridcolor": "white",
             "startlinecolor": "#2a3f5f"
            },
            "type": "carpet"
           }
          ],
          "choropleth": [
           {
            "colorbar": {
             "outlinewidth": 0,
             "ticks": ""
            },
            "type": "choropleth"
           }
          ],
          "contour": [
           {
            "colorbar": {
             "outlinewidth": 0,
             "ticks": ""
            },
            "colorscale": [
             [
              0,
              "#0d0887"
             ],
             [
              0.1111111111111111,
              "#46039f"
             ],
             [
              0.2222222222222222,
              "#7201a8"
             ],
             [
              0.3333333333333333,
              "#9c179e"
             ],
             [
              0.4444444444444444,
              "#bd3786"
             ],
             [
              0.5555555555555556,
              "#d8576b"
             ],
             [
              0.6666666666666666,
              "#ed7953"
             ],
             [
              0.7777777777777778,
              "#fb9f3a"
             ],
             [
              0.8888888888888888,
              "#fdca26"
             ],
             [
              1,
              "#f0f921"
             ]
            ],
            "type": "contour"
           }
          ],
          "contourcarpet": [
           {
            "colorbar": {
             "outlinewidth": 0,
             "ticks": ""
            },
            "type": "contourcarpet"
           }
          ],
          "heatmap": [
           {
            "colorbar": {
             "outlinewidth": 0,
             "ticks": ""
            },
            "colorscale": [
             [
              0,
              "#0d0887"
             ],
             [
              0.1111111111111111,
              "#46039f"
             ],
             [
              0.2222222222222222,
              "#7201a8"
             ],
             [
              0.3333333333333333,
              "#9c179e"
             ],
             [
              0.4444444444444444,
              "#bd3786"
             ],
             [
              0.5555555555555556,
              "#d8576b"
             ],
             [
              0.6666666666666666,
              "#ed7953"
             ],
             [
              0.7777777777777778,
              "#fb9f3a"
             ],
             [
              0.8888888888888888,
              "#fdca26"
             ],
             [
              1,
              "#f0f921"
             ]
            ],
            "type": "heatmap"
           }
          ],
          "heatmapgl": [
           {
            "colorbar": {
             "outlinewidth": 0,
             "ticks": ""
            },
            "colorscale": [
             [
              0,
              "#0d0887"
             ],
             [
              0.1111111111111111,
              "#46039f"
             ],
             [
              0.2222222222222222,
              "#7201a8"
             ],
             [
              0.3333333333333333,
              "#9c179e"
             ],
             [
              0.4444444444444444,
              "#bd3786"
             ],
             [
              0.5555555555555556,
              "#d8576b"
             ],
             [
              0.6666666666666666,
              "#ed7953"
             ],
             [
              0.7777777777777778,
              "#fb9f3a"
             ],
             [
              0.8888888888888888,
              "#fdca26"
             ],
             [
              1,
              "#f0f921"
             ]
            ],
            "type": "heatmapgl"
           }
          ],
          "histogram": [
           {
            "marker": {
             "colorbar": {
              "outlinewidth": 0,
              "ticks": ""
             }
            },
            "type": "histogram"
           }
          ],
          "histogram2d": [
           {
            "colorbar": {
             "outlinewidth": 0,
             "ticks": ""
            },
            "colorscale": [
             [
              0,
              "#0d0887"
             ],
             [
              0.1111111111111111,
              "#46039f"
             ],
             [
              0.2222222222222222,
              "#7201a8"
             ],
             [
              0.3333333333333333,
              "#9c179e"
             ],
             [
              0.4444444444444444,
              "#bd3786"
             ],
             [
              0.5555555555555556,
              "#d8576b"
             ],
             [
              0.6666666666666666,
              "#ed7953"
             ],
             [
              0.7777777777777778,
              "#fb9f3a"
             ],
             [
              0.8888888888888888,
              "#fdca26"
             ],
             [
              1,
              "#f0f921"
             ]
            ],
            "type": "histogram2d"
           }
          ],
          "histogram2dcontour": [
           {
            "colorbar": {
             "outlinewidth": 0,
             "ticks": ""
            },
            "colorscale": [
             [
              0,
              "#0d0887"
             ],
             [
              0.1111111111111111,
              "#46039f"
             ],
             [
              0.2222222222222222,
              "#7201a8"
             ],
             [
              0.3333333333333333,
              "#9c179e"
             ],
             [
              0.4444444444444444,
              "#bd3786"
             ],
             [
              0.5555555555555556,
              "#d8576b"
             ],
             [
              0.6666666666666666,
              "#ed7953"
             ],
             [
              0.7777777777777778,
              "#fb9f3a"
             ],
             [
              0.8888888888888888,
              "#fdca26"
             ],
             [
              1,
              "#f0f921"
             ]
            ],
            "type": "histogram2dcontour"
           }
          ],
          "mesh3d": [
           {
            "colorbar": {
             "outlinewidth": 0,
             "ticks": ""
            },
            "type": "mesh3d"
           }
          ],
          "parcoords": [
           {
            "line": {
             "colorbar": {
              "outlinewidth": 0,
              "ticks": ""
             }
            },
            "type": "parcoords"
           }
          ],
          "pie": [
           {
            "automargin": true,
            "type": "pie"
           }
          ],
          "scatter": [
           {
            "marker": {
             "colorbar": {
              "outlinewidth": 0,
              "ticks": ""
             }
            },
            "type": "scatter"
           }
          ],
          "scatter3d": [
           {
            "line": {
             "colorbar": {
              "outlinewidth": 0,
              "ticks": ""
             }
            },
            "marker": {
             "colorbar": {
              "outlinewidth": 0,
              "ticks": ""
             }
            },
            "type": "scatter3d"
           }
          ],
          "scattercarpet": [
           {
            "marker": {
             "colorbar": {
              "outlinewidth": 0,
              "ticks": ""
             }
            },
            "type": "scattercarpet"
           }
          ],
          "scattergeo": [
           {
            "marker": {
             "colorbar": {
              "outlinewidth": 0,
              "ticks": ""
             }
            },
            "type": "scattergeo"
           }
          ],
          "scattergl": [
           {
            "marker": {
             "colorbar": {
              "outlinewidth": 0,
              "ticks": ""
             }
            },
            "type": "scattergl"
           }
          ],
          "scattermapbox": [
           {
            "marker": {
             "colorbar": {
              "outlinewidth": 0,
              "ticks": ""
             }
            },
            "type": "scattermapbox"
           }
          ],
          "scatterpolar": [
           {
            "marker": {
             "colorbar": {
              "outlinewidth": 0,
              "ticks": ""
             }
            },
            "type": "scatterpolar"
           }
          ],
          "scatterpolargl": [
           {
            "marker": {
             "colorbar": {
              "outlinewidth": 0,
              "ticks": ""
             }
            },
            "type": "scatterpolargl"
           }
          ],
          "scatterternary": [
           {
            "marker": {
             "colorbar": {
              "outlinewidth": 0,
              "ticks": ""
             }
            },
            "type": "scatterternary"
           }
          ],
          "surface": [
           {
            "colorbar": {
             "outlinewidth": 0,
             "ticks": ""
            },
            "colorscale": [
             [
              0,
              "#0d0887"
             ],
             [
              0.1111111111111111,
              "#46039f"
             ],
             [
              0.2222222222222222,
              "#7201a8"
             ],
             [
              0.3333333333333333,
              "#9c179e"
             ],
             [
              0.4444444444444444,
              "#bd3786"
             ],
             [
              0.5555555555555556,
              "#d8576b"
             ],
             [
              0.6666666666666666,
              "#ed7953"
             ],
             [
              0.7777777777777778,
              "#fb9f3a"
             ],
             [
              0.8888888888888888,
              "#fdca26"
             ],
             [
              1,
              "#f0f921"
             ]
            ],
            "type": "surface"
           }
          ],
          "table": [
           {
            "cells": {
             "fill": {
              "color": "#EBF0F8"
             },
             "line": {
              "color": "white"
             }
            },
            "header": {
             "fill": {
              "color": "#C8D4E3"
             },
             "line": {
              "color": "white"
             }
            },
            "type": "table"
           }
          ]
         },
         "layout": {
          "annotationdefaults": {
           "arrowcolor": "#2a3f5f",
           "arrowhead": 0,
           "arrowwidth": 1
          },
          "coloraxis": {
           "colorbar": {
            "outlinewidth": 0,
            "ticks": ""
           }
          },
          "colorscale": {
           "diverging": [
            [
             0,
             "#8e0152"
            ],
            [
             0.1,
             "#c51b7d"
            ],
            [
             0.2,
             "#de77ae"
            ],
            [
             0.3,
             "#f1b6da"
            ],
            [
             0.4,
             "#fde0ef"
            ],
            [
             0.5,
             "#f7f7f7"
            ],
            [
             0.6,
             "#e6f5d0"
            ],
            [
             0.7,
             "#b8e186"
            ],
            [
             0.8,
             "#7fbc41"
            ],
            [
             0.9,
             "#4d9221"
            ],
            [
             1,
             "#276419"
            ]
           ],
           "sequential": [
            [
             0,
             "#0d0887"
            ],
            [
             0.1111111111111111,
             "#46039f"
            ],
            [
             0.2222222222222222,
             "#7201a8"
            ],
            [
             0.3333333333333333,
             "#9c179e"
            ],
            [
             0.4444444444444444,
             "#bd3786"
            ],
            [
             0.5555555555555556,
             "#d8576b"
            ],
            [
             0.6666666666666666,
             "#ed7953"
            ],
            [
             0.7777777777777778,
             "#fb9f3a"
            ],
            [
             0.8888888888888888,
             "#fdca26"
            ],
            [
             1,
             "#f0f921"
            ]
           ],
           "sequentialminus": [
            [
             0,
             "#0d0887"
            ],
            [
             0.1111111111111111,
             "#46039f"
            ],
            [
             0.2222222222222222,
             "#7201a8"
            ],
            [
             0.3333333333333333,
             "#9c179e"
            ],
            [
             0.4444444444444444,
             "#bd3786"
            ],
            [
             0.5555555555555556,
             "#d8576b"
            ],
            [
             0.6666666666666666,
             "#ed7953"
            ],
            [
             0.7777777777777778,
             "#fb9f3a"
            ],
            [
             0.8888888888888888,
             "#fdca26"
            ],
            [
             1,
             "#f0f921"
            ]
           ]
          },
          "colorway": [
           "#636efa",
           "#EF553B",
           "#00cc96",
           "#ab63fa",
           "#FFA15A",
           "#19d3f3",
           "#FF6692",
           "#B6E880",
           "#FF97FF",
           "#FECB52"
          ],
          "font": {
           "color": "#2a3f5f"
          },
          "geo": {
           "bgcolor": "white",
           "lakecolor": "white",
           "landcolor": "#E5ECF6",
           "showlakes": true,
           "showland": true,
           "subunitcolor": "white"
          },
          "hoverlabel": {
           "align": "left"
          },
          "hovermode": "closest",
          "mapbox": {
           "style": "light"
          },
          "paper_bgcolor": "white",
          "plot_bgcolor": "#E5ECF6",
          "polar": {
           "angularaxis": {
            "gridcolor": "white",
            "linecolor": "white",
            "ticks": ""
           },
           "bgcolor": "#E5ECF6",
           "radialaxis": {
            "gridcolor": "white",
            "linecolor": "white",
            "ticks": ""
           }
          },
          "scene": {
           "xaxis": {
            "backgroundcolor": "#E5ECF6",
            "gridcolor": "white",
            "gridwidth": 2,
            "linecolor": "white",
            "showbackground": true,
            "ticks": "",
            "zerolinecolor": "white"
           },
           "yaxis": {
            "backgroundcolor": "#E5ECF6",
            "gridcolor": "white",
            "gridwidth": 2,
            "linecolor": "white",
            "showbackground": true,
            "ticks": "",
            "zerolinecolor": "white"
           },
           "zaxis": {
            "backgroundcolor": "#E5ECF6",
            "gridcolor": "white",
            "gridwidth": 2,
            "linecolor": "white",
            "showbackground": true,
            "ticks": "",
            "zerolinecolor": "white"
           }
          },
          "shapedefaults": {
           "line": {
            "color": "#2a3f5f"
           }
          },
          "ternary": {
           "aaxis": {
            "gridcolor": "white",
            "linecolor": "white",
            "ticks": ""
           },
           "baxis": {
            "gridcolor": "white",
            "linecolor": "white",
            "ticks": ""
           },
           "bgcolor": "#E5ECF6",
           "caxis": {
            "gridcolor": "white",
            "linecolor": "white",
            "ticks": ""
           }
          },
          "title": {
           "x": 0.05
          },
          "xaxis": {
           "automargin": true,
           "gridcolor": "white",
           "linecolor": "white",
           "ticks": "",
           "title": {
            "standoff": 15
           },
           "zerolinecolor": "white",
           "zerolinewidth": 2
          },
          "yaxis": {
           "automargin": true,
           "gridcolor": "white",
           "linecolor": "white",
           "ticks": "",
           "title": {
            "standoff": 15
           },
           "zerolinecolor": "white",
           "zerolinewidth": 2
          }
         }
        },
        "xaxis": {
         "anchor": "y",
         "domain": [
          0,
          1
         ],
         "tickangle": -45,
         "title": {
          "text": "Month and Day"
         }
        },
        "yaxis": {
         "anchor": "x",
         "domain": [
          0,
          1
         ],
         "title": {
          "text": "Indicator Median"
         }
        }
       }
      },
      "text/html": [
       "<div>\n",
       "        \n",
       "        \n",
       "            <div id=\"8d4f877f-0bb6-4a91-97e8-ca2aa6af471d\" class=\"plotly-graph-div\" style=\"height:525px; width:100%;\"></div>\n",
       "            <script type=\"text/javascript\">\n",
       "                require([\"plotly\"], function(Plotly) {\n",
       "                    window.PLOTLYENV=window.PLOTLYENV || {};\n",
       "                    \n",
       "                if (document.getElementById(\"8d4f877f-0bb6-4a91-97e8-ca2aa6af471d\")) {\n",
       "                    Plotly.newPlot(\n",
       "                        '8d4f877f-0bb6-4a91-97e8-ca2aa6af471d',\n",
       "                        [{\"hovertemplate\": \"Year=Y2019<br>DayMonth=%{x}<br>median=%{y}<extra></extra>\", \"legendgroup\": \"Y2019\", \"line\": {\"color\": \"#636efa\", \"dash\": \"solid\"}, \"mode\": \"lines\", \"name\": \"Y2019\", \"orientation\": \"v\", \"showlegend\": true, \"type\": \"scatter\", \"x\": [\"Jan 2\", \"Jan 3\", \"Jan 4\", \"Jan 5\", \"Jan 6\", \"Jan 7\", \"Jan 8\", \"Jan 9\", \"Jan 10\", \"Jan 11\", \"Jan 12\", \"Jan 13\", \"Jan 14\", \"Jan 15\", \"Jan 16\", \"Jan 17\", \"Jan 18\", \"Jan 19\", \"Jan 20\", \"Jan 21\", \"Jan 22\", \"Jan 23\", \"Jan 24\", \"Jan 25\", \"Jan 26\", \"Jan 27\", \"Jan 28\", \"Jan 29\", \"Jan 30\", \"Jan 31\", \"Feb 1\", \"Feb 2\", \"Feb 3\", \"Feb 4\", \"Feb 5\", \"Feb 6\", \"Feb 7\", \"Feb 8\", \"Feb 9\", \"Feb 10\", \"Feb 11\", \"Feb 12\", \"Feb 13\", \"Feb 14\", \"Feb 15\", \"Feb 16\", \"Feb 17\", \"Feb 18\", \"Feb 19\", \"Feb 20\", \"Feb 21\", \"Feb 22\", \"Feb 23\", \"Feb 24\", \"Feb 25\", \"Feb 26\", \"Feb 27\", \"Feb 28\", \"Mar 1\", \"Mar 2\", \"Mar 3\", \"Mar 4\", \"Mar 5\", \"Mar 6\", \"Mar 7\", \"Mar 8\", \"Mar 9\", \"Mar 10\", \"Mar 11\", \"Mar 12\", \"Mar 13\", \"Mar 14\", \"Mar 15\", \"Mar 16\", \"Mar 17\", \"Mar 18\", \"Mar 19\", \"Mar 20\", \"Mar 21\", \"Mar 22\", \"Mar 23\", \"Mar 24\", \"Mar 25\", \"Mar 26\", \"Mar 27\", \"Mar 28\", \"Mar 29\", \"Mar 30\", \"Mar 31\", \"Apr 1\", \"Apr 2\", \"Apr 3\", \"Apr 4\", \"Apr 5\", \"Apr 6\", \"Apr 7\", \"Apr 8\", \"Apr 9\", \"Apr 10\", \"Apr 11\", \"Apr 12\", \"Apr 13\", \"Apr 14\", \"Apr 15\", \"Apr 16\", \"Apr 17\", \"Apr 18\", \"Apr 19\", \"Apr 20\", \"Apr 21\", \"Apr 22\", \"Apr 23\", \"Apr 24\", \"Apr 25\", \"Apr 26\", \"Apr 27\", \"Apr 28\", \"Apr 29\", \"Apr 30\", \"May 1\", \"May 2\", \"May 3\", \"May 4\", \"May 5\", \"May 6\", \"May 7\", \"May 8\", \"May 9\", \"May 10\", \"May 11\", \"May 12\", \"May 13\", \"May 14\", \"May 15\", \"May 16\", \"May 17\", \"May 18\", \"May 19\"], \"xaxis\": \"x\", \"y\": [12.2, 11.5, 10.7, 13.0, 9.1, 5.9, 15.6, 14.9, 9.6, 3.4, 12.4, 22.5, 16.4, 15.0, 17.9, 15.8, 4.7, 7.8, 3.8, 1.4, 3.5, 6.8, 2.3, 2.5, 16.8, 24.2, 18.2, 10.3, 15.4, 11.8, 10.4, 9.9, 15.4, 4.9, 11.8, 3.3, 17.8, 21.5, 26.8, 26.5, 16.6, 3.6, 1.7, 1.7, 1.6, 1.5, 4.6, 5.4, 16.2, 2.0, 1.1, 1.8, 10.0, 8.1, 4.9, 2.6, 2.2, 22.2, 18.9, 21.2, 26.2, 29.5, 23.6, 14.0, 26.7, 26.8, 23.5, 28.0, 30.6, 26.4, 29.0, 25.3, 21.9, 28.0, 32.4, 24.0, 13.6, 5.1, 9.3, 6.2, 12.6, 12.7, 24.8, 30.1, 20.9, 13.4, 10.8, 10.1, 24.5, 21.7, 31.4, 30.0, 26.0, 22.6, 23.4, 28.6, 15.6, 16.5, 10.9, 18.9, 20.2, 20.8, 22.6, 21.5, 22.3, 20.3, 22.1, 22.2, 33.5, 30.8, 22.6, 19.0, 23.6, 24.8, 24.5, 31.2, 27.9, 19.2, 17.5, 18.6, 24.2, 21.8, 23.0, 25.2, 24.1, 23.4, 26.3, 25.4, 22.8, 24.5, 29.9, 28.2, 28.9, 27.5, 29.0, 25.5, 24.2, 17.2], \"yaxis\": \"y\"}, {\"hovertemplate\": \"Year=Y2020<br>DayMonth=%{x}<br>median=%{y}<extra></extra>\", \"legendgroup\": \"Y2020\", \"line\": {\"color\": \"#EF553B\", \"dash\": \"solid\"}, \"mode\": \"lines\", \"name\": \"Y2020\", \"orientation\": \"v\", \"showlegend\": true, \"type\": \"scatter\", \"x\": [\"Jan 2\", \"Jan 3\", \"Jan 4\", \"Jan 5\", \"Jan 6\", \"Jan 7\", \"Jan 8\", \"Jan 9\", \"Jan 10\", \"Jan 11\", \"Jan 12\", \"Jan 13\", \"Jan 14\", \"Jan 15\", \"Jan 16\", \"Jan 17\", \"Jan 18\", \"Jan 19\", \"Jan 20\", \"Jan 21\", \"Jan 22\", \"Jan 23\", \"Jan 24\", \"Jan 25\", \"Jan 26\", \"Jan 27\", \"Jan 28\", \"Jan 29\", \"Jan 30\", \"Jan 31\", \"Feb 1\", \"Feb 2\", \"Feb 3\", \"Feb 4\", \"Feb 5\", \"Feb 6\", \"Feb 7\", \"Feb 8\", \"Feb 9\", \"Feb 10\", \"Feb 11\", \"Feb 12\", \"Feb 13\", \"Feb 14\", \"Feb 15\", \"Feb 16\", \"Feb 17\", \"Feb 18\", \"Feb 19\", \"Feb 20\", \"Feb 21\", \"Feb 22\", \"Feb 23\", \"Feb 24\", \"Feb 25\", \"Feb 26\", \"Feb 27\", \"Feb 28\", \"Mar 1\", \"Mar 2\", \"Mar 3\", \"Mar 4\", \"Mar 5\", \"Mar 6\", \"Mar 7\", \"Mar 8\", \"Mar 9\", \"Mar 10\", \"Mar 11\", \"Mar 12\", \"Mar 13\", \"Mar 14\", \"Mar 15\", \"Mar 16\", \"Mar 17\", \"Mar 18\", \"Mar 19\", \"Mar 20\", \"Mar 21\", \"Mar 22\", \"Mar 23\", \"Mar 24\", \"Mar 25\", \"Mar 26\", \"Mar 27\", \"Mar 28\", \"Mar 29\", \"Mar 30\", \"Mar 31\", \"Apr 1\", \"Apr 2\", \"Apr 3\", \"Apr 4\", \"Apr 5\", \"Apr 6\", \"Apr 7\", \"Apr 8\", \"Apr 9\", \"Apr 10\", \"Apr 11\", \"Apr 12\", \"Apr 13\", \"Apr 14\", \"Apr 15\", \"Apr 16\", \"Apr 17\", \"Apr 18\", \"Apr 19\", \"Apr 20\", \"Apr 21\", \"Apr 22\", \"Apr 23\", \"Apr 24\", \"Apr 25\", \"Apr 26\", \"Apr 27\", \"Apr 28\", \"Apr 29\", \"Apr 30\", \"May 1\", \"May 2\", \"May 3\", \"May 4\", \"May 5\", \"May 6\", \"May 7\", \"May 8\", \"May 9\", \"May 10\", \"May 11\", \"May 12\", \"May 13\", \"May 14\", \"May 15\", \"May 16\", \"May 17\", \"May 18\", \"May 19\"], \"xaxis\": \"x\", \"y\": [3.6, 17.4, 15.2, 13.9, 10.2, 5.4, 10.6, 14.6, 17.0, 15.6, 15.0, 15.2, 21.8, 19.4, 6.3, 20.0, 14.5, 10.8, 9.1, 3.5, 1.9, 2.3, 1.7, 1.6, 1.9, 18.2, 28.2, 23.3, 14.1, 17.5, 20.8, 19.0, 20.4, 24.8, 18.3, 10.0, 7.5, 10.8, 24.3, 27.3, 27.6, 22.6, 21.8, 21.8, 18.4, 22.2, 26.7, 21.5, 21.6, 21.9, 18.4, 19.7, 21.0, 16.3, 25.4, 24.7, 18.8, 15.0, 25.3, 22.0, 23.3, 17.2, 13.5, 21.8, 18.9, 0.3, 22.9, 19.0, 22.0, 27.2, 26.9, 20.7, 20.1, 14.8, 9.5, 8.0, 14.4, 13.2, 19.9, 22.8, 28.7, 27.6, 26.5, 29.2, 22.8, 22.5, 30.5, 28.7, 25.1, 24.1, 27.9, 26.9, 24.4, 30.1, 26.7, 19.6, 26.9, 27.9, 33.8, 30.5, 35.3, 28.5, 30.6, 29.9, 25.8, 21.2, 32.0, 28.9, 29.0, 31.8, 32.7, 24.3, 34.1, 37.5, 35.8, 32.8, 31.0, 29.7, 29.7, 28.2, 31.1, 26.2, 21.1, 21.6, 26.9, 33.3, 39.0, 31.7, 25.6, 25.9, 22.6, 30.6, 28.8, 29.1, 32.2, 36.8, 30.1, 26.8], \"yaxis\": \"y\"}],\n",
       "                        {\"legend\": {\"title\": {\"text\": \"Year\"}, \"tracegroupgap\": 0}, \"margin\": {\"t\": 60}, \"template\": {\"data\": {\"bar\": [{\"error_x\": {\"color\": \"#2a3f5f\"}, \"error_y\": {\"color\": \"#2a3f5f\"}, \"marker\": {\"line\": {\"color\": \"#E5ECF6\", \"width\": 0.5}}, \"type\": \"bar\"}], \"barpolar\": [{\"marker\": {\"line\": {\"color\": \"#E5ECF6\", \"width\": 0.5}}, \"type\": \"barpolar\"}], \"carpet\": [{\"aaxis\": {\"endlinecolor\": \"#2a3f5f\", \"gridcolor\": \"white\", \"linecolor\": \"white\", \"minorgridcolor\": \"white\", \"startlinecolor\": \"#2a3f5f\"}, \"baxis\": {\"endlinecolor\": \"#2a3f5f\", \"gridcolor\": \"white\", \"linecolor\": \"white\", \"minorgridcolor\": \"white\", \"startlinecolor\": \"#2a3f5f\"}, \"type\": \"carpet\"}], \"choropleth\": [{\"colorbar\": {\"outlinewidth\": 0, \"ticks\": \"\"}, \"type\": \"choropleth\"}], \"contour\": [{\"colorbar\": {\"outlinewidth\": 0, \"ticks\": \"\"}, \"colorscale\": [[0.0, \"#0d0887\"], [0.1111111111111111, \"#46039f\"], [0.2222222222222222, \"#7201a8\"], [0.3333333333333333, \"#9c179e\"], [0.4444444444444444, \"#bd3786\"], [0.5555555555555556, \"#d8576b\"], [0.6666666666666666, \"#ed7953\"], [0.7777777777777778, \"#fb9f3a\"], [0.8888888888888888, \"#fdca26\"], [1.0, \"#f0f921\"]], \"type\": \"contour\"}], \"contourcarpet\": [{\"colorbar\": {\"outlinewidth\": 0, \"ticks\": \"\"}, \"type\": \"contourcarpet\"}], \"heatmap\": [{\"colorbar\": {\"outlinewidth\": 0, \"ticks\": \"\"}, \"colorscale\": [[0.0, \"#0d0887\"], [0.1111111111111111, \"#46039f\"], [0.2222222222222222, \"#7201a8\"], [0.3333333333333333, \"#9c179e\"], [0.4444444444444444, \"#bd3786\"], [0.5555555555555556, \"#d8576b\"], [0.6666666666666666, \"#ed7953\"], [0.7777777777777778, \"#fb9f3a\"], [0.8888888888888888, \"#fdca26\"], [1.0, \"#f0f921\"]], \"type\": \"heatmap\"}], \"heatmapgl\": [{\"colorbar\": {\"outlinewidth\": 0, \"ticks\": \"\"}, \"colorscale\": [[0.0, \"#0d0887\"], [0.1111111111111111, \"#46039f\"], [0.2222222222222222, \"#7201a8\"], [0.3333333333333333, \"#9c179e\"], [0.4444444444444444, \"#bd3786\"], [0.5555555555555556, \"#d8576b\"], [0.6666666666666666, \"#ed7953\"], [0.7777777777777778, \"#fb9f3a\"], [0.8888888888888888, \"#fdca26\"], [1.0, \"#f0f921\"]], \"type\": \"heatmapgl\"}], \"histogram\": [{\"marker\": {\"colorbar\": {\"outlinewidth\": 0, \"ticks\": \"\"}}, \"type\": \"histogram\"}], \"histogram2d\": [{\"colorbar\": {\"outlinewidth\": 0, \"ticks\": \"\"}, \"colorscale\": [[0.0, \"#0d0887\"], [0.1111111111111111, \"#46039f\"], [0.2222222222222222, \"#7201a8\"], [0.3333333333333333, \"#9c179e\"], [0.4444444444444444, \"#bd3786\"], [0.5555555555555556, \"#d8576b\"], [0.6666666666666666, \"#ed7953\"], [0.7777777777777778, \"#fb9f3a\"], [0.8888888888888888, \"#fdca26\"], [1.0, \"#f0f921\"]], \"type\": \"histogram2d\"}], \"histogram2dcontour\": [{\"colorbar\": {\"outlinewidth\": 0, \"ticks\": \"\"}, \"colorscale\": [[0.0, \"#0d0887\"], [0.1111111111111111, \"#46039f\"], [0.2222222222222222, \"#7201a8\"], [0.3333333333333333, \"#9c179e\"], [0.4444444444444444, \"#bd3786\"], [0.5555555555555556, \"#d8576b\"], [0.6666666666666666, \"#ed7953\"], [0.7777777777777778, \"#fb9f3a\"], [0.8888888888888888, \"#fdca26\"], [1.0, \"#f0f921\"]], \"type\": \"histogram2dcontour\"}], \"mesh3d\": [{\"colorbar\": {\"outlinewidth\": 0, \"ticks\": \"\"}, \"type\": \"mesh3d\"}], \"parcoords\": [{\"line\": {\"colorbar\": {\"outlinewidth\": 0, \"ticks\": \"\"}}, \"type\": \"parcoords\"}], \"pie\": [{\"automargin\": true, \"type\": \"pie\"}], \"scatter\": [{\"marker\": {\"colorbar\": {\"outlinewidth\": 0, \"ticks\": \"\"}}, \"type\": \"scatter\"}], \"scatter3d\": [{\"line\": {\"colorbar\": {\"outlinewidth\": 0, \"ticks\": \"\"}}, \"marker\": {\"colorbar\": {\"outlinewidth\": 0, \"ticks\": \"\"}}, \"type\": \"scatter3d\"}], \"scattercarpet\": [{\"marker\": {\"colorbar\": {\"outlinewidth\": 0, \"ticks\": \"\"}}, \"type\": \"scattercarpet\"}], \"scattergeo\": [{\"marker\": {\"colorbar\": {\"outlinewidth\": 0, \"ticks\": \"\"}}, \"type\": \"scattergeo\"}], \"scattergl\": [{\"marker\": {\"colorbar\": {\"outlinewidth\": 0, \"ticks\": \"\"}}, \"type\": \"scattergl\"}], \"scattermapbox\": [{\"marker\": {\"colorbar\": {\"outlinewidth\": 0, \"ticks\": \"\"}}, \"type\": \"scattermapbox\"}], \"scatterpolar\": [{\"marker\": {\"colorbar\": {\"outlinewidth\": 0, \"ticks\": \"\"}}, \"type\": \"scatterpolar\"}], \"scatterpolargl\": [{\"marker\": {\"colorbar\": {\"outlinewidth\": 0, \"ticks\": \"\"}}, \"type\": \"scatterpolargl\"}], \"scatterternary\": [{\"marker\": {\"colorbar\": {\"outlinewidth\": 0, \"ticks\": \"\"}}, \"type\": \"scatterternary\"}], \"surface\": [{\"colorbar\": {\"outlinewidth\": 0, \"ticks\": \"\"}, \"colorscale\": [[0.0, \"#0d0887\"], [0.1111111111111111, \"#46039f\"], [0.2222222222222222, \"#7201a8\"], [0.3333333333333333, \"#9c179e\"], [0.4444444444444444, \"#bd3786\"], [0.5555555555555556, \"#d8576b\"], [0.6666666666666666, \"#ed7953\"], [0.7777777777777778, \"#fb9f3a\"], [0.8888888888888888, \"#fdca26\"], [1.0, \"#f0f921\"]], \"type\": \"surface\"}], \"table\": [{\"cells\": {\"fill\": {\"color\": \"#EBF0F8\"}, \"line\": {\"color\": \"white\"}}, \"header\": {\"fill\": {\"color\": \"#C8D4E3\"}, \"line\": {\"color\": \"white\"}}, \"type\": \"table\"}]}, \"layout\": {\"annotationdefaults\": {\"arrowcolor\": \"#2a3f5f\", \"arrowhead\": 0, \"arrowwidth\": 1}, \"coloraxis\": {\"colorbar\": {\"outlinewidth\": 0, \"ticks\": \"\"}}, \"colorscale\": {\"diverging\": [[0, \"#8e0152\"], [0.1, \"#c51b7d\"], [0.2, \"#de77ae\"], [0.3, \"#f1b6da\"], [0.4, \"#fde0ef\"], [0.5, \"#f7f7f7\"], [0.6, \"#e6f5d0\"], [0.7, \"#b8e186\"], [0.8, \"#7fbc41\"], [0.9, \"#4d9221\"], [1, \"#276419\"]], \"sequential\": [[0.0, \"#0d0887\"], [0.1111111111111111, \"#46039f\"], [0.2222222222222222, \"#7201a8\"], [0.3333333333333333, \"#9c179e\"], [0.4444444444444444, \"#bd3786\"], [0.5555555555555556, \"#d8576b\"], [0.6666666666666666, \"#ed7953\"], [0.7777777777777778, \"#fb9f3a\"], [0.8888888888888888, \"#fdca26\"], [1.0, \"#f0f921\"]], \"sequentialminus\": [[0.0, \"#0d0887\"], [0.1111111111111111, \"#46039f\"], [0.2222222222222222, \"#7201a8\"], [0.3333333333333333, \"#9c179e\"], [0.4444444444444444, \"#bd3786\"], [0.5555555555555556, \"#d8576b\"], [0.6666666666666666, \"#ed7953\"], [0.7777777777777778, \"#fb9f3a\"], [0.8888888888888888, \"#fdca26\"], [1.0, \"#f0f921\"]]}, \"colorway\": [\"#636efa\", \"#EF553B\", \"#00cc96\", \"#ab63fa\", \"#FFA15A\", \"#19d3f3\", \"#FF6692\", \"#B6E880\", \"#FF97FF\", \"#FECB52\"], \"font\": {\"color\": \"#2a3f5f\"}, \"geo\": {\"bgcolor\": \"white\", \"lakecolor\": \"white\", \"landcolor\": \"#E5ECF6\", \"showlakes\": true, \"showland\": true, \"subunitcolor\": \"white\"}, \"hoverlabel\": {\"align\": \"left\"}, \"hovermode\": \"closest\", \"mapbox\": {\"style\": \"light\"}, \"paper_bgcolor\": \"white\", \"plot_bgcolor\": \"#E5ECF6\", \"polar\": {\"angularaxis\": {\"gridcolor\": \"white\", \"linecolor\": \"white\", \"ticks\": \"\"}, \"bgcolor\": \"#E5ECF6\", \"radialaxis\": {\"gridcolor\": \"white\", \"linecolor\": \"white\", \"ticks\": \"\"}}, \"scene\": {\"xaxis\": {\"backgroundcolor\": \"#E5ECF6\", \"gridcolor\": \"white\", \"gridwidth\": 2, \"linecolor\": \"white\", \"showbackground\": true, \"ticks\": \"\", \"zerolinecolor\": \"white\"}, \"yaxis\": {\"backgroundcolor\": \"#E5ECF6\", \"gridcolor\": \"white\", \"gridwidth\": 2, \"linecolor\": \"white\", \"showbackground\": true, \"ticks\": \"\", \"zerolinecolor\": \"white\"}, \"zaxis\": {\"backgroundcolor\": \"#E5ECF6\", \"gridcolor\": \"white\", \"gridwidth\": 2, \"linecolor\": \"white\", \"showbackground\": true, \"ticks\": \"\", \"zerolinecolor\": \"white\"}}, \"shapedefaults\": {\"line\": {\"color\": \"#2a3f5f\"}}, \"ternary\": {\"aaxis\": {\"gridcolor\": \"white\", \"linecolor\": \"white\", \"ticks\": \"\"}, \"baxis\": {\"gridcolor\": \"white\", \"linecolor\": \"white\", \"ticks\": \"\"}, \"bgcolor\": \"#E5ECF6\", \"caxis\": {\"gridcolor\": \"white\", \"linecolor\": \"white\", \"ticks\": \"\"}}, \"title\": {\"x\": 0.05}, \"xaxis\": {\"automargin\": true, \"gridcolor\": \"white\", \"linecolor\": \"white\", \"ticks\": \"\", \"title\": {\"standoff\": 15}, \"zerolinecolor\": \"white\", \"zerolinewidth\": 2}, \"yaxis\": {\"automargin\": true, \"gridcolor\": \"white\", \"linecolor\": \"white\", \"ticks\": \"\", \"title\": {\"standoff\": 15}, \"zerolinecolor\": \"white\", \"zerolinewidth\": 2}}}, \"xaxis\": {\"anchor\": \"y\", \"domain\": [0.0, 1.0], \"tickangle\": -45, \"title\": {\"text\": \"Month and Day\"}}, \"yaxis\": {\"anchor\": \"x\", \"domain\": [0.0, 1.0], \"title\": {\"text\": \"Indicator Median\"}}},\n",
       "                        {\"responsive\": true}\n",
       "                    ).then(function(){\n",
       "                            \n",
       "var gd = document.getElementById('8d4f877f-0bb6-4a91-97e8-ca2aa6af471d');\n",
       "var x = new MutationObserver(function (mutations, observer) {{\n",
       "        var display = window.getComputedStyle(gd).display;\n",
       "        if (!display || display === 'none') {{\n",
       "            console.log([gd, 'removed!']);\n",
       "            Plotly.purge(gd);\n",
       "            observer.disconnect();\n",
       "        }}\n",
       "}});\n",
       "\n",
       "// Listen for the removal of the full notebook cells\n",
       "var notebookContainer = gd.closest('#notebook-container');\n",
       "if (notebookContainer) {{\n",
       "    x.observe(notebookContainer, {childList: true});\n",
       "}}\n",
       "\n",
       "// Listen for the clearing of the current output cell\n",
       "var outputEl = gd.closest('.output');\n",
       "if (outputEl) {{\n",
       "    x.observe(outputEl, {childList: true});\n",
       "}}\n",
       "\n",
       "                        })\n",
       "                };\n",
       "                });\n",
       "            </script>\n",
       "        </div>"
      ]
     },
     "metadata": {},
     "output_type": "display_data"
    }
   ],
   "source": [
    "figure = line_plot(data_grouped_days, 'o3', 'Paris')\n",
    "figure.show()"
   ]
  },
  {
   "cell_type": "markdown",
   "metadata": {},
   "source": [
    "# Plot pm25 levels for 2019 and 2020 for Paris"
   ]
  },
  {
   "cell_type": "code",
   "execution_count": 32,
   "metadata": {},
   "outputs": [
    {
     "data": {
      "application/vnd.plotly.v1+json": {
       "config": {
        "plotlyServerURL": "https://plot.ly"
       },
       "data": [
        {
         "hovertemplate": "Year=Y2019<br>DayMonth=%{x}<br>median=%{y}<extra></extra>",
         "legendgroup": "Y2019",
         "line": {
          "color": "#636efa",
          "dash": "solid"
         },
         "mode": "lines",
         "name": "Y2019",
         "orientation": "v",
         "showlegend": true,
         "type": "scatter",
         "x": [
          "Jan 2",
          "Jan 3",
          "Jan 4",
          "Jan 5",
          "Jan 6",
          "Jan 7",
          "Jan 8",
          "Jan 9",
          "Jan 10",
          "Jan 11",
          "Jan 12",
          "Jan 13",
          "Jan 14",
          "Jan 15",
          "Jan 16",
          "Jan 17",
          "Jan 18",
          "Jan 19",
          "Jan 20",
          "Jan 21",
          "Jan 22",
          "Jan 23",
          "Jan 24",
          "Jan 25",
          "Jan 26",
          "Jan 27",
          "Jan 28",
          "Jan 29",
          "Jan 30",
          "Jan 31",
          "Feb 1",
          "Feb 2",
          "Feb 3",
          "Feb 4",
          "Feb 5",
          "Feb 6",
          "Feb 7",
          "Feb 8",
          "Feb 9",
          "Feb 10",
          "Feb 11",
          "Feb 12",
          "Feb 13",
          "Feb 14",
          "Feb 15",
          "Feb 16",
          "Feb 17",
          "Feb 18",
          "Feb 19",
          "Feb 20",
          "Feb 21",
          "Feb 22",
          "Feb 23",
          "Feb 24",
          "Feb 25",
          "Feb 26",
          "Feb 27",
          "Feb 28",
          "Mar 1",
          "Mar 2",
          "Mar 3",
          "Mar 4",
          "Mar 5",
          "Mar 6",
          "Mar 7",
          "Mar 8",
          "Mar 9",
          "Mar 10",
          "Mar 11",
          "Mar 12",
          "Mar 13",
          "Mar 14",
          "Mar 15",
          "Mar 16",
          "Mar 17",
          "Mar 18",
          "Mar 19",
          "Mar 20",
          "Mar 21",
          "Mar 22",
          "Mar 23",
          "Mar 24",
          "Mar 25",
          "Mar 26",
          "Mar 27",
          "Mar 28",
          "Mar 29",
          "Mar 30",
          "Mar 31",
          "Apr 1",
          "Apr 2",
          "Apr 3",
          "Apr 4",
          "Apr 5",
          "Apr 6",
          "Apr 7",
          "Apr 8",
          "Apr 9",
          "Apr 10",
          "Apr 11",
          "Apr 12",
          "Apr 13",
          "Apr 14",
          "Apr 15",
          "Apr 16",
          "Apr 17",
          "Apr 18",
          "Apr 19",
          "Apr 20",
          "Apr 21",
          "Apr 22",
          "Apr 23",
          "Apr 24",
          "Apr 25",
          "Apr 26",
          "Apr 27",
          "Apr 28",
          "Apr 29",
          "Apr 30",
          "May 1",
          "May 2",
          "May 3",
          "May 4",
          "May 5",
          "May 6",
          "May 7",
          "May 8",
          "May 9",
          "May 10",
          "May 11",
          "May 12",
          "May 13",
          "May 14",
          "May 15",
          "May 16",
          "May 17",
          "May 18",
          "May 19"
         ],
         "xaxis": "x",
         "y": [
          38,
          47,
          63,
          65,
          77,
          66,
          40,
          36,
          43,
          61,
          54,
          33,
          37,
          48,
          54,
          33,
          66,
          63,
          76,
          120,
          100,
          56,
          105,
          83,
          36,
          25,
          35,
          52,
          37,
          48,
          53,
          54,
          43,
          58,
          56,
          58,
          34,
          33,
          39,
          24,
          36,
          72,
          88,
          82,
          93,
          124,
          92,
          75,
          58,
          86,
          118,
          133,
          71,
          61,
          70,
          75,
          113,
          62,
          48,
          42,
          33,
          23,
          29,
          40,
          28,
          33,
          35,
          33,
          28,
          40,
          32,
          29,
          22,
          28,
          26,
          31,
          55,
          72,
          80,
          85,
          98,
          98,
          43,
          45,
          64,
          93,
          80,
          79,
          83,
          88,
          66,
          24,
          40,
          38,
          64,
          27,
          59,
          60,
          101,
          72,
          78,
          64,
          72,
          76,
          70,
          55,
          50,
          58,
          52,
          60,
          63,
          59,
          35,
          27,
          30,
          25,
          33,
          51,
          87,
          93,
          84,
          48,
          36,
          38,
          51,
          54,
          35,
          28,
          40,
          36,
          38,
          36,
          40,
          47,
          42,
          61,
          48,
          71
         ],
         "yaxis": "y"
        },
        {
         "hovertemplate": "Year=Y2020<br>DayMonth=%{x}<br>median=%{y}<extra></extra>",
         "legendgroup": "Y2020",
         "line": {
          "color": "#EF553B",
          "dash": "solid"
         },
         "mode": "lines",
         "name": "Y2020",
         "orientation": "v",
         "showlegend": true,
         "type": "scatter",
         "x": [
          "Jan 2",
          "Jan 3",
          "Jan 4",
          "Jan 5",
          "Jan 6",
          "Jan 7",
          "Jan 8",
          "Jan 9",
          "Jan 10",
          "Jan 11",
          "Jan 12",
          "Jan 13",
          "Jan 14",
          "Jan 15",
          "Jan 16",
          "Jan 17",
          "Jan 18",
          "Jan 19",
          "Jan 20",
          "Jan 21",
          "Jan 22",
          "Jan 23",
          "Jan 24",
          "Jan 25",
          "Jan 26",
          "Jan 27",
          "Jan 28",
          "Jan 29",
          "Jan 30",
          "Jan 31",
          "Feb 1",
          "Feb 2",
          "Feb 3",
          "Feb 4",
          "Feb 5",
          "Feb 6",
          "Feb 7",
          "Feb 8",
          "Feb 9",
          "Feb 10",
          "Feb 11",
          "Feb 12",
          "Feb 13",
          "Feb 14",
          "Feb 15",
          "Feb 16",
          "Feb 17",
          "Feb 18",
          "Feb 19",
          "Feb 20",
          "Feb 21",
          "Feb 22",
          "Feb 23",
          "Feb 24",
          "Feb 25",
          "Feb 26",
          "Feb 27",
          "Feb 28",
          "Mar 1",
          "Mar 2",
          "Mar 3",
          "Mar 4",
          "Mar 5",
          "Mar 6",
          "Mar 7",
          "Mar 8",
          "Mar 9",
          "Mar 10",
          "Mar 11",
          "Mar 12",
          "Mar 13",
          "Mar 14",
          "Mar 15",
          "Mar 16",
          "Mar 17",
          "Mar 18",
          "Mar 19",
          "Mar 20",
          "Mar 21",
          "Mar 22",
          "Mar 23",
          "Mar 24",
          "Mar 25",
          "Mar 26",
          "Mar 27",
          "Mar 28",
          "Mar 29",
          "Mar 30",
          "Mar 31",
          "Apr 1",
          "Apr 2",
          "Apr 3",
          "Apr 4",
          "Apr 5",
          "Apr 6",
          "Apr 7",
          "Apr 8",
          "Apr 9",
          "Apr 10",
          "Apr 11",
          "Apr 12",
          "Apr 13",
          "Apr 14",
          "Apr 15",
          "Apr 16",
          "Apr 17",
          "Apr 18",
          "Apr 19",
          "Apr 20",
          "Apr 21",
          "Apr 22",
          "Apr 23",
          "Apr 24",
          "Apr 25",
          "Apr 26",
          "Apr 27",
          "Apr 28",
          "Apr 29",
          "Apr 30",
          "May 1",
          "May 2",
          "May 3",
          "May 4",
          "May 5",
          "May 6",
          "May 7",
          "May 8",
          "May 9",
          "May 10",
          "May 11",
          "May 12",
          "May 13",
          "May 14",
          "May 15",
          "May 16",
          "May 17",
          "May 18",
          "May 19"
         ],
         "xaxis": "x",
         "y": [
          55,
          36,
          41,
          45,
          59,
          53,
          39,
          32,
          30,
          50,
          49,
          35,
          30,
          41,
          52,
          32,
          38,
          48,
          56,
          74,
          90,
          74,
          123,
          147,
          106,
          37,
          19,
          29,
          36,
          20,
          22,
          18,
          24,
          27,
          40,
          58,
          57,
          56,
          30,
          40,
          25,
          28,
          35,
          40,
          49,
          30,
          23,
          27,
          30,
          30,
          34,
          35,
          20,
          18,
          19,
          22,
          29,
          44,
          25,
          25,
          38,
          43,
          29,
          40,
          52,
          31,
          30,
          18,
          22,
          23,
          30,
          38,
          34,
          48,
          64,
          91,
          75,
          100,
          35,
          36,
          33,
          41,
          58,
          60,
          80,
          137,
          29,
          23,
          48,
          62,
          56,
          48,
          51,
          44,
          43,
          60,
          62,
          67,
          70,
          59,
          60,
          51,
          34,
          42,
          47,
          54,
          19,
          70,
          57,
          41,
          52,
          56,
          62,
          56,
          55,
          50,
          23,
          20,
          17,
          18,
          24,
          30,
          36,
          61,
          45,
          51,
          57,
          52,
          33,
          40,
          31,
          57,
          38,
          41,
          48,
          38,
          36,
          36
         ],
         "yaxis": "y"
        }
       ],
       "layout": {
        "legend": {
         "title": {
          "text": "Year"
         },
         "tracegroupgap": 0
        },
        "margin": {
         "t": 60
        },
        "template": {
         "data": {
          "bar": [
           {
            "error_x": {
             "color": "#2a3f5f"
            },
            "error_y": {
             "color": "#2a3f5f"
            },
            "marker": {
             "line": {
              "color": "#E5ECF6",
              "width": 0.5
             }
            },
            "type": "bar"
           }
          ],
          "barpolar": [
           {
            "marker": {
             "line": {
              "color": "#E5ECF6",
              "width": 0.5
             }
            },
            "type": "barpolar"
           }
          ],
          "carpet": [
           {
            "aaxis": {
             "endlinecolor": "#2a3f5f",
             "gridcolor": "white",
             "linecolor": "white",
             "minorgridcolor": "white",
             "startlinecolor": "#2a3f5f"
            },
            "baxis": {
             "endlinecolor": "#2a3f5f",
             "gridcolor": "white",
             "linecolor": "white",
             "minorgridcolor": "white",
             "startlinecolor": "#2a3f5f"
            },
            "type": "carpet"
           }
          ],
          "choropleth": [
           {
            "colorbar": {
             "outlinewidth": 0,
             "ticks": ""
            },
            "type": "choropleth"
           }
          ],
          "contour": [
           {
            "colorbar": {
             "outlinewidth": 0,
             "ticks": ""
            },
            "colorscale": [
             [
              0,
              "#0d0887"
             ],
             [
              0.1111111111111111,
              "#46039f"
             ],
             [
              0.2222222222222222,
              "#7201a8"
             ],
             [
              0.3333333333333333,
              "#9c179e"
             ],
             [
              0.4444444444444444,
              "#bd3786"
             ],
             [
              0.5555555555555556,
              "#d8576b"
             ],
             [
              0.6666666666666666,
              "#ed7953"
             ],
             [
              0.7777777777777778,
              "#fb9f3a"
             ],
             [
              0.8888888888888888,
              "#fdca26"
             ],
             [
              1,
              "#f0f921"
             ]
            ],
            "type": "contour"
           }
          ],
          "contourcarpet": [
           {
            "colorbar": {
             "outlinewidth": 0,
             "ticks": ""
            },
            "type": "contourcarpet"
           }
          ],
          "heatmap": [
           {
            "colorbar": {
             "outlinewidth": 0,
             "ticks": ""
            },
            "colorscale": [
             [
              0,
              "#0d0887"
             ],
             [
              0.1111111111111111,
              "#46039f"
             ],
             [
              0.2222222222222222,
              "#7201a8"
             ],
             [
              0.3333333333333333,
              "#9c179e"
             ],
             [
              0.4444444444444444,
              "#bd3786"
             ],
             [
              0.5555555555555556,
              "#d8576b"
             ],
             [
              0.6666666666666666,
              "#ed7953"
             ],
             [
              0.7777777777777778,
              "#fb9f3a"
             ],
             [
              0.8888888888888888,
              "#fdca26"
             ],
             [
              1,
              "#f0f921"
             ]
            ],
            "type": "heatmap"
           }
          ],
          "heatmapgl": [
           {
            "colorbar": {
             "outlinewidth": 0,
             "ticks": ""
            },
            "colorscale": [
             [
              0,
              "#0d0887"
             ],
             [
              0.1111111111111111,
              "#46039f"
             ],
             [
              0.2222222222222222,
              "#7201a8"
             ],
             [
              0.3333333333333333,
              "#9c179e"
             ],
             [
              0.4444444444444444,
              "#bd3786"
             ],
             [
              0.5555555555555556,
              "#d8576b"
             ],
             [
              0.6666666666666666,
              "#ed7953"
             ],
             [
              0.7777777777777778,
              "#fb9f3a"
             ],
             [
              0.8888888888888888,
              "#fdca26"
             ],
             [
              1,
              "#f0f921"
             ]
            ],
            "type": "heatmapgl"
           }
          ],
          "histogram": [
           {
            "marker": {
             "colorbar": {
              "outlinewidth": 0,
              "ticks": ""
             }
            },
            "type": "histogram"
           }
          ],
          "histogram2d": [
           {
            "colorbar": {
             "outlinewidth": 0,
             "ticks": ""
            },
            "colorscale": [
             [
              0,
              "#0d0887"
             ],
             [
              0.1111111111111111,
              "#46039f"
             ],
             [
              0.2222222222222222,
              "#7201a8"
             ],
             [
              0.3333333333333333,
              "#9c179e"
             ],
             [
              0.4444444444444444,
              "#bd3786"
             ],
             [
              0.5555555555555556,
              "#d8576b"
             ],
             [
              0.6666666666666666,
              "#ed7953"
             ],
             [
              0.7777777777777778,
              "#fb9f3a"
             ],
             [
              0.8888888888888888,
              "#fdca26"
             ],
             [
              1,
              "#f0f921"
             ]
            ],
            "type": "histogram2d"
           }
          ],
          "histogram2dcontour": [
           {
            "colorbar": {
             "outlinewidth": 0,
             "ticks": ""
            },
            "colorscale": [
             [
              0,
              "#0d0887"
             ],
             [
              0.1111111111111111,
              "#46039f"
             ],
             [
              0.2222222222222222,
              "#7201a8"
             ],
             [
              0.3333333333333333,
              "#9c179e"
             ],
             [
              0.4444444444444444,
              "#bd3786"
             ],
             [
              0.5555555555555556,
              "#d8576b"
             ],
             [
              0.6666666666666666,
              "#ed7953"
             ],
             [
              0.7777777777777778,
              "#fb9f3a"
             ],
             [
              0.8888888888888888,
              "#fdca26"
             ],
             [
              1,
              "#f0f921"
             ]
            ],
            "type": "histogram2dcontour"
           }
          ],
          "mesh3d": [
           {
            "colorbar": {
             "outlinewidth": 0,
             "ticks": ""
            },
            "type": "mesh3d"
           }
          ],
          "parcoords": [
           {
            "line": {
             "colorbar": {
              "outlinewidth": 0,
              "ticks": ""
             }
            },
            "type": "parcoords"
           }
          ],
          "pie": [
           {
            "automargin": true,
            "type": "pie"
           }
          ],
          "scatter": [
           {
            "marker": {
             "colorbar": {
              "outlinewidth": 0,
              "ticks": ""
             }
            },
            "type": "scatter"
           }
          ],
          "scatter3d": [
           {
            "line": {
             "colorbar": {
              "outlinewidth": 0,
              "ticks": ""
             }
            },
            "marker": {
             "colorbar": {
              "outlinewidth": 0,
              "ticks": ""
             }
            },
            "type": "scatter3d"
           }
          ],
          "scattercarpet": [
           {
            "marker": {
             "colorbar": {
              "outlinewidth": 0,
              "ticks": ""
             }
            },
            "type": "scattercarpet"
           }
          ],
          "scattergeo": [
           {
            "marker": {
             "colorbar": {
              "outlinewidth": 0,
              "ticks": ""
             }
            },
            "type": "scattergeo"
           }
          ],
          "scattergl": [
           {
            "marker": {
             "colorbar": {
              "outlinewidth": 0,
              "ticks": ""
             }
            },
            "type": "scattergl"
           }
          ],
          "scattermapbox": [
           {
            "marker": {
             "colorbar": {
              "outlinewidth": 0,
              "ticks": ""
             }
            },
            "type": "scattermapbox"
           }
          ],
          "scatterpolar": [
           {
            "marker": {
             "colorbar": {
              "outlinewidth": 0,
              "ticks": ""
             }
            },
            "type": "scatterpolar"
           }
          ],
          "scatterpolargl": [
           {
            "marker": {
             "colorbar": {
              "outlinewidth": 0,
              "ticks": ""
             }
            },
            "type": "scatterpolargl"
           }
          ],
          "scatterternary": [
           {
            "marker": {
             "colorbar": {
              "outlinewidth": 0,
              "ticks": ""
             }
            },
            "type": "scatterternary"
           }
          ],
          "surface": [
           {
            "colorbar": {
             "outlinewidth": 0,
             "ticks": ""
            },
            "colorscale": [
             [
              0,
              "#0d0887"
             ],
             [
              0.1111111111111111,
              "#46039f"
             ],
             [
              0.2222222222222222,
              "#7201a8"
             ],
             [
              0.3333333333333333,
              "#9c179e"
             ],
             [
              0.4444444444444444,
              "#bd3786"
             ],
             [
              0.5555555555555556,
              "#d8576b"
             ],
             [
              0.6666666666666666,
              "#ed7953"
             ],
             [
              0.7777777777777778,
              "#fb9f3a"
             ],
             [
              0.8888888888888888,
              "#fdca26"
             ],
             [
              1,
              "#f0f921"
             ]
            ],
            "type": "surface"
           }
          ],
          "table": [
           {
            "cells": {
             "fill": {
              "color": "#EBF0F8"
             },
             "line": {
              "color": "white"
             }
            },
            "header": {
             "fill": {
              "color": "#C8D4E3"
             },
             "line": {
              "color": "white"
             }
            },
            "type": "table"
           }
          ]
         },
         "layout": {
          "annotationdefaults": {
           "arrowcolor": "#2a3f5f",
           "arrowhead": 0,
           "arrowwidth": 1
          },
          "coloraxis": {
           "colorbar": {
            "outlinewidth": 0,
            "ticks": ""
           }
          },
          "colorscale": {
           "diverging": [
            [
             0,
             "#8e0152"
            ],
            [
             0.1,
             "#c51b7d"
            ],
            [
             0.2,
             "#de77ae"
            ],
            [
             0.3,
             "#f1b6da"
            ],
            [
             0.4,
             "#fde0ef"
            ],
            [
             0.5,
             "#f7f7f7"
            ],
            [
             0.6,
             "#e6f5d0"
            ],
            [
             0.7,
             "#b8e186"
            ],
            [
             0.8,
             "#7fbc41"
            ],
            [
             0.9,
             "#4d9221"
            ],
            [
             1,
             "#276419"
            ]
           ],
           "sequential": [
            [
             0,
             "#0d0887"
            ],
            [
             0.1111111111111111,
             "#46039f"
            ],
            [
             0.2222222222222222,
             "#7201a8"
            ],
            [
             0.3333333333333333,
             "#9c179e"
            ],
            [
             0.4444444444444444,
             "#bd3786"
            ],
            [
             0.5555555555555556,
             "#d8576b"
            ],
            [
             0.6666666666666666,
             "#ed7953"
            ],
            [
             0.7777777777777778,
             "#fb9f3a"
            ],
            [
             0.8888888888888888,
             "#fdca26"
            ],
            [
             1,
             "#f0f921"
            ]
           ],
           "sequentialminus": [
            [
             0,
             "#0d0887"
            ],
            [
             0.1111111111111111,
             "#46039f"
            ],
            [
             0.2222222222222222,
             "#7201a8"
            ],
            [
             0.3333333333333333,
             "#9c179e"
            ],
            [
             0.4444444444444444,
             "#bd3786"
            ],
            [
             0.5555555555555556,
             "#d8576b"
            ],
            [
             0.6666666666666666,
             "#ed7953"
            ],
            [
             0.7777777777777778,
             "#fb9f3a"
            ],
            [
             0.8888888888888888,
             "#fdca26"
            ],
            [
             1,
             "#f0f921"
            ]
           ]
          },
          "colorway": [
           "#636efa",
           "#EF553B",
           "#00cc96",
           "#ab63fa",
           "#FFA15A",
           "#19d3f3",
           "#FF6692",
           "#B6E880",
           "#FF97FF",
           "#FECB52"
          ],
          "font": {
           "color": "#2a3f5f"
          },
          "geo": {
           "bgcolor": "white",
           "lakecolor": "white",
           "landcolor": "#E5ECF6",
           "showlakes": true,
           "showland": true,
           "subunitcolor": "white"
          },
          "hoverlabel": {
           "align": "left"
          },
          "hovermode": "closest",
          "mapbox": {
           "style": "light"
          },
          "paper_bgcolor": "white",
          "plot_bgcolor": "#E5ECF6",
          "polar": {
           "angularaxis": {
            "gridcolor": "white",
            "linecolor": "white",
            "ticks": ""
           },
           "bgcolor": "#E5ECF6",
           "radialaxis": {
            "gridcolor": "white",
            "linecolor": "white",
            "ticks": ""
           }
          },
          "scene": {
           "xaxis": {
            "backgroundcolor": "#E5ECF6",
            "gridcolor": "white",
            "gridwidth": 2,
            "linecolor": "white",
            "showbackground": true,
            "ticks": "",
            "zerolinecolor": "white"
           },
           "yaxis": {
            "backgroundcolor": "#E5ECF6",
            "gridcolor": "white",
            "gridwidth": 2,
            "linecolor": "white",
            "showbackground": true,
            "ticks": "",
            "zerolinecolor": "white"
           },
           "zaxis": {
            "backgroundcolor": "#E5ECF6",
            "gridcolor": "white",
            "gridwidth": 2,
            "linecolor": "white",
            "showbackground": true,
            "ticks": "",
            "zerolinecolor": "white"
           }
          },
          "shapedefaults": {
           "line": {
            "color": "#2a3f5f"
           }
          },
          "ternary": {
           "aaxis": {
            "gridcolor": "white",
            "linecolor": "white",
            "ticks": ""
           },
           "baxis": {
            "gridcolor": "white",
            "linecolor": "white",
            "ticks": ""
           },
           "bgcolor": "#E5ECF6",
           "caxis": {
            "gridcolor": "white",
            "linecolor": "white",
            "ticks": ""
           }
          },
          "title": {
           "x": 0.05
          },
          "xaxis": {
           "automargin": true,
           "gridcolor": "white",
           "linecolor": "white",
           "ticks": "",
           "title": {
            "standoff": 15
           },
           "zerolinecolor": "white",
           "zerolinewidth": 2
          },
          "yaxis": {
           "automargin": true,
           "gridcolor": "white",
           "linecolor": "white",
           "ticks": "",
           "title": {
            "standoff": 15
           },
           "zerolinecolor": "white",
           "zerolinewidth": 2
          }
         }
        },
        "xaxis": {
         "anchor": "y",
         "domain": [
          0,
          1
         ],
         "tickangle": -45,
         "title": {
          "text": "Month and Day"
         }
        },
        "yaxis": {
         "anchor": "x",
         "domain": [
          0,
          1
         ],
         "title": {
          "text": "Indicator Median"
         }
        }
       }
      },
      "text/html": [
       "<div>\n",
       "        \n",
       "        \n",
       "            <div id=\"e6367a6a-94e4-4e9f-af02-6e4e184f5c65\" class=\"plotly-graph-div\" style=\"height:525px; width:100%;\"></div>\n",
       "            <script type=\"text/javascript\">\n",
       "                require([\"plotly\"], function(Plotly) {\n",
       "                    window.PLOTLYENV=window.PLOTLYENV || {};\n",
       "                    \n",
       "                if (document.getElementById(\"e6367a6a-94e4-4e9f-af02-6e4e184f5c65\")) {\n",
       "                    Plotly.newPlot(\n",
       "                        'e6367a6a-94e4-4e9f-af02-6e4e184f5c65',\n",
       "                        [{\"hovertemplate\": \"Year=Y2019<br>DayMonth=%{x}<br>median=%{y}<extra></extra>\", \"legendgroup\": \"Y2019\", \"line\": {\"color\": \"#636efa\", \"dash\": \"solid\"}, \"mode\": \"lines\", \"name\": \"Y2019\", \"orientation\": \"v\", \"showlegend\": true, \"type\": \"scatter\", \"x\": [\"Jan 2\", \"Jan 3\", \"Jan 4\", \"Jan 5\", \"Jan 6\", \"Jan 7\", \"Jan 8\", \"Jan 9\", \"Jan 10\", \"Jan 11\", \"Jan 12\", \"Jan 13\", \"Jan 14\", \"Jan 15\", \"Jan 16\", \"Jan 17\", \"Jan 18\", \"Jan 19\", \"Jan 20\", \"Jan 21\", \"Jan 22\", \"Jan 23\", \"Jan 24\", \"Jan 25\", \"Jan 26\", \"Jan 27\", \"Jan 28\", \"Jan 29\", \"Jan 30\", \"Jan 31\", \"Feb 1\", \"Feb 2\", \"Feb 3\", \"Feb 4\", \"Feb 5\", \"Feb 6\", \"Feb 7\", \"Feb 8\", \"Feb 9\", \"Feb 10\", \"Feb 11\", \"Feb 12\", \"Feb 13\", \"Feb 14\", \"Feb 15\", \"Feb 16\", \"Feb 17\", \"Feb 18\", \"Feb 19\", \"Feb 20\", \"Feb 21\", \"Feb 22\", \"Feb 23\", \"Feb 24\", \"Feb 25\", \"Feb 26\", \"Feb 27\", \"Feb 28\", \"Mar 1\", \"Mar 2\", \"Mar 3\", \"Mar 4\", \"Mar 5\", \"Mar 6\", \"Mar 7\", \"Mar 8\", \"Mar 9\", \"Mar 10\", \"Mar 11\", \"Mar 12\", \"Mar 13\", \"Mar 14\", \"Mar 15\", \"Mar 16\", \"Mar 17\", \"Mar 18\", \"Mar 19\", \"Mar 20\", \"Mar 21\", \"Mar 22\", \"Mar 23\", \"Mar 24\", \"Mar 25\", \"Mar 26\", \"Mar 27\", \"Mar 28\", \"Mar 29\", \"Mar 30\", \"Mar 31\", \"Apr 1\", \"Apr 2\", \"Apr 3\", \"Apr 4\", \"Apr 5\", \"Apr 6\", \"Apr 7\", \"Apr 8\", \"Apr 9\", \"Apr 10\", \"Apr 11\", \"Apr 12\", \"Apr 13\", \"Apr 14\", \"Apr 15\", \"Apr 16\", \"Apr 17\", \"Apr 18\", \"Apr 19\", \"Apr 20\", \"Apr 21\", \"Apr 22\", \"Apr 23\", \"Apr 24\", \"Apr 25\", \"Apr 26\", \"Apr 27\", \"Apr 28\", \"Apr 29\", \"Apr 30\", \"May 1\", \"May 2\", \"May 3\", \"May 4\", \"May 5\", \"May 6\", \"May 7\", \"May 8\", \"May 9\", \"May 10\", \"May 11\", \"May 12\", \"May 13\", \"May 14\", \"May 15\", \"May 16\", \"May 17\", \"May 18\", \"May 19\"], \"xaxis\": \"x\", \"y\": [38.0, 47.0, 63.0, 65.0, 77.0, 66.0, 40.0, 36.0, 43.0, 61.0, 54.0, 33.0, 37.0, 48.0, 54.0, 33.0, 66.0, 63.0, 76.0, 120.0, 100.0, 56.0, 105.0, 83.0, 36.0, 25.0, 35.0, 52.0, 37.0, 48.0, 53.0, 54.0, 43.0, 58.0, 56.0, 58.0, 34.0, 33.0, 39.0, 24.0, 36.0, 72.0, 88.0, 82.0, 93.0, 124.0, 92.0, 75.0, 58.0, 86.0, 118.0, 133.0, 71.0, 61.0, 70.0, 75.0, 113.0, 62.0, 48.0, 42.0, 33.0, 23.0, 29.0, 40.0, 28.0, 33.0, 35.0, 33.0, 28.0, 40.0, 32.0, 29.0, 22.0, 28.0, 26.0, 31.0, 55.0, 72.0, 80.0, 85.0, 98.0, 98.0, 43.0, 45.0, 64.0, 93.0, 80.0, 79.0, 83.0, 88.0, 66.0, 24.0, 40.0, 38.0, 64.0, 27.0, 59.0, 60.0, 101.0, 72.0, 78.0, 64.0, 72.0, 76.0, 70.0, 55.0, 50.0, 58.0, 52.0, 60.0, 63.0, 59.0, 35.0, 27.0, 30.0, 25.0, 33.0, 51.0, 87.0, 93.0, 84.0, 48.0, 36.0, 38.0, 51.0, 54.0, 35.0, 28.0, 40.0, 36.0, 38.0, 36.0, 40.0, 47.0, 42.0, 61.0, 48.0, 71.0], \"yaxis\": \"y\"}, {\"hovertemplate\": \"Year=Y2020<br>DayMonth=%{x}<br>median=%{y}<extra></extra>\", \"legendgroup\": \"Y2020\", \"line\": {\"color\": \"#EF553B\", \"dash\": \"solid\"}, \"mode\": \"lines\", \"name\": \"Y2020\", \"orientation\": \"v\", \"showlegend\": true, \"type\": \"scatter\", \"x\": [\"Jan 2\", \"Jan 3\", \"Jan 4\", \"Jan 5\", \"Jan 6\", \"Jan 7\", \"Jan 8\", \"Jan 9\", \"Jan 10\", \"Jan 11\", \"Jan 12\", \"Jan 13\", \"Jan 14\", \"Jan 15\", \"Jan 16\", \"Jan 17\", \"Jan 18\", \"Jan 19\", \"Jan 20\", \"Jan 21\", \"Jan 22\", \"Jan 23\", \"Jan 24\", \"Jan 25\", \"Jan 26\", \"Jan 27\", \"Jan 28\", \"Jan 29\", \"Jan 30\", \"Jan 31\", \"Feb 1\", \"Feb 2\", \"Feb 3\", \"Feb 4\", \"Feb 5\", \"Feb 6\", \"Feb 7\", \"Feb 8\", \"Feb 9\", \"Feb 10\", \"Feb 11\", \"Feb 12\", \"Feb 13\", \"Feb 14\", \"Feb 15\", \"Feb 16\", \"Feb 17\", \"Feb 18\", \"Feb 19\", \"Feb 20\", \"Feb 21\", \"Feb 22\", \"Feb 23\", \"Feb 24\", \"Feb 25\", \"Feb 26\", \"Feb 27\", \"Feb 28\", \"Mar 1\", \"Mar 2\", \"Mar 3\", \"Mar 4\", \"Mar 5\", \"Mar 6\", \"Mar 7\", \"Mar 8\", \"Mar 9\", \"Mar 10\", \"Mar 11\", \"Mar 12\", \"Mar 13\", \"Mar 14\", \"Mar 15\", \"Mar 16\", \"Mar 17\", \"Mar 18\", \"Mar 19\", \"Mar 20\", \"Mar 21\", \"Mar 22\", \"Mar 23\", \"Mar 24\", \"Mar 25\", \"Mar 26\", \"Mar 27\", \"Mar 28\", \"Mar 29\", \"Mar 30\", \"Mar 31\", \"Apr 1\", \"Apr 2\", \"Apr 3\", \"Apr 4\", \"Apr 5\", \"Apr 6\", \"Apr 7\", \"Apr 8\", \"Apr 9\", \"Apr 10\", \"Apr 11\", \"Apr 12\", \"Apr 13\", \"Apr 14\", \"Apr 15\", \"Apr 16\", \"Apr 17\", \"Apr 18\", \"Apr 19\", \"Apr 20\", \"Apr 21\", \"Apr 22\", \"Apr 23\", \"Apr 24\", \"Apr 25\", \"Apr 26\", \"Apr 27\", \"Apr 28\", \"Apr 29\", \"Apr 30\", \"May 1\", \"May 2\", \"May 3\", \"May 4\", \"May 5\", \"May 6\", \"May 7\", \"May 8\", \"May 9\", \"May 10\", \"May 11\", \"May 12\", \"May 13\", \"May 14\", \"May 15\", \"May 16\", \"May 17\", \"May 18\", \"May 19\"], \"xaxis\": \"x\", \"y\": [55.0, 36.0, 41.0, 45.0, 59.0, 53.0, 39.0, 32.0, 30.0, 50.0, 49.0, 35.0, 30.0, 41.0, 52.0, 32.0, 38.0, 48.0, 56.0, 74.0, 90.0, 74.0, 123.0, 147.0, 106.0, 37.0, 19.0, 29.0, 36.0, 20.0, 22.0, 18.0, 24.0, 27.0, 40.0, 58.0, 57.0, 56.0, 30.0, 40.0, 25.0, 28.0, 35.0, 40.0, 49.0, 30.0, 23.0, 27.0, 30.0, 30.0, 34.0, 35.0, 20.0, 18.0, 19.0, 22.0, 29.0, 44.0, 25.0, 25.0, 38.0, 43.0, 29.0, 40.0, 52.0, 31.0, 30.0, 18.0, 22.0, 23.0, 30.0, 38.0, 34.0, 48.0, 64.0, 91.0, 75.0, 100.0, 35.0, 36.0, 33.0, 41.0, 58.0, 60.0, 80.0, 137.0, 29.0, 23.0, 48.0, 62.0, 56.0, 48.0, 51.0, 44.0, 43.0, 60.0, 62.0, 67.0, 70.0, 59.0, 60.0, 51.0, 34.0, 42.0, 47.0, 54.0, 19.0, 70.0, 57.0, 41.0, 52.0, 56.0, 62.0, 56.0, 55.0, 50.0, 23.0, 20.0, 17.0, 18.0, 24.0, 30.0, 36.0, 61.0, 45.0, 51.0, 57.0, 52.0, 33.0, 40.0, 31.0, 57.0, 38.0, 41.0, 48.0, 38.0, 36.0, 36.0], \"yaxis\": \"y\"}],\n",
       "                        {\"legend\": {\"title\": {\"text\": \"Year\"}, \"tracegroupgap\": 0}, \"margin\": {\"t\": 60}, \"template\": {\"data\": {\"bar\": [{\"error_x\": {\"color\": \"#2a3f5f\"}, \"error_y\": {\"color\": \"#2a3f5f\"}, \"marker\": {\"line\": {\"color\": \"#E5ECF6\", \"width\": 0.5}}, \"type\": \"bar\"}], \"barpolar\": [{\"marker\": {\"line\": {\"color\": \"#E5ECF6\", \"width\": 0.5}}, \"type\": \"barpolar\"}], \"carpet\": [{\"aaxis\": {\"endlinecolor\": \"#2a3f5f\", \"gridcolor\": \"white\", \"linecolor\": \"white\", \"minorgridcolor\": \"white\", \"startlinecolor\": \"#2a3f5f\"}, \"baxis\": {\"endlinecolor\": \"#2a3f5f\", \"gridcolor\": \"white\", \"linecolor\": \"white\", \"minorgridcolor\": \"white\", \"startlinecolor\": \"#2a3f5f\"}, \"type\": \"carpet\"}], \"choropleth\": [{\"colorbar\": {\"outlinewidth\": 0, \"ticks\": \"\"}, \"type\": \"choropleth\"}], \"contour\": [{\"colorbar\": {\"outlinewidth\": 0, \"ticks\": \"\"}, \"colorscale\": [[0.0, \"#0d0887\"], [0.1111111111111111, \"#46039f\"], [0.2222222222222222, \"#7201a8\"], [0.3333333333333333, \"#9c179e\"], [0.4444444444444444, \"#bd3786\"], [0.5555555555555556, \"#d8576b\"], [0.6666666666666666, \"#ed7953\"], [0.7777777777777778, \"#fb9f3a\"], [0.8888888888888888, \"#fdca26\"], [1.0, \"#f0f921\"]], \"type\": \"contour\"}], \"contourcarpet\": [{\"colorbar\": {\"outlinewidth\": 0, \"ticks\": \"\"}, \"type\": \"contourcarpet\"}], \"heatmap\": [{\"colorbar\": {\"outlinewidth\": 0, \"ticks\": \"\"}, \"colorscale\": [[0.0, \"#0d0887\"], [0.1111111111111111, \"#46039f\"], [0.2222222222222222, \"#7201a8\"], [0.3333333333333333, \"#9c179e\"], [0.4444444444444444, \"#bd3786\"], [0.5555555555555556, \"#d8576b\"], [0.6666666666666666, \"#ed7953\"], [0.7777777777777778, \"#fb9f3a\"], [0.8888888888888888, \"#fdca26\"], [1.0, \"#f0f921\"]], \"type\": \"heatmap\"}], \"heatmapgl\": [{\"colorbar\": {\"outlinewidth\": 0, \"ticks\": \"\"}, \"colorscale\": [[0.0, \"#0d0887\"], [0.1111111111111111, \"#46039f\"], [0.2222222222222222, \"#7201a8\"], [0.3333333333333333, \"#9c179e\"], [0.4444444444444444, \"#bd3786\"], [0.5555555555555556, \"#d8576b\"], [0.6666666666666666, \"#ed7953\"], [0.7777777777777778, \"#fb9f3a\"], [0.8888888888888888, \"#fdca26\"], [1.0, \"#f0f921\"]], \"type\": \"heatmapgl\"}], \"histogram\": [{\"marker\": {\"colorbar\": {\"outlinewidth\": 0, \"ticks\": \"\"}}, \"type\": \"histogram\"}], \"histogram2d\": [{\"colorbar\": {\"outlinewidth\": 0, \"ticks\": \"\"}, \"colorscale\": [[0.0, \"#0d0887\"], [0.1111111111111111, \"#46039f\"], [0.2222222222222222, \"#7201a8\"], [0.3333333333333333, \"#9c179e\"], [0.4444444444444444, \"#bd3786\"], [0.5555555555555556, \"#d8576b\"], [0.6666666666666666, \"#ed7953\"], [0.7777777777777778, \"#fb9f3a\"], [0.8888888888888888, \"#fdca26\"], [1.0, \"#f0f921\"]], \"type\": \"histogram2d\"}], \"histogram2dcontour\": [{\"colorbar\": {\"outlinewidth\": 0, \"ticks\": \"\"}, \"colorscale\": [[0.0, \"#0d0887\"], [0.1111111111111111, \"#46039f\"], [0.2222222222222222, \"#7201a8\"], [0.3333333333333333, \"#9c179e\"], [0.4444444444444444, \"#bd3786\"], [0.5555555555555556, \"#d8576b\"], [0.6666666666666666, \"#ed7953\"], [0.7777777777777778, \"#fb9f3a\"], [0.8888888888888888, \"#fdca26\"], [1.0, \"#f0f921\"]], \"type\": \"histogram2dcontour\"}], \"mesh3d\": [{\"colorbar\": {\"outlinewidth\": 0, \"ticks\": \"\"}, \"type\": \"mesh3d\"}], \"parcoords\": [{\"line\": {\"colorbar\": {\"outlinewidth\": 0, \"ticks\": \"\"}}, \"type\": \"parcoords\"}], \"pie\": [{\"automargin\": true, \"type\": \"pie\"}], \"scatter\": [{\"marker\": {\"colorbar\": {\"outlinewidth\": 0, \"ticks\": \"\"}}, \"type\": \"scatter\"}], \"scatter3d\": [{\"line\": {\"colorbar\": {\"outlinewidth\": 0, \"ticks\": \"\"}}, \"marker\": {\"colorbar\": {\"outlinewidth\": 0, \"ticks\": \"\"}}, \"type\": \"scatter3d\"}], \"scattercarpet\": [{\"marker\": {\"colorbar\": {\"outlinewidth\": 0, \"ticks\": \"\"}}, \"type\": \"scattercarpet\"}], \"scattergeo\": [{\"marker\": {\"colorbar\": {\"outlinewidth\": 0, \"ticks\": \"\"}}, \"type\": \"scattergeo\"}], \"scattergl\": [{\"marker\": {\"colorbar\": {\"outlinewidth\": 0, \"ticks\": \"\"}}, \"type\": \"scattergl\"}], \"scattermapbox\": [{\"marker\": {\"colorbar\": {\"outlinewidth\": 0, \"ticks\": \"\"}}, \"type\": \"scattermapbox\"}], \"scatterpolar\": [{\"marker\": {\"colorbar\": {\"outlinewidth\": 0, \"ticks\": \"\"}}, \"type\": \"scatterpolar\"}], \"scatterpolargl\": [{\"marker\": {\"colorbar\": {\"outlinewidth\": 0, \"ticks\": \"\"}}, \"type\": \"scatterpolargl\"}], \"scatterternary\": [{\"marker\": {\"colorbar\": {\"outlinewidth\": 0, \"ticks\": \"\"}}, \"type\": \"scatterternary\"}], \"surface\": [{\"colorbar\": {\"outlinewidth\": 0, \"ticks\": \"\"}, \"colorscale\": [[0.0, \"#0d0887\"], [0.1111111111111111, \"#46039f\"], [0.2222222222222222, \"#7201a8\"], [0.3333333333333333, \"#9c179e\"], [0.4444444444444444, \"#bd3786\"], [0.5555555555555556, \"#d8576b\"], [0.6666666666666666, \"#ed7953\"], [0.7777777777777778, \"#fb9f3a\"], [0.8888888888888888, \"#fdca26\"], [1.0, \"#f0f921\"]], \"type\": \"surface\"}], \"table\": [{\"cells\": {\"fill\": {\"color\": \"#EBF0F8\"}, \"line\": {\"color\": \"white\"}}, \"header\": {\"fill\": {\"color\": \"#C8D4E3\"}, \"line\": {\"color\": \"white\"}}, \"type\": \"table\"}]}, \"layout\": {\"annotationdefaults\": {\"arrowcolor\": \"#2a3f5f\", \"arrowhead\": 0, \"arrowwidth\": 1}, \"coloraxis\": {\"colorbar\": {\"outlinewidth\": 0, \"ticks\": \"\"}}, \"colorscale\": {\"diverging\": [[0, \"#8e0152\"], [0.1, \"#c51b7d\"], [0.2, \"#de77ae\"], [0.3, \"#f1b6da\"], [0.4, \"#fde0ef\"], [0.5, \"#f7f7f7\"], [0.6, \"#e6f5d0\"], [0.7, \"#b8e186\"], [0.8, \"#7fbc41\"], [0.9, \"#4d9221\"], [1, \"#276419\"]], \"sequential\": [[0.0, \"#0d0887\"], [0.1111111111111111, \"#46039f\"], [0.2222222222222222, \"#7201a8\"], [0.3333333333333333, \"#9c179e\"], [0.4444444444444444, \"#bd3786\"], [0.5555555555555556, \"#d8576b\"], [0.6666666666666666, \"#ed7953\"], [0.7777777777777778, \"#fb9f3a\"], [0.8888888888888888, \"#fdca26\"], [1.0, \"#f0f921\"]], \"sequentialminus\": [[0.0, \"#0d0887\"], [0.1111111111111111, \"#46039f\"], [0.2222222222222222, \"#7201a8\"], [0.3333333333333333, \"#9c179e\"], [0.4444444444444444, \"#bd3786\"], [0.5555555555555556, \"#d8576b\"], [0.6666666666666666, \"#ed7953\"], [0.7777777777777778, \"#fb9f3a\"], [0.8888888888888888, \"#fdca26\"], [1.0, \"#f0f921\"]]}, \"colorway\": [\"#636efa\", \"#EF553B\", \"#00cc96\", \"#ab63fa\", \"#FFA15A\", \"#19d3f3\", \"#FF6692\", \"#B6E880\", \"#FF97FF\", \"#FECB52\"], \"font\": {\"color\": \"#2a3f5f\"}, \"geo\": {\"bgcolor\": \"white\", \"lakecolor\": \"white\", \"landcolor\": \"#E5ECF6\", \"showlakes\": true, \"showland\": true, \"subunitcolor\": \"white\"}, \"hoverlabel\": {\"align\": \"left\"}, \"hovermode\": \"closest\", \"mapbox\": {\"style\": \"light\"}, \"paper_bgcolor\": \"white\", \"plot_bgcolor\": \"#E5ECF6\", \"polar\": {\"angularaxis\": {\"gridcolor\": \"white\", \"linecolor\": \"white\", \"ticks\": \"\"}, \"bgcolor\": \"#E5ECF6\", \"radialaxis\": {\"gridcolor\": \"white\", \"linecolor\": \"white\", \"ticks\": \"\"}}, \"scene\": {\"xaxis\": {\"backgroundcolor\": \"#E5ECF6\", \"gridcolor\": \"white\", \"gridwidth\": 2, \"linecolor\": \"white\", \"showbackground\": true, \"ticks\": \"\", \"zerolinecolor\": \"white\"}, \"yaxis\": {\"backgroundcolor\": \"#E5ECF6\", \"gridcolor\": \"white\", \"gridwidth\": 2, \"linecolor\": \"white\", \"showbackground\": true, \"ticks\": \"\", \"zerolinecolor\": \"white\"}, \"zaxis\": {\"backgroundcolor\": \"#E5ECF6\", \"gridcolor\": \"white\", \"gridwidth\": 2, \"linecolor\": \"white\", \"showbackground\": true, \"ticks\": \"\", \"zerolinecolor\": \"white\"}}, \"shapedefaults\": {\"line\": {\"color\": \"#2a3f5f\"}}, \"ternary\": {\"aaxis\": {\"gridcolor\": \"white\", \"linecolor\": \"white\", \"ticks\": \"\"}, \"baxis\": {\"gridcolor\": \"white\", \"linecolor\": \"white\", \"ticks\": \"\"}, \"bgcolor\": \"#E5ECF6\", \"caxis\": {\"gridcolor\": \"white\", \"linecolor\": \"white\", \"ticks\": \"\"}}, \"title\": {\"x\": 0.05}, \"xaxis\": {\"automargin\": true, \"gridcolor\": \"white\", \"linecolor\": \"white\", \"ticks\": \"\", \"title\": {\"standoff\": 15}, \"zerolinecolor\": \"white\", \"zerolinewidth\": 2}, \"yaxis\": {\"automargin\": true, \"gridcolor\": \"white\", \"linecolor\": \"white\", \"ticks\": \"\", \"title\": {\"standoff\": 15}, \"zerolinecolor\": \"white\", \"zerolinewidth\": 2}}}, \"xaxis\": {\"anchor\": \"y\", \"domain\": [0.0, 1.0], \"tickangle\": -45, \"title\": {\"text\": \"Month and Day\"}}, \"yaxis\": {\"anchor\": \"x\", \"domain\": [0.0, 1.0], \"title\": {\"text\": \"Indicator Median\"}}},\n",
       "                        {\"responsive\": true}\n",
       "                    ).then(function(){\n",
       "                            \n",
       "var gd = document.getElementById('e6367a6a-94e4-4e9f-af02-6e4e184f5c65');\n",
       "var x = new MutationObserver(function (mutations, observer) {{\n",
       "        var display = window.getComputedStyle(gd).display;\n",
       "        if (!display || display === 'none') {{\n",
       "            console.log([gd, 'removed!']);\n",
       "            Plotly.purge(gd);\n",
       "            observer.disconnect();\n",
       "        }}\n",
       "}});\n",
       "\n",
       "// Listen for the removal of the full notebook cells\n",
       "var notebookContainer = gd.closest('#notebook-container');\n",
       "if (notebookContainer) {{\n",
       "    x.observe(notebookContainer, {childList: true});\n",
       "}}\n",
       "\n",
       "// Listen for the clearing of the current output cell\n",
       "var outputEl = gd.closest('.output');\n",
       "if (outputEl) {{\n",
       "    x.observe(outputEl, {childList: true});\n",
       "}}\n",
       "\n",
       "                        })\n",
       "                };\n",
       "                });\n",
       "            </script>\n",
       "        </div>"
      ]
     },
     "metadata": {},
     "output_type": "display_data"
    }
   ],
   "source": [
    "figure = line_plot(data_grouped_days, 'pm25', 'Paris')\n",
    "figure.show()"
   ]
  },
  {
   "cell_type": "markdown",
   "metadata": {},
   "source": [
    "# Plot pm10 levels for 2019 and 2020 for Paris"
   ]
  },
  {
   "cell_type": "code",
   "execution_count": 33,
   "metadata": {},
   "outputs": [
    {
     "data": {
      "application/vnd.plotly.v1+json": {
       "config": {
        "plotlyServerURL": "https://plot.ly"
       },
       "data": [
        {
         "hovertemplate": "Year=Y2019<br>DayMonth=%{x}<br>median=%{y}<extra></extra>",
         "legendgroup": "Y2019",
         "line": {
          "color": "#636efa",
          "dash": "solid"
         },
         "mode": "lines",
         "name": "Y2019",
         "orientation": "v",
         "showlegend": true,
         "type": "scatter",
         "x": [
          "Jan 2",
          "Jan 3",
          "Jan 4",
          "Jan 5",
          "Jan 6",
          "Jan 7",
          "Jan 8",
          "Jan 9",
          "Jan 10",
          "Jan 11",
          "Jan 12",
          "Jan 13",
          "Jan 14",
          "Jan 15",
          "Jan 16",
          "Jan 17",
          "Jan 18",
          "Jan 19",
          "Jan 20",
          "Jan 21",
          "Jan 22",
          "Jan 23",
          "Jan 24",
          "Jan 25",
          "Jan 26",
          "Jan 27",
          "Jan 28",
          "Jan 29",
          "Jan 30",
          "Jan 31",
          "Feb 1",
          "Feb 2",
          "Feb 3",
          "Feb 4",
          "Feb 5",
          "Feb 6",
          "Feb 7",
          "Feb 8",
          "Feb 9",
          "Feb 10",
          "Feb 11",
          "Feb 12",
          "Feb 13",
          "Feb 14",
          "Feb 15",
          "Feb 16",
          "Feb 17",
          "Feb 18",
          "Feb 19",
          "Feb 20",
          "Feb 21",
          "Feb 22",
          "Feb 23",
          "Feb 24",
          "Feb 25",
          "Feb 26",
          "Feb 27",
          "Feb 28",
          "Mar 1",
          "Mar 2",
          "Mar 3",
          "Mar 4",
          "Mar 5",
          "Mar 6",
          "Mar 7",
          "Mar 8",
          "Mar 9",
          "Mar 10",
          "Mar 11",
          "Mar 12",
          "Mar 13",
          "Mar 14",
          "Mar 15",
          "Mar 16",
          "Mar 17",
          "Mar 18",
          "Mar 19",
          "Mar 20",
          "Mar 21",
          "Mar 22",
          "Mar 23",
          "Mar 24",
          "Mar 25",
          "Mar 26",
          "Mar 27",
          "Mar 28",
          "Mar 29",
          "Mar 30",
          "Mar 31",
          "Apr 1",
          "Apr 2",
          "Apr 3",
          "Apr 4",
          "Apr 5",
          "Apr 6",
          "Apr 7",
          "Apr 8",
          "Apr 9",
          "Apr 10",
          "Apr 11",
          "Apr 12",
          "Apr 13",
          "Apr 14",
          "Apr 15",
          "Apr 16",
          "Apr 17",
          "Apr 18",
          "Apr 19",
          "Apr 20",
          "Apr 21",
          "Apr 22",
          "Apr 23",
          "Apr 24",
          "Apr 25",
          "Apr 26",
          "Apr 27",
          "Apr 28",
          "Apr 29",
          "Apr 30",
          "May 1",
          "May 2",
          "May 3",
          "May 4",
          "May 5",
          "May 6",
          "May 7",
          "May 8",
          "May 9",
          "May 10",
          "May 11",
          "May 12",
          "May 13",
          "May 14",
          "May 15",
          "May 16",
          "May 17",
          "May 18",
          "May 19"
         ],
         "xaxis": "x",
         "y": [
          18,
          18,
          23,
          23,
          28,
          27,
          18,
          18,
          23,
          22,
          17,
          14,
          17,
          20,
          25,
          13,
          34,
          23,
          24,
          48,
          37,
          17,
          40,
          32,
          10,
          9,
          17,
          19,
          11,
          14,
          20,
          18,
          16,
          25,
          23,
          21,
          17,
          17,
          19,
          9,
          15,
          34,
          42,
          44,
          54,
          57,
          40,
          41,
          25,
          48,
          58,
          62,
          29,
          26,
          40,
          46,
          60,
          42,
          19,
          18,
          18,
          11,
          16,
          18,
          11,
          17,
          14,
          18,
          17,
          21,
          19,
          13,
          10,
          11,
          11,
          15,
          26,
          35,
          37,
          42,
          39,
          42,
          25,
          23,
          33,
          43,
          39,
          36,
          42,
          39,
          29,
          11,
          17,
          18,
          25,
          10,
          27,
          24,
          41,
          32,
          35,
          25,
          26,
          35,
          30,
          25,
          25,
          31,
          23,
          27,
          32,
          36,
          28,
          13,
          15,
          18,
          15,
          23,
          38,
          40,
          40,
          19,
          14,
          16,
          23,
          25,
          13,
          12,
          16,
          12,
          16,
          18,
          20,
          23,
          20,
          29,
          18,
          25
         ],
         "yaxis": "y"
        },
        {
         "hovertemplate": "Year=Y2020<br>DayMonth=%{x}<br>median=%{y}<extra></extra>",
         "legendgroup": "Y2020",
         "line": {
          "color": "#EF553B",
          "dash": "solid"
         },
         "mode": "lines",
         "name": "Y2020",
         "orientation": "v",
         "showlegend": true,
         "type": "scatter",
         "x": [
          "Jan 2",
          "Jan 3",
          "Jan 4",
          "Jan 5",
          "Jan 6",
          "Jan 7",
          "Jan 8",
          "Jan 9",
          "Jan 10",
          "Jan 11",
          "Jan 12",
          "Jan 13",
          "Jan 14",
          "Jan 15",
          "Jan 16",
          "Jan 17",
          "Jan 18",
          "Jan 19",
          "Jan 20",
          "Jan 21",
          "Jan 22",
          "Jan 23",
          "Jan 24",
          "Jan 25",
          "Jan 26",
          "Jan 27",
          "Jan 28",
          "Jan 29",
          "Jan 30",
          "Jan 31",
          "Feb 1",
          "Feb 2",
          "Feb 3",
          "Feb 4",
          "Feb 5",
          "Feb 6",
          "Feb 7",
          "Feb 8",
          "Feb 9",
          "Feb 10",
          "Feb 11",
          "Feb 12",
          "Feb 13",
          "Feb 14",
          "Feb 15",
          "Feb 16",
          "Feb 17",
          "Feb 18",
          "Feb 19",
          "Feb 20",
          "Feb 21",
          "Feb 22",
          "Feb 23",
          "Feb 24",
          "Feb 25",
          "Feb 26",
          "Feb 27",
          "Feb 28",
          "Mar 1",
          "Mar 2",
          "Mar 3",
          "Mar 4",
          "Mar 5",
          "Mar 6",
          "Mar 7",
          "Mar 8",
          "Mar 9",
          "Mar 10",
          "Mar 11",
          "Mar 12",
          "Mar 13",
          "Mar 14",
          "Mar 15",
          "Mar 16",
          "Mar 17",
          "Mar 18",
          "Mar 19",
          "Mar 20",
          "Mar 21",
          "Mar 22",
          "Mar 23",
          "Mar 24",
          "Mar 25",
          "Mar 26",
          "Mar 27",
          "Mar 28",
          "Mar 29",
          "Mar 30",
          "Mar 31",
          "Apr 1",
          "Apr 2",
          "Apr 3",
          "Apr 4",
          "Apr 5",
          "Apr 6",
          "Apr 7",
          "Apr 8",
          "Apr 9",
          "Apr 10",
          "Apr 11",
          "Apr 12",
          "Apr 13",
          "Apr 14",
          "Apr 15",
          "Apr 16",
          "Apr 17",
          "Apr 18",
          "Apr 19",
          "Apr 20",
          "Apr 21",
          "Apr 22",
          "Apr 23",
          "Apr 24",
          "Apr 25",
          "Apr 26",
          "Apr 27",
          "Apr 28",
          "Apr 29",
          "Apr 30",
          "May 1",
          "May 2",
          "May 3",
          "May 4",
          "May 5",
          "May 6",
          "May 7",
          "May 8",
          "May 9",
          "May 10",
          "May 11",
          "May 12",
          "May 13",
          "May 14",
          "May 15",
          "May 16",
          "May 17",
          "May 18",
          "May 19"
         ],
         "xaxis": "x",
         "y": [
          16,
          13,
          18,
          16,
          22,
          19,
          13,
          10,
          13,
          18,
          17,
          13,
          12,
          15,
          21,
          14,
          17,
          23,
          28,
          32,
          38,
          29,
          53,
          58,
          44,
          13,
          9,
          14,
          15,
          7,
          8,
          6,
          12,
          15,
          19,
          28,
          29,
          23,
          13,
          19,
          11,
          17,
          16,
          23,
          26,
          13,
          10,
          15,
          16,
          15,
          18,
          17,
          7,
          7,
          8,
          11,
          13,
          21,
          10,
          9,
          20,
          17,
          12,
          18,
          22,
          15,
          16,
          7,
          10,
          13,
          20,
          16,
          15,
          20,
          31,
          37,
          30,
          39,
          10,
          11,
          13,
          15,
          21,
          23,
          34,
          58,
          21,
          14,
          17,
          22,
          19,
          17,
          18,
          15,
          15,
          21,
          25,
          29,
          30,
          24,
          23,
          22,
          18,
          18,
          21,
          25,
          9,
          27,
          26,
          22,
          24,
          28,
          28,
          22,
          23,
          19,
          12,
          9,
          8,
          10,
          11,
          11,
          14,
          22,
          19,
          20,
          21,
          17,
          11,
          30,
          22,
          23,
          19,
          20,
          18,
          15,
          17,
          16
         ],
         "yaxis": "y"
        }
       ],
       "layout": {
        "legend": {
         "title": {
          "text": "Year"
         },
         "tracegroupgap": 0
        },
        "margin": {
         "t": 60
        },
        "template": {
         "data": {
          "bar": [
           {
            "error_x": {
             "color": "#2a3f5f"
            },
            "error_y": {
             "color": "#2a3f5f"
            },
            "marker": {
             "line": {
              "color": "#E5ECF6",
              "width": 0.5
             }
            },
            "type": "bar"
           }
          ],
          "barpolar": [
           {
            "marker": {
             "line": {
              "color": "#E5ECF6",
              "width": 0.5
             }
            },
            "type": "barpolar"
           }
          ],
          "carpet": [
           {
            "aaxis": {
             "endlinecolor": "#2a3f5f",
             "gridcolor": "white",
             "linecolor": "white",
             "minorgridcolor": "white",
             "startlinecolor": "#2a3f5f"
            },
            "baxis": {
             "endlinecolor": "#2a3f5f",
             "gridcolor": "white",
             "linecolor": "white",
             "minorgridcolor": "white",
             "startlinecolor": "#2a3f5f"
            },
            "type": "carpet"
           }
          ],
          "choropleth": [
           {
            "colorbar": {
             "outlinewidth": 0,
             "ticks": ""
            },
            "type": "choropleth"
           }
          ],
          "contour": [
           {
            "colorbar": {
             "outlinewidth": 0,
             "ticks": ""
            },
            "colorscale": [
             [
              0,
              "#0d0887"
             ],
             [
              0.1111111111111111,
              "#46039f"
             ],
             [
              0.2222222222222222,
              "#7201a8"
             ],
             [
              0.3333333333333333,
              "#9c179e"
             ],
             [
              0.4444444444444444,
              "#bd3786"
             ],
             [
              0.5555555555555556,
              "#d8576b"
             ],
             [
              0.6666666666666666,
              "#ed7953"
             ],
             [
              0.7777777777777778,
              "#fb9f3a"
             ],
             [
              0.8888888888888888,
              "#fdca26"
             ],
             [
              1,
              "#f0f921"
             ]
            ],
            "type": "contour"
           }
          ],
          "contourcarpet": [
           {
            "colorbar": {
             "outlinewidth": 0,
             "ticks": ""
            },
            "type": "contourcarpet"
           }
          ],
          "heatmap": [
           {
            "colorbar": {
             "outlinewidth": 0,
             "ticks": ""
            },
            "colorscale": [
             [
              0,
              "#0d0887"
             ],
             [
              0.1111111111111111,
              "#46039f"
             ],
             [
              0.2222222222222222,
              "#7201a8"
             ],
             [
              0.3333333333333333,
              "#9c179e"
             ],
             [
              0.4444444444444444,
              "#bd3786"
             ],
             [
              0.5555555555555556,
              "#d8576b"
             ],
             [
              0.6666666666666666,
              "#ed7953"
             ],
             [
              0.7777777777777778,
              "#fb9f3a"
             ],
             [
              0.8888888888888888,
              "#fdca26"
             ],
             [
              1,
              "#f0f921"
             ]
            ],
            "type": "heatmap"
           }
          ],
          "heatmapgl": [
           {
            "colorbar": {
             "outlinewidth": 0,
             "ticks": ""
            },
            "colorscale": [
             [
              0,
              "#0d0887"
             ],
             [
              0.1111111111111111,
              "#46039f"
             ],
             [
              0.2222222222222222,
              "#7201a8"
             ],
             [
              0.3333333333333333,
              "#9c179e"
             ],
             [
              0.4444444444444444,
              "#bd3786"
             ],
             [
              0.5555555555555556,
              "#d8576b"
             ],
             [
              0.6666666666666666,
              "#ed7953"
             ],
             [
              0.7777777777777778,
              "#fb9f3a"
             ],
             [
              0.8888888888888888,
              "#fdca26"
             ],
             [
              1,
              "#f0f921"
             ]
            ],
            "type": "heatmapgl"
           }
          ],
          "histogram": [
           {
            "marker": {
             "colorbar": {
              "outlinewidth": 0,
              "ticks": ""
             }
            },
            "type": "histogram"
           }
          ],
          "histogram2d": [
           {
            "colorbar": {
             "outlinewidth": 0,
             "ticks": ""
            },
            "colorscale": [
             [
              0,
              "#0d0887"
             ],
             [
              0.1111111111111111,
              "#46039f"
             ],
             [
              0.2222222222222222,
              "#7201a8"
             ],
             [
              0.3333333333333333,
              "#9c179e"
             ],
             [
              0.4444444444444444,
              "#bd3786"
             ],
             [
              0.5555555555555556,
              "#d8576b"
             ],
             [
              0.6666666666666666,
              "#ed7953"
             ],
             [
              0.7777777777777778,
              "#fb9f3a"
             ],
             [
              0.8888888888888888,
              "#fdca26"
             ],
             [
              1,
              "#f0f921"
             ]
            ],
            "type": "histogram2d"
           }
          ],
          "histogram2dcontour": [
           {
            "colorbar": {
             "outlinewidth": 0,
             "ticks": ""
            },
            "colorscale": [
             [
              0,
              "#0d0887"
             ],
             [
              0.1111111111111111,
              "#46039f"
             ],
             [
              0.2222222222222222,
              "#7201a8"
             ],
             [
              0.3333333333333333,
              "#9c179e"
             ],
             [
              0.4444444444444444,
              "#bd3786"
             ],
             [
              0.5555555555555556,
              "#d8576b"
             ],
             [
              0.6666666666666666,
              "#ed7953"
             ],
             [
              0.7777777777777778,
              "#fb9f3a"
             ],
             [
              0.8888888888888888,
              "#fdca26"
             ],
             [
              1,
              "#f0f921"
             ]
            ],
            "type": "histogram2dcontour"
           }
          ],
          "mesh3d": [
           {
            "colorbar": {
             "outlinewidth": 0,
             "ticks": ""
            },
            "type": "mesh3d"
           }
          ],
          "parcoords": [
           {
            "line": {
             "colorbar": {
              "outlinewidth": 0,
              "ticks": ""
             }
            },
            "type": "parcoords"
           }
          ],
          "pie": [
           {
            "automargin": true,
            "type": "pie"
           }
          ],
          "scatter": [
           {
            "marker": {
             "colorbar": {
              "outlinewidth": 0,
              "ticks": ""
             }
            },
            "type": "scatter"
           }
          ],
          "scatter3d": [
           {
            "line": {
             "colorbar": {
              "outlinewidth": 0,
              "ticks": ""
             }
            },
            "marker": {
             "colorbar": {
              "outlinewidth": 0,
              "ticks": ""
             }
            },
            "type": "scatter3d"
           }
          ],
          "scattercarpet": [
           {
            "marker": {
             "colorbar": {
              "outlinewidth": 0,
              "ticks": ""
             }
            },
            "type": "scattercarpet"
           }
          ],
          "scattergeo": [
           {
            "marker": {
             "colorbar": {
              "outlinewidth": 0,
              "ticks": ""
             }
            },
            "type": "scattergeo"
           }
          ],
          "scattergl": [
           {
            "marker": {
             "colorbar": {
              "outlinewidth": 0,
              "ticks": ""
             }
            },
            "type": "scattergl"
           }
          ],
          "scattermapbox": [
           {
            "marker": {
             "colorbar": {
              "outlinewidth": 0,
              "ticks": ""
             }
            },
            "type": "scattermapbox"
           }
          ],
          "scatterpolar": [
           {
            "marker": {
             "colorbar": {
              "outlinewidth": 0,
              "ticks": ""
             }
            },
            "type": "scatterpolar"
           }
          ],
          "scatterpolargl": [
           {
            "marker": {
             "colorbar": {
              "outlinewidth": 0,
              "ticks": ""
             }
            },
            "type": "scatterpolargl"
           }
          ],
          "scatterternary": [
           {
            "marker": {
             "colorbar": {
              "outlinewidth": 0,
              "ticks": ""
             }
            },
            "type": "scatterternary"
           }
          ],
          "surface": [
           {
            "colorbar": {
             "outlinewidth": 0,
             "ticks": ""
            },
            "colorscale": [
             [
              0,
              "#0d0887"
             ],
             [
              0.1111111111111111,
              "#46039f"
             ],
             [
              0.2222222222222222,
              "#7201a8"
             ],
             [
              0.3333333333333333,
              "#9c179e"
             ],
             [
              0.4444444444444444,
              "#bd3786"
             ],
             [
              0.5555555555555556,
              "#d8576b"
             ],
             [
              0.6666666666666666,
              "#ed7953"
             ],
             [
              0.7777777777777778,
              "#fb9f3a"
             ],
             [
              0.8888888888888888,
              "#fdca26"
             ],
             [
              1,
              "#f0f921"
             ]
            ],
            "type": "surface"
           }
          ],
          "table": [
           {
            "cells": {
             "fill": {
              "color": "#EBF0F8"
             },
             "line": {
              "color": "white"
             }
            },
            "header": {
             "fill": {
              "color": "#C8D4E3"
             },
             "line": {
              "color": "white"
             }
            },
            "type": "table"
           }
          ]
         },
         "layout": {
          "annotationdefaults": {
           "arrowcolor": "#2a3f5f",
           "arrowhead": 0,
           "arrowwidth": 1
          },
          "coloraxis": {
           "colorbar": {
            "outlinewidth": 0,
            "ticks": ""
           }
          },
          "colorscale": {
           "diverging": [
            [
             0,
             "#8e0152"
            ],
            [
             0.1,
             "#c51b7d"
            ],
            [
             0.2,
             "#de77ae"
            ],
            [
             0.3,
             "#f1b6da"
            ],
            [
             0.4,
             "#fde0ef"
            ],
            [
             0.5,
             "#f7f7f7"
            ],
            [
             0.6,
             "#e6f5d0"
            ],
            [
             0.7,
             "#b8e186"
            ],
            [
             0.8,
             "#7fbc41"
            ],
            [
             0.9,
             "#4d9221"
            ],
            [
             1,
             "#276419"
            ]
           ],
           "sequential": [
            [
             0,
             "#0d0887"
            ],
            [
             0.1111111111111111,
             "#46039f"
            ],
            [
             0.2222222222222222,
             "#7201a8"
            ],
            [
             0.3333333333333333,
             "#9c179e"
            ],
            [
             0.4444444444444444,
             "#bd3786"
            ],
            [
             0.5555555555555556,
             "#d8576b"
            ],
            [
             0.6666666666666666,
             "#ed7953"
            ],
            [
             0.7777777777777778,
             "#fb9f3a"
            ],
            [
             0.8888888888888888,
             "#fdca26"
            ],
            [
             1,
             "#f0f921"
            ]
           ],
           "sequentialminus": [
            [
             0,
             "#0d0887"
            ],
            [
             0.1111111111111111,
             "#46039f"
            ],
            [
             0.2222222222222222,
             "#7201a8"
            ],
            [
             0.3333333333333333,
             "#9c179e"
            ],
            [
             0.4444444444444444,
             "#bd3786"
            ],
            [
             0.5555555555555556,
             "#d8576b"
            ],
            [
             0.6666666666666666,
             "#ed7953"
            ],
            [
             0.7777777777777778,
             "#fb9f3a"
            ],
            [
             0.8888888888888888,
             "#fdca26"
            ],
            [
             1,
             "#f0f921"
            ]
           ]
          },
          "colorway": [
           "#636efa",
           "#EF553B",
           "#00cc96",
           "#ab63fa",
           "#FFA15A",
           "#19d3f3",
           "#FF6692",
           "#B6E880",
           "#FF97FF",
           "#FECB52"
          ],
          "font": {
           "color": "#2a3f5f"
          },
          "geo": {
           "bgcolor": "white",
           "lakecolor": "white",
           "landcolor": "#E5ECF6",
           "showlakes": true,
           "showland": true,
           "subunitcolor": "white"
          },
          "hoverlabel": {
           "align": "left"
          },
          "hovermode": "closest",
          "mapbox": {
           "style": "light"
          },
          "paper_bgcolor": "white",
          "plot_bgcolor": "#E5ECF6",
          "polar": {
           "angularaxis": {
            "gridcolor": "white",
            "linecolor": "white",
            "ticks": ""
           },
           "bgcolor": "#E5ECF6",
           "radialaxis": {
            "gridcolor": "white",
            "linecolor": "white",
            "ticks": ""
           }
          },
          "scene": {
           "xaxis": {
            "backgroundcolor": "#E5ECF6",
            "gridcolor": "white",
            "gridwidth": 2,
            "linecolor": "white",
            "showbackground": true,
            "ticks": "",
            "zerolinecolor": "white"
           },
           "yaxis": {
            "backgroundcolor": "#E5ECF6",
            "gridcolor": "white",
            "gridwidth": 2,
            "linecolor": "white",
            "showbackground": true,
            "ticks": "",
            "zerolinecolor": "white"
           },
           "zaxis": {
            "backgroundcolor": "#E5ECF6",
            "gridcolor": "white",
            "gridwidth": 2,
            "linecolor": "white",
            "showbackground": true,
            "ticks": "",
            "zerolinecolor": "white"
           }
          },
          "shapedefaults": {
           "line": {
            "color": "#2a3f5f"
           }
          },
          "ternary": {
           "aaxis": {
            "gridcolor": "white",
            "linecolor": "white",
            "ticks": ""
           },
           "baxis": {
            "gridcolor": "white",
            "linecolor": "white",
            "ticks": ""
           },
           "bgcolor": "#E5ECF6",
           "caxis": {
            "gridcolor": "white",
            "linecolor": "white",
            "ticks": ""
           }
          },
          "title": {
           "x": 0.05
          },
          "xaxis": {
           "automargin": true,
           "gridcolor": "white",
           "linecolor": "white",
           "ticks": "",
           "title": {
            "standoff": 15
           },
           "zerolinecolor": "white",
           "zerolinewidth": 2
          },
          "yaxis": {
           "automargin": true,
           "gridcolor": "white",
           "linecolor": "white",
           "ticks": "",
           "title": {
            "standoff": 15
           },
           "zerolinecolor": "white",
           "zerolinewidth": 2
          }
         }
        },
        "xaxis": {
         "anchor": "y",
         "domain": [
          0,
          1
         ],
         "tickangle": -45,
         "title": {
          "text": "Month and Day"
         }
        },
        "yaxis": {
         "anchor": "x",
         "domain": [
          0,
          1
         ],
         "title": {
          "text": "Indicator Median"
         }
        }
       }
      },
      "text/html": [
       "<div>\n",
       "        \n",
       "        \n",
       "            <div id=\"ce69370a-17ff-43fb-aba9-0fc4422bbb7d\" class=\"plotly-graph-div\" style=\"height:525px; width:100%;\"></div>\n",
       "            <script type=\"text/javascript\">\n",
       "                require([\"plotly\"], function(Plotly) {\n",
       "                    window.PLOTLYENV=window.PLOTLYENV || {};\n",
       "                    \n",
       "                if (document.getElementById(\"ce69370a-17ff-43fb-aba9-0fc4422bbb7d\")) {\n",
       "                    Plotly.newPlot(\n",
       "                        'ce69370a-17ff-43fb-aba9-0fc4422bbb7d',\n",
       "                        [{\"hovertemplate\": \"Year=Y2019<br>DayMonth=%{x}<br>median=%{y}<extra></extra>\", \"legendgroup\": \"Y2019\", \"line\": {\"color\": \"#636efa\", \"dash\": \"solid\"}, \"mode\": \"lines\", \"name\": \"Y2019\", \"orientation\": \"v\", \"showlegend\": true, \"type\": \"scatter\", \"x\": [\"Jan 2\", \"Jan 3\", \"Jan 4\", \"Jan 5\", \"Jan 6\", \"Jan 7\", \"Jan 8\", \"Jan 9\", \"Jan 10\", \"Jan 11\", \"Jan 12\", \"Jan 13\", \"Jan 14\", \"Jan 15\", \"Jan 16\", \"Jan 17\", \"Jan 18\", \"Jan 19\", \"Jan 20\", \"Jan 21\", \"Jan 22\", \"Jan 23\", \"Jan 24\", \"Jan 25\", \"Jan 26\", \"Jan 27\", \"Jan 28\", \"Jan 29\", \"Jan 30\", \"Jan 31\", \"Feb 1\", \"Feb 2\", \"Feb 3\", \"Feb 4\", \"Feb 5\", \"Feb 6\", \"Feb 7\", \"Feb 8\", \"Feb 9\", \"Feb 10\", \"Feb 11\", \"Feb 12\", \"Feb 13\", \"Feb 14\", \"Feb 15\", \"Feb 16\", \"Feb 17\", \"Feb 18\", \"Feb 19\", \"Feb 20\", \"Feb 21\", \"Feb 22\", \"Feb 23\", \"Feb 24\", \"Feb 25\", \"Feb 26\", \"Feb 27\", \"Feb 28\", \"Mar 1\", \"Mar 2\", \"Mar 3\", \"Mar 4\", \"Mar 5\", \"Mar 6\", \"Mar 7\", \"Mar 8\", \"Mar 9\", \"Mar 10\", \"Mar 11\", \"Mar 12\", \"Mar 13\", \"Mar 14\", \"Mar 15\", \"Mar 16\", \"Mar 17\", \"Mar 18\", \"Mar 19\", \"Mar 20\", \"Mar 21\", \"Mar 22\", \"Mar 23\", \"Mar 24\", \"Mar 25\", \"Mar 26\", \"Mar 27\", \"Mar 28\", \"Mar 29\", \"Mar 30\", \"Mar 31\", \"Apr 1\", \"Apr 2\", \"Apr 3\", \"Apr 4\", \"Apr 5\", \"Apr 6\", \"Apr 7\", \"Apr 8\", \"Apr 9\", \"Apr 10\", \"Apr 11\", \"Apr 12\", \"Apr 13\", \"Apr 14\", \"Apr 15\", \"Apr 16\", \"Apr 17\", \"Apr 18\", \"Apr 19\", \"Apr 20\", \"Apr 21\", \"Apr 22\", \"Apr 23\", \"Apr 24\", \"Apr 25\", \"Apr 26\", \"Apr 27\", \"Apr 28\", \"Apr 29\", \"Apr 30\", \"May 1\", \"May 2\", \"May 3\", \"May 4\", \"May 5\", \"May 6\", \"May 7\", \"May 8\", \"May 9\", \"May 10\", \"May 11\", \"May 12\", \"May 13\", \"May 14\", \"May 15\", \"May 16\", \"May 17\", \"May 18\", \"May 19\"], \"xaxis\": \"x\", \"y\": [18.0, 18.0, 23.0, 23.0, 28.0, 27.0, 18.0, 18.0, 23.0, 22.0, 17.0, 14.0, 17.0, 20.0, 25.0, 13.0, 34.0, 23.0, 24.0, 48.0, 37.0, 17.0, 40.0, 32.0, 10.0, 9.0, 17.0, 19.0, 11.0, 14.0, 20.0, 18.0, 16.0, 25.0, 23.0, 21.0, 17.0, 17.0, 19.0, 9.0, 15.0, 34.0, 42.0, 44.0, 54.0, 57.0, 40.0, 41.0, 25.0, 48.0, 58.0, 62.0, 29.0, 26.0, 40.0, 46.0, 60.0, 42.0, 19.0, 18.0, 18.0, 11.0, 16.0, 18.0, 11.0, 17.0, 14.0, 18.0, 17.0, 21.0, 19.0, 13.0, 10.0, 11.0, 11.0, 15.0, 26.0, 35.0, 37.0, 42.0, 39.0, 42.0, 25.0, 23.0, 33.0, 43.0, 39.0, 36.0, 42.0, 39.0, 29.0, 11.0, 17.0, 18.0, 25.0, 10.0, 27.0, 24.0, 41.0, 32.0, 35.0, 25.0, 26.0, 35.0, 30.0, 25.0, 25.0, 31.0, 23.0, 27.0, 32.0, 36.0, 28.0, 13.0, 15.0, 18.0, 15.0, 23.0, 38.0, 40.0, 40.0, 19.0, 14.0, 16.0, 23.0, 25.0, 13.0, 12.0, 16.0, 12.0, 16.0, 18.0, 20.0, 23.0, 20.0, 29.0, 18.0, 25.0], \"yaxis\": \"y\"}, {\"hovertemplate\": \"Year=Y2020<br>DayMonth=%{x}<br>median=%{y}<extra></extra>\", \"legendgroup\": \"Y2020\", \"line\": {\"color\": \"#EF553B\", \"dash\": \"solid\"}, \"mode\": \"lines\", \"name\": \"Y2020\", \"orientation\": \"v\", \"showlegend\": true, \"type\": \"scatter\", \"x\": [\"Jan 2\", \"Jan 3\", \"Jan 4\", \"Jan 5\", \"Jan 6\", \"Jan 7\", \"Jan 8\", \"Jan 9\", \"Jan 10\", \"Jan 11\", \"Jan 12\", \"Jan 13\", \"Jan 14\", \"Jan 15\", \"Jan 16\", \"Jan 17\", \"Jan 18\", \"Jan 19\", \"Jan 20\", \"Jan 21\", \"Jan 22\", \"Jan 23\", \"Jan 24\", \"Jan 25\", \"Jan 26\", \"Jan 27\", \"Jan 28\", \"Jan 29\", \"Jan 30\", \"Jan 31\", \"Feb 1\", \"Feb 2\", \"Feb 3\", \"Feb 4\", \"Feb 5\", \"Feb 6\", \"Feb 7\", \"Feb 8\", \"Feb 9\", \"Feb 10\", \"Feb 11\", \"Feb 12\", \"Feb 13\", \"Feb 14\", \"Feb 15\", \"Feb 16\", \"Feb 17\", \"Feb 18\", \"Feb 19\", \"Feb 20\", \"Feb 21\", \"Feb 22\", \"Feb 23\", \"Feb 24\", \"Feb 25\", \"Feb 26\", \"Feb 27\", \"Feb 28\", \"Mar 1\", \"Mar 2\", \"Mar 3\", \"Mar 4\", \"Mar 5\", \"Mar 6\", \"Mar 7\", \"Mar 8\", \"Mar 9\", \"Mar 10\", \"Mar 11\", \"Mar 12\", \"Mar 13\", \"Mar 14\", \"Mar 15\", \"Mar 16\", \"Mar 17\", \"Mar 18\", \"Mar 19\", \"Mar 20\", \"Mar 21\", \"Mar 22\", \"Mar 23\", \"Mar 24\", \"Mar 25\", \"Mar 26\", \"Mar 27\", \"Mar 28\", \"Mar 29\", \"Mar 30\", \"Mar 31\", \"Apr 1\", \"Apr 2\", \"Apr 3\", \"Apr 4\", \"Apr 5\", \"Apr 6\", \"Apr 7\", \"Apr 8\", \"Apr 9\", \"Apr 10\", \"Apr 11\", \"Apr 12\", \"Apr 13\", \"Apr 14\", \"Apr 15\", \"Apr 16\", \"Apr 17\", \"Apr 18\", \"Apr 19\", \"Apr 20\", \"Apr 21\", \"Apr 22\", \"Apr 23\", \"Apr 24\", \"Apr 25\", \"Apr 26\", \"Apr 27\", \"Apr 28\", \"Apr 29\", \"Apr 30\", \"May 1\", \"May 2\", \"May 3\", \"May 4\", \"May 5\", \"May 6\", \"May 7\", \"May 8\", \"May 9\", \"May 10\", \"May 11\", \"May 12\", \"May 13\", \"May 14\", \"May 15\", \"May 16\", \"May 17\", \"May 18\", \"May 19\"], \"xaxis\": \"x\", \"y\": [16.0, 13.0, 18.0, 16.0, 22.0, 19.0, 13.0, 10.0, 13.0, 18.0, 17.0, 13.0, 12.0, 15.0, 21.0, 14.0, 17.0, 23.0, 28.0, 32.0, 38.0, 29.0, 53.0, 58.0, 44.0, 13.0, 9.0, 14.0, 15.0, 7.0, 8.0, 6.0, 12.0, 15.0, 19.0, 28.0, 29.0, 23.0, 13.0, 19.0, 11.0, 17.0, 16.0, 23.0, 26.0, 13.0, 10.0, 15.0, 16.0, 15.0, 18.0, 17.0, 7.0, 7.0, 8.0, 11.0, 13.0, 21.0, 10.0, 9.0, 20.0, 17.0, 12.0, 18.0, 22.0, 15.0, 16.0, 7.0, 10.0, 13.0, 20.0, 16.0, 15.0, 20.0, 31.0, 37.0, 30.0, 39.0, 10.0, 11.0, 13.0, 15.0, 21.0, 23.0, 34.0, 58.0, 21.0, 14.0, 17.0, 22.0, 19.0, 17.0, 18.0, 15.0, 15.0, 21.0, 25.0, 29.0, 30.0, 24.0, 23.0, 22.0, 18.0, 18.0, 21.0, 25.0, 9.0, 27.0, 26.0, 22.0, 24.0, 28.0, 28.0, 22.0, 23.0, 19.0, 12.0, 9.0, 8.0, 10.0, 11.0, 11.0, 14.0, 22.0, 19.0, 20.0, 21.0, 17.0, 11.0, 30.0, 22.0, 23.0, 19.0, 20.0, 18.0, 15.0, 17.0, 16.0], \"yaxis\": \"y\"}],\n",
       "                        {\"legend\": {\"title\": {\"text\": \"Year\"}, \"tracegroupgap\": 0}, \"margin\": {\"t\": 60}, \"template\": {\"data\": {\"bar\": [{\"error_x\": {\"color\": \"#2a3f5f\"}, \"error_y\": {\"color\": \"#2a3f5f\"}, \"marker\": {\"line\": {\"color\": \"#E5ECF6\", \"width\": 0.5}}, \"type\": \"bar\"}], \"barpolar\": [{\"marker\": {\"line\": {\"color\": \"#E5ECF6\", \"width\": 0.5}}, \"type\": \"barpolar\"}], \"carpet\": [{\"aaxis\": {\"endlinecolor\": \"#2a3f5f\", \"gridcolor\": \"white\", \"linecolor\": \"white\", \"minorgridcolor\": \"white\", \"startlinecolor\": \"#2a3f5f\"}, \"baxis\": {\"endlinecolor\": \"#2a3f5f\", \"gridcolor\": \"white\", \"linecolor\": \"white\", \"minorgridcolor\": \"white\", \"startlinecolor\": \"#2a3f5f\"}, \"type\": \"carpet\"}], \"choropleth\": [{\"colorbar\": {\"outlinewidth\": 0, \"ticks\": \"\"}, \"type\": \"choropleth\"}], \"contour\": [{\"colorbar\": {\"outlinewidth\": 0, \"ticks\": \"\"}, \"colorscale\": [[0.0, \"#0d0887\"], [0.1111111111111111, \"#46039f\"], [0.2222222222222222, \"#7201a8\"], [0.3333333333333333, \"#9c179e\"], [0.4444444444444444, \"#bd3786\"], [0.5555555555555556, \"#d8576b\"], [0.6666666666666666, \"#ed7953\"], [0.7777777777777778, \"#fb9f3a\"], [0.8888888888888888, \"#fdca26\"], [1.0, \"#f0f921\"]], \"type\": \"contour\"}], \"contourcarpet\": [{\"colorbar\": {\"outlinewidth\": 0, \"ticks\": \"\"}, \"type\": \"contourcarpet\"}], \"heatmap\": [{\"colorbar\": {\"outlinewidth\": 0, \"ticks\": \"\"}, \"colorscale\": [[0.0, \"#0d0887\"], [0.1111111111111111, \"#46039f\"], [0.2222222222222222, \"#7201a8\"], [0.3333333333333333, \"#9c179e\"], [0.4444444444444444, \"#bd3786\"], [0.5555555555555556, \"#d8576b\"], [0.6666666666666666, \"#ed7953\"], [0.7777777777777778, \"#fb9f3a\"], [0.8888888888888888, \"#fdca26\"], [1.0, \"#f0f921\"]], \"type\": \"heatmap\"}], \"heatmapgl\": [{\"colorbar\": {\"outlinewidth\": 0, \"ticks\": \"\"}, \"colorscale\": [[0.0, \"#0d0887\"], [0.1111111111111111, \"#46039f\"], [0.2222222222222222, \"#7201a8\"], [0.3333333333333333, \"#9c179e\"], [0.4444444444444444, \"#bd3786\"], [0.5555555555555556, \"#d8576b\"], [0.6666666666666666, \"#ed7953\"], [0.7777777777777778, \"#fb9f3a\"], [0.8888888888888888, \"#fdca26\"], [1.0, \"#f0f921\"]], \"type\": \"heatmapgl\"}], \"histogram\": [{\"marker\": {\"colorbar\": {\"outlinewidth\": 0, \"ticks\": \"\"}}, \"type\": \"histogram\"}], \"histogram2d\": [{\"colorbar\": {\"outlinewidth\": 0, \"ticks\": \"\"}, \"colorscale\": [[0.0, \"#0d0887\"], [0.1111111111111111, \"#46039f\"], [0.2222222222222222, \"#7201a8\"], [0.3333333333333333, \"#9c179e\"], [0.4444444444444444, \"#bd3786\"], [0.5555555555555556, \"#d8576b\"], [0.6666666666666666, \"#ed7953\"], [0.7777777777777778, \"#fb9f3a\"], [0.8888888888888888, \"#fdca26\"], [1.0, \"#f0f921\"]], \"type\": \"histogram2d\"}], \"histogram2dcontour\": [{\"colorbar\": {\"outlinewidth\": 0, \"ticks\": \"\"}, \"colorscale\": [[0.0, \"#0d0887\"], [0.1111111111111111, \"#46039f\"], [0.2222222222222222, \"#7201a8\"], [0.3333333333333333, \"#9c179e\"], [0.4444444444444444, \"#bd3786\"], [0.5555555555555556, \"#d8576b\"], [0.6666666666666666, \"#ed7953\"], [0.7777777777777778, \"#fb9f3a\"], [0.8888888888888888, \"#fdca26\"], [1.0, \"#f0f921\"]], \"type\": \"histogram2dcontour\"}], \"mesh3d\": [{\"colorbar\": {\"outlinewidth\": 0, \"ticks\": \"\"}, \"type\": \"mesh3d\"}], \"parcoords\": [{\"line\": {\"colorbar\": {\"outlinewidth\": 0, \"ticks\": \"\"}}, \"type\": \"parcoords\"}], \"pie\": [{\"automargin\": true, \"type\": \"pie\"}], \"scatter\": [{\"marker\": {\"colorbar\": {\"outlinewidth\": 0, \"ticks\": \"\"}}, \"type\": \"scatter\"}], \"scatter3d\": [{\"line\": {\"colorbar\": {\"outlinewidth\": 0, \"ticks\": \"\"}}, \"marker\": {\"colorbar\": {\"outlinewidth\": 0, \"ticks\": \"\"}}, \"type\": \"scatter3d\"}], \"scattercarpet\": [{\"marker\": {\"colorbar\": {\"outlinewidth\": 0, \"ticks\": \"\"}}, \"type\": \"scattercarpet\"}], \"scattergeo\": [{\"marker\": {\"colorbar\": {\"outlinewidth\": 0, \"ticks\": \"\"}}, \"type\": \"scattergeo\"}], \"scattergl\": [{\"marker\": {\"colorbar\": {\"outlinewidth\": 0, \"ticks\": \"\"}}, \"type\": \"scattergl\"}], \"scattermapbox\": [{\"marker\": {\"colorbar\": {\"outlinewidth\": 0, \"ticks\": \"\"}}, \"type\": \"scattermapbox\"}], \"scatterpolar\": [{\"marker\": {\"colorbar\": {\"outlinewidth\": 0, \"ticks\": \"\"}}, \"type\": \"scatterpolar\"}], \"scatterpolargl\": [{\"marker\": {\"colorbar\": {\"outlinewidth\": 0, \"ticks\": \"\"}}, \"type\": \"scatterpolargl\"}], \"scatterternary\": [{\"marker\": {\"colorbar\": {\"outlinewidth\": 0, \"ticks\": \"\"}}, \"type\": \"scatterternary\"}], \"surface\": [{\"colorbar\": {\"outlinewidth\": 0, \"ticks\": \"\"}, \"colorscale\": [[0.0, \"#0d0887\"], [0.1111111111111111, \"#46039f\"], [0.2222222222222222, \"#7201a8\"], [0.3333333333333333, \"#9c179e\"], [0.4444444444444444, \"#bd3786\"], [0.5555555555555556, \"#d8576b\"], [0.6666666666666666, \"#ed7953\"], [0.7777777777777778, \"#fb9f3a\"], [0.8888888888888888, \"#fdca26\"], [1.0, \"#f0f921\"]], \"type\": \"surface\"}], \"table\": [{\"cells\": {\"fill\": {\"color\": \"#EBF0F8\"}, \"line\": {\"color\": \"white\"}}, \"header\": {\"fill\": {\"color\": \"#C8D4E3\"}, \"line\": {\"color\": \"white\"}}, \"type\": \"table\"}]}, \"layout\": {\"annotationdefaults\": {\"arrowcolor\": \"#2a3f5f\", \"arrowhead\": 0, \"arrowwidth\": 1}, \"coloraxis\": {\"colorbar\": {\"outlinewidth\": 0, \"ticks\": \"\"}}, \"colorscale\": {\"diverging\": [[0, \"#8e0152\"], [0.1, \"#c51b7d\"], [0.2, \"#de77ae\"], [0.3, \"#f1b6da\"], [0.4, \"#fde0ef\"], [0.5, \"#f7f7f7\"], [0.6, \"#e6f5d0\"], [0.7, \"#b8e186\"], [0.8, \"#7fbc41\"], [0.9, \"#4d9221\"], [1, \"#276419\"]], \"sequential\": [[0.0, \"#0d0887\"], [0.1111111111111111, \"#46039f\"], [0.2222222222222222, \"#7201a8\"], [0.3333333333333333, \"#9c179e\"], [0.4444444444444444, \"#bd3786\"], [0.5555555555555556, \"#d8576b\"], [0.6666666666666666, \"#ed7953\"], [0.7777777777777778, \"#fb9f3a\"], [0.8888888888888888, \"#fdca26\"], [1.0, \"#f0f921\"]], \"sequentialminus\": [[0.0, \"#0d0887\"], [0.1111111111111111, \"#46039f\"], [0.2222222222222222, \"#7201a8\"], [0.3333333333333333, \"#9c179e\"], [0.4444444444444444, \"#bd3786\"], [0.5555555555555556, \"#d8576b\"], [0.6666666666666666, \"#ed7953\"], [0.7777777777777778, \"#fb9f3a\"], [0.8888888888888888, \"#fdca26\"], [1.0, \"#f0f921\"]]}, \"colorway\": [\"#636efa\", \"#EF553B\", \"#00cc96\", \"#ab63fa\", \"#FFA15A\", \"#19d3f3\", \"#FF6692\", \"#B6E880\", \"#FF97FF\", \"#FECB52\"], \"font\": {\"color\": \"#2a3f5f\"}, \"geo\": {\"bgcolor\": \"white\", \"lakecolor\": \"white\", \"landcolor\": \"#E5ECF6\", \"showlakes\": true, \"showland\": true, \"subunitcolor\": \"white\"}, \"hoverlabel\": {\"align\": \"left\"}, \"hovermode\": \"closest\", \"mapbox\": {\"style\": \"light\"}, \"paper_bgcolor\": \"white\", \"plot_bgcolor\": \"#E5ECF6\", \"polar\": {\"angularaxis\": {\"gridcolor\": \"white\", \"linecolor\": \"white\", \"ticks\": \"\"}, \"bgcolor\": \"#E5ECF6\", \"radialaxis\": {\"gridcolor\": \"white\", \"linecolor\": \"white\", \"ticks\": \"\"}}, \"scene\": {\"xaxis\": {\"backgroundcolor\": \"#E5ECF6\", \"gridcolor\": \"white\", \"gridwidth\": 2, \"linecolor\": \"white\", \"showbackground\": true, \"ticks\": \"\", \"zerolinecolor\": \"white\"}, \"yaxis\": {\"backgroundcolor\": \"#E5ECF6\", \"gridcolor\": \"white\", \"gridwidth\": 2, \"linecolor\": \"white\", \"showbackground\": true, \"ticks\": \"\", \"zerolinecolor\": \"white\"}, \"zaxis\": {\"backgroundcolor\": \"#E5ECF6\", \"gridcolor\": \"white\", \"gridwidth\": 2, \"linecolor\": \"white\", \"showbackground\": true, \"ticks\": \"\", \"zerolinecolor\": \"white\"}}, \"shapedefaults\": {\"line\": {\"color\": \"#2a3f5f\"}}, \"ternary\": {\"aaxis\": {\"gridcolor\": \"white\", \"linecolor\": \"white\", \"ticks\": \"\"}, \"baxis\": {\"gridcolor\": \"white\", \"linecolor\": \"white\", \"ticks\": \"\"}, \"bgcolor\": \"#E5ECF6\", \"caxis\": {\"gridcolor\": \"white\", \"linecolor\": \"white\", \"ticks\": \"\"}}, \"title\": {\"x\": 0.05}, \"xaxis\": {\"automargin\": true, \"gridcolor\": \"white\", \"linecolor\": \"white\", \"ticks\": \"\", \"title\": {\"standoff\": 15}, \"zerolinecolor\": \"white\", \"zerolinewidth\": 2}, \"yaxis\": {\"automargin\": true, \"gridcolor\": \"white\", \"linecolor\": \"white\", \"ticks\": \"\", \"title\": {\"standoff\": 15}, \"zerolinecolor\": \"white\", \"zerolinewidth\": 2}}}, \"xaxis\": {\"anchor\": \"y\", \"domain\": [0.0, 1.0], \"tickangle\": -45, \"title\": {\"text\": \"Month and Day\"}}, \"yaxis\": {\"anchor\": \"x\", \"domain\": [0.0, 1.0], \"title\": {\"text\": \"Indicator Median\"}}},\n",
       "                        {\"responsive\": true}\n",
       "                    ).then(function(){\n",
       "                            \n",
       "var gd = document.getElementById('ce69370a-17ff-43fb-aba9-0fc4422bbb7d');\n",
       "var x = new MutationObserver(function (mutations, observer) {{\n",
       "        var display = window.getComputedStyle(gd).display;\n",
       "        if (!display || display === 'none') {{\n",
       "            console.log([gd, 'removed!']);\n",
       "            Plotly.purge(gd);\n",
       "            observer.disconnect();\n",
       "        }}\n",
       "}});\n",
       "\n",
       "// Listen for the removal of the full notebook cells\n",
       "var notebookContainer = gd.closest('#notebook-container');\n",
       "if (notebookContainer) {{\n",
       "    x.observe(notebookContainer, {childList: true});\n",
       "}}\n",
       "\n",
       "// Listen for the clearing of the current output cell\n",
       "var outputEl = gd.closest('.output');\n",
       "if (outputEl) {{\n",
       "    x.observe(outputEl, {childList: true});\n",
       "}}\n",
       "\n",
       "                        })\n",
       "                };\n",
       "                });\n",
       "            </script>\n",
       "        </div>"
      ]
     },
     "metadata": {},
     "output_type": "display_data"
    }
   ],
   "source": [
    "figure = line_plot(data_grouped_days, 'pm10', 'Paris')\n",
    "figure.show()"
   ]
  },
  {
   "cell_type": "markdown",
   "metadata": {},
   "source": [
    "# Conclusion\n",
    "1. We can see a difference in the variable of no2 that is directly impacted by car usage.\n",
    "2. We see the same patterns for pm25 and pm10\n",
    "3. We don't see a difference in o3, in fact o3 is higher in 2020 than 2019\n",
    "\n",
    "In this context, for the city of Paris, we can use three variable to calculate the quality of the air for our application: no2, pm25 and pm10."
   ]
  },
  {
   "cell_type": "code",
   "execution_count": null,
   "metadata": {},
   "outputs": [],
   "source": []
  }
 ],
 "metadata": {
  "kernelspec": {
   "display_name": "Python 3",
   "language": "python",
   "name": "python3"
  },
  "language_info": {
   "codemirror_mode": {
    "name": "ipython",
    "version": 3
   },
   "file_extension": ".py",
   "mimetype": "text/x-python",
   "name": "python",
   "nbconvert_exporter": "python",
   "pygments_lexer": "ipython3",
   "version": "3.7.6"
  }
 },
 "nbformat": 4,
 "nbformat_minor": 4
}
